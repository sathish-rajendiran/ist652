{
 "cells": [
  {
   "cell_type": "markdown",
   "metadata": {},
   "source": [
    "Week 2 - Group Your group will have 15 minutes to write a program that:\n",
    "     1. prompts a user for their name \n",
    "     2. and then welcomes them. \n",
    "     3. Then prompt them to enter a Celsius temperature, \n",
    "     4. convert the temperature to Fahrenheit and \n",
    "     5. print out:\n",
    "\ta. their name, \n",
    "\tb. the temperature entered,\n",
    "\tc. and the converted temperature.\n",
    "Consider checking for errors in what the user enters.\n",
    "\n",
    "Your group will report back with the code written and the results.\n",
    "Make sure someone is ready to share their screen and walk through your code.\n",
    "\n",
    "formula for conversion:\n",
    "       fahren = (9/5 * cel) + 32\n",
    "\n",
    "Run the code at least 3 times to try different values\n"
   ]
  },
  {
   "cell_type": "code",
   "execution_count": null,
   "metadata": {},
   "outputs": [
    {
     "name": "stdout",
     "output_type": "stream",
     "text": [
      "\n",
      "Enter Your Name: Sathish\n",
      "\n",
      "Welcome Sathish !\n",
      "\n",
      "Enter Value in Celcius Degree:32.5\n",
      "\n",
      " User Name: Sathish \n",
      " Temperature(Celcius):  32.5 \n",
      " Temperature(Fahrenheit): 90.5 \n",
      "\n",
      "************************\n",
      "\n"
     ]
    }
   ],
   "source": [
    "#Class work\n",
    "\n",
    "while True:\n",
    "    inp = input('\\nEnter Your Name: ')\n",
    "    if inp == 'Done':  #Enter \"Done\" to exit\n",
    "        break\n",
    "    else:\n",
    "        print('\\nWelcome',inp,'!') # print Welcome + User Name\n",
    "        try:\n",
    "            cel = input('\\nEnter Value in Celcius Degree:')  #input degree celcius value\n",
    "            fahren = (9/5 * float(cel)) + 32 #formula to calculate temperature in fahrenheit\n",
    "            #print all values \n",
    "            print('\\n User Name:',inp,'\\n','Temperature(Celcius): ',cel,'\\n','Temperature(Fahrenheit):',fahren,'\\n\\n************************\\n') \n",
    "        except ValueError:\n",
    "            print('Enter a number')\n",
    "        \n",
    "print('\\nBroke out of loop') \n"
   ]
  },
  {
   "cell_type": "markdown",
   "metadata": {},
   "source": [
    "Week2 - Async Exercise"
   ]
  },
  {
   "cell_type": "markdown",
   "metadata": {},
   "source": [
    "Activity"
   ]
  },
  {
   "cell_type": "code",
   "execution_count": null,
   "metadata": {},
   "outputs": [],
   "source": [
    "str = 'X-DSPAM-Confidence:0.8475' #input string\n",
    "nbr = str.find(':')+1 # find index of ':' then add by 1 to get the decimal value\n",
    "x=float(str[nbr:])  # convert to float\n",
    "print('The Confidence score is {:.2f}'.format(x))  # print the floating point number with two decimals"
   ]
  },
  {
   "cell_type": "code",
   "execution_count": null,
   "metadata": {},
   "outputs": [],
   "source": [
    "fruitstr ='bananas'\n",
    "fruitstr[0]"
   ]
  },
  {
   "cell_type": "code",
   "execution_count": null,
   "metadata": {},
   "outputs": [],
   "source": [
    "fruitstr[3]"
   ]
  },
  {
   "cell_type": "code",
   "execution_count": null,
   "metadata": {},
   "outputs": [],
   "source": [
    "len(fruitstr)"
   ]
  },
  {
   "cell_type": "code",
   "execution_count": null,
   "metadata": {},
   "outputs": [],
   "source": [
    "fruitstr[:3]"
   ]
  },
  {
   "cell_type": "code",
   "execution_count": null,
   "metadata": {},
   "outputs": [],
   "source": [
    "fruitstr[2:3]"
   ]
  },
  {
   "cell_type": "code",
   "execution_count": null,
   "metadata": {},
   "outputs": [],
   "source": [
    "fruitstr[3:1]"
   ]
  },
  {
   "cell_type": "code",
   "execution_count": null,
   "metadata": {},
   "outputs": [],
   "source": [
    "for chr in fruitstr:\n",
    "    print(chr)"
   ]
  },
  {
   "cell_type": "code",
   "execution_count": null,
   "metadata": {},
   "outputs": [],
   "source": [
    "fruitlist =['apple','banana','orange']"
   ]
  },
  {
   "cell_type": "code",
   "execution_count": null,
   "metadata": {},
   "outputs": [],
   "source": [
    "fruitlist[0]"
   ]
  },
  {
   "cell_type": "code",
   "execution_count": null,
   "metadata": {},
   "outputs": [],
   "source": [
    "fruitlist[0]='grape'"
   ]
  },
  {
   "cell_type": "code",
   "execution_count": null,
   "metadata": {},
   "outputs": [],
   "source": [
    "fruitlist[0]"
   ]
  },
  {
   "cell_type": "code",
   "execution_count": null,
   "metadata": {},
   "outputs": [],
   "source": [
    "'grape' in fruitlist"
   ]
  },
  {
   "cell_type": "code",
   "execution_count": null,
   "metadata": {},
   "outputs": [],
   "source": [
    "'s' in fruitstr"
   ]
  },
  {
   "cell_type": "code",
   "execution_count": null,
   "metadata": {},
   "outputs": [],
   "source": [
    "dir(str)"
   ]
  },
  {
   "cell_type": "code",
   "execution_count": null,
   "metadata": {},
   "outputs": [],
   "source": [
    "mp ='monty python'"
   ]
  },
  {
   "cell_type": "code",
   "execution_count": null,
   "metadata": {},
   "outputs": [],
   "source": [
    "mp.lower()"
   ]
  },
  {
   "cell_type": "code",
   "execution_count": null,
   "metadata": {},
   "outputs": [],
   "source": [
    "mp.upper()\n"
   ]
  },
  {
   "cell_type": "code",
   "execution_count": null,
   "metadata": {},
   "outputs": [],
   "source": [
    "mp.swapcase()"
   ]
  },
  {
   "cell_type": "code",
   "execution_count": null,
   "metadata": {},
   "outputs": [],
   "source": [
    "mp"
   ]
  },
  {
   "cell_type": "code",
   "execution_count": null,
   "metadata": {},
   "outputs": [],
   "source": [
    "mp ='Today is a Great DAY'\n",
    "mplower = mp.lower()\n",
    "print('\\n mp.lower is -> ',mplower)\n",
    "mpupper = mp.upper()\n",
    "print('\\n mp.upper is ->',mpupper)\n",
    "mpstrip = mp.strip()\n",
    "print('\\n mp.strip is ->',mpstrip)\n"
   ]
  },
  {
   "cell_type": "code",
   "execution_count": null,
   "metadata": {},
   "outputs": [],
   "source": [
    "mp.startswith('T')"
   ]
  },
  {
   "cell_type": "code",
   "execution_count": null,
   "metadata": {},
   "outputs": [],
   "source": [
    "mp.startswith('a')"
   ]
  },
  {
   "cell_type": "code",
   "execution_count": null,
   "metadata": {},
   "outputs": [],
   "source": [
    "mp.find('a') "
   ]
  },
  {
   "cell_type": "code",
   "execution_count": null,
   "metadata": {},
   "outputs": [],
   "source": [
    "mp.find('A') "
   ]
  },
  {
   "cell_type": "code",
   "execution_count": null,
   "metadata": {},
   "outputs": [],
   "source": [
    "fruitlist"
   ]
  },
  {
   "cell_type": "code",
   "execution_count": null,
   "metadata": {},
   "outputs": [],
   "source": [
    "len(fruitlist)"
   ]
  },
  {
   "cell_type": "code",
   "execution_count": null,
   "metadata": {},
   "outputs": [],
   "source": [
    "print('There are {:d} fruits.'.format(len(fruitlist)))"
   ]
  },
  {
   "cell_type": "code",
   "execution_count": null,
   "metadata": {},
   "outputs": [],
   "source": [
    "adjective ='great'\n",
    "print('These fruits are {:s}.'.format(adjective))"
   ]
  },
  {
   "cell_type": "code",
   "execution_count": null,
   "metadata": {},
   "outputs": [],
   "source": [
    "for fruit in fruitlist:\n",
    "    print('My favorite fruit is {:s}.'.format(fruit))"
   ]
  },
  {
   "cell_type": "code",
   "execution_count": null,
   "metadata": {},
   "outputs": [],
   "source": [
    "print('My Favorite fruits are {:s},{:s} and {:s}'.format(fruitlist[0],fruitlist[1],fruitlist[2]))"
   ]
  },
  {
   "cell_type": "code",
   "execution_count": null,
   "metadata": {},
   "outputs": [],
   "source": [
    "print('My Favorite fruits are {0[0]},{0[1]} and {0[2]}'.format(fruitlist))"
   ]
  },
  {
   "cell_type": "code",
   "execution_count": null,
   "metadata": {},
   "outputs": [],
   "source": [
    "num2 = 54.749\n",
    "print('The estimate is {:.2f}'.format(num2))"
   ]
  },
  {
   "cell_type": "code",
   "execution_count": null,
   "metadata": {},
   "outputs": [],
   "source": [
    "tuple_test = (1,2,3,4,5)\n",
    "print('length of tuple is',len(tuple_test))\n",
    "for tup in tuple_test:\n",
    "    print ('\\nlist items are',tup)"
   ]
  }
 ],
 "metadata": {
  "kernelspec": {
   "display_name": "Python 3",
   "language": "python",
   "name": "python3"
  },
  "language_info": {
   "codemirror_mode": {
    "name": "ipython",
    "version": 3
   },
   "file_extension": ".py",
   "mimetype": "text/x-python",
   "name": "python",
   "nbconvert_exporter": "python",
   "pygments_lexer": "ipython3",
   "version": "3.7.6"
  }
 },
 "nbformat": 4,
 "nbformat_minor": 2
}
