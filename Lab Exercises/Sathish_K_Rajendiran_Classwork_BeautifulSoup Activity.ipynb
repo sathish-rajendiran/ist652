{
 "cells": [
  {
   "cell_type": "markdown",
   "metadata": {},
   "source": [
    "Beautiful Soup  & Element Tree Activity\n",
    "\n",
    "    Name: Sathish Kumar Rajendiran\n",
    "    Task: Class Work: Beautiful Soup  & Element Tree Activity\n",
    "    Date: 8/5/2020\n",
    "    "
   ]
  },
  {
   "cell_type": "code",
   "execution_count": 98,
   "metadata": {},
   "outputs": [],
   "source": [
    "#import libraries\n",
    "from urllib import request\n",
    "from urllib.error import URLError,HTTPError\n",
    "\n",
    "from bs4 import BeautifulSoup as bs\n",
    "import xml.etree.ElementTree as etree\n",
    "import io\n",
    "import pandas as pd\n",
    "import calendar"
   ]
  },
  {
   "cell_type": "code",
   "execution_count": 99,
   "metadata": {},
   "outputs": [
    {
     "name": "stdout",
     "output_type": "stream",
     "text": [
      "<?xml version=\"1.0\" encoding=\"UTF-8\"?>\n",
      "<rss version=\"2.0\" xmlns:atom=\"http://www.w3.org/2005/Atom\">\n",
      " <channel>\n",
      "  <atom:link href=\"https://timesofindia.indiatimes.com/rssfeedstopstories.cms\" rel=\"self\" type=\"application/rss+xml\">\n",
      "  </atom:link>\n",
      "  <title>\n",
      "   Times of India\n",
      "  </title>\n",
      "  <link/>\n",
      "  https\n"
     ]
    }
   ],
   "source": [
    "#define url and import data using request and urlopen\n",
    "timesurl = 'https://timesofindia.indiatimes.com/rssfeedstopstories.cms'\n",
    "\n",
    "#error handling\n",
    "try:\n",
    "    resp = request.urlopen(timesurl).read().decode('utf8')\n",
    "except URLError as e:\n",
    "    if hasattr(e, 'reason'):\n",
    "        print('We failed to reach a server.')\n",
    "        print('Reason: ', e.reason)\n",
    "    elif hasattr(e, 'code'):\n",
    "        print('The server couldn\\'t fulfill the request.')\n",
    "        print('Error code: ', e.code)\n",
    "else:\n",
    "    soup = bs(resp,'html.parser')  # Parse the response variable\n",
    "    print(soup.prettify()[:300])"
   ]
  },
  {
   "cell_type": "code",
   "execution_count": 100,
   "metadata": {},
   "outputs": [
    {
     "name": "stdout",
     "output_type": "stream",
     "text": [
      "Title of the Webpage: Times of India\n"
     ]
    }
   ],
   "source": [
    "# Title of the webpage\n",
    "print(\"Title of the Webpage:\",soup.title.text)"
   ]
  },
  {
   "cell_type": "code",
   "execution_count": 101,
   "metadata": {},
   "outputs": [
    {
     "name": "stdout",
     "output_type": "stream",
     "text": [
      "The new object type is: <class 'bs4.BeautifulSoup'> \n",
      "\n"
     ]
    }
   ],
   "source": [
    "# Check the type of the parsed variable\n",
    "print('The new object type is:', type(soup), '\\n')"
   ]
  },
  {
   "cell_type": "code",
   "execution_count": 102,
   "metadata": {},
   "outputs": [
    {
     "name": "stdout",
     "output_type": "stream",
     "text": [
      "The first ten tags are:\n",
      " ['rss', 'channel', 'atom:link', 'title', 'link', 'description', 'language', 'copyright', 'docs', 'image']\n",
      "\n",
      "Unique tags are:\n",
      " {'channel', 'url', 'guid', 'atom:link', 'image', 'docs', 'description', 'language', 'item', 'rss', 'copyright', 'link', 'pubdate', 'title'}\n"
     ]
    }
   ],
   "source": [
    "# Print the first 10 tags\n",
    "print('The first ten tags are:\\n',[tag.name for tag in soup.find_all()][:10])\n",
    "print('\\nUnique tags are:\\n',set(tag.name for tag in soup.find_all()))"
   ]
  },
  {
   "cell_type": "code",
   "execution_count": 76,
   "metadata": {},
   "outputs": [
    {
     "name": "stdout",
     "output_type": "stream",
     "text": [
      "Times of Indiahttps://timesofindia.indiatimes.comThe Times of India: Breaking news, views, reviews, cricket from across Indiaen-gbCopyright:(C) 2020 Bennett Coleman & Co. Ltd, http://info.indiatimes.com/terms/tou.htmlhttp://timescontent.com/Times of Indiahttps://timesofindia.indiatimes.comhttps://timesofindia.indiatimes.com/photo.cms?msid=507610Why PM Narendra Modi said ‘Jai Siya Ram’, not ‘Jai Shri Ram’By choosing to hail Lord Ram with ‘Jai Siya Ram’ instead of the popular ‘Jai Shri Ram’ after the bhoomi pujan in the Ayodhya, Prime Minister Narendra Modi left a number people curious.https://timesofindia.indiatimes.com/city/lucknow/why-modi-said-jai-siya-ram-not-jai-shri-ram/articleshow/77382910.cmshttps://timesofindia.indiatimes.com/city/lucknow/why-modi-said-jai-siya-ram-not-jai-shri-ram/articleshow/77382910.cmsThu, 06 Aug 2020 04:11:00 ISTRBI keeps repo rate unchanged: Key pointsThe Reserve Bank of India (RBI) on Thursday decided to keep key lending rate unchanged in its August policy review meeting. The six-member monetary policy committee (MPC), headed by RBI governor Shaktikanta Das, kept repo rate untouched at 4 per cent; and reverse repo rate at 3.35 per cent.https://timesofindia.indiatimes.com/business/india-business/rbi-keeps-repo-rate-unchanged-key-things-to-know/articleshow/77387314.cmshttps://timesofindia.indiatimes.com/business/india-business/rbi-keeps-repo-rate-unchanged-key-things-to-know/articleshow/77387314.cmsThu, 06 Aug 2020 12:03:10 ISTAyodhya: A long campaign ends. What next?The question as to what next for the temple movement is not particularly troubling, a senior RSS functionary said, adding that the construction at Ram Janmabhoomi and the symbolism of the temple would attract more adherents to Sangh’s view that Ram and the values he represents are central to India’s cultural and social life.https://timesofindia.indiatimes.com/india/a-long-campaign-ends-what-next/articleshow/77383549.cmshttps://timesofindia.indiatimes.com/india/a-long-campaign-ends-what-next/articleshow/77383549.cmsThu, 06 Aug 2020 05:05:14 ISTUAE weather will make things challenging: RainaIn an interview with TOI, Suresh Raina, who was named the brand ambassador of WTF Sports along with Harmanpreet Kaur, spoke about the need to keep a clear mind ahead of the IPL. UAE weather would be a challenge. We will have to see how the wicket holds in the hot conditions. But the best thing is you won't have logistical problems.https://timesofindia.indiatimes.com/sports/cricket/ipl/top-stories/uae-weather-will-make-things-more-challenging-in-ipl-suresh-raina/articleshow/77384589.cmshttps://timesofindia.indiatimes.com/sports/cricket/ipl/top-stories/uae-weather-will-make-things-more-challenging-in-ipl-suresh-raina/articleshow/77384589.cmsThu, 06 Aug 2020 08:20:21 ISTTV actor commits suicide in MumbaiYeh Rishtey Hain Pyaar Ke actor Sameer Sharma, 44, allegedly died by suicide at his Malad home on Thursday (August 6). According to reports, his body was found hanging at the ceiling in his home. A report further suggested that the had recently rented the Malad apartment in Mumbai, and his body was found by his building's watchman. No suicide note was found. https://timesofindia.indiatimes.com/tv/news/hindi/kahaani-ghar-ghar-ki-and-yeh-rishtey-hain-pyaar-ke-actor-sameer-sharma-dies-by-suicide-at-44/articleshow/77388561.cmshttps://timesofindia.indiatimes.com/tv/news/hindi/kahaani-ghar-ghar-ki-and-yeh-rishtey-hain-pyaar-ke-actor-sameer-sharma-dies-by-suicide-at-44/articleshow/77388561.cmsThu, 06 Aug 2020 13:01:03 ISTLive: Mumbai gets highest rain of seasonA day after heavy showers pounded Mumbai and neighbouring areas, the rain intensity reduced on Thursday morning and water receded in some flooded areas, leading to gradual resumption of rail and road transport services. Stay with TOI for all updateshttps://timesofindia.indiatimes.com/city/mumbai/mumbai-rains-live-updates-imd-predicts-heavy-rainfall-in-mumbai/liveblog/77384330.cmshttps://timesofindia.indiatimes.com/city/mumbai/mumbai-rains-live-updates-imd-predicts-heavy-rainfall-in-mumbai/liveblog/77384330.cmsThu, 06 Aug 2020 07:54:41 ISTMEA rejects China's effort to raise J&K at UNhttps://timesofindia.indiatimes.com/india/india-firmly-rejects-chinas-attempt-to-raise-kashmir-issue-at-unsc/articleshow/77387212.cmshttps://timesofindia.indiatimes.com/india/india-firmly-rejects-chinas-attempt-to-raise-kashmir-issue-at-unsc/articleshow/77387212.cmsThu, 06 Aug 2020 11:44:06 ISTAmazon Prime sale: 20 gadgets at Rs 999 or lesshttps://www.gadgetsnow.com/slideshows/amazon-prime-day-sale-starts-20-gadgets-from-sony-jbl-xiaomi-boat-and-others-you-can-buy-at-rs-999-or-less/photolist/77379250.cmshttps://www.gadgetsnow.com/slideshows/amazon-prime-day-sale-starts-20-gadgets-from-sony-jbl-xiaomi-boat-and-others-you-can-buy-at-rs-999-or-less/photolist/77379250.cmsThu, 06 Aug 2020 00:21:37 ISTBeirut blast: What we know about itInvestigators are trying to zero in on the cause of the massive blast in Beirut that has killed more than 100, but the terrifying footage has led to speculation about the involvement of everything from high explosives to fireworks while officials blame a huge stash of ammonium nitrate, a chemical fertiliserhttps://timesofindia.indiatimes.com/world/beirut-blast-what-we-know-about-it/articleshow/77387225.cmshttps://timesofindia.indiatimes.com/world/beirut-blast-what-we-know-about-it/articleshow/77387225.cmsThu, 06 Aug 2020 12:16:22 ISTMuslims aren’t against Ram temple: Iqbal Ansari\"After the Supreme Court verdict, it is our duty to accept the judgment in its spirit. I went to Ram Janmabhoomi to send out a message that Muslims are not against the Ram temple,\" Iqbal Ansari, one of the main litigants from the Muslim side in the Ayodhya suit said.https://timesofindia.indiatimes.com/india/wanted-to-signal-that-muslims-arent-against-ram-temple/articleshow/77383598.cmshttps://timesofindia.indiatimes.com/india/wanted-to-signal-that-muslims-arent-against-ram-temple/articleshow/77383598.cmsThu, 06 Aug 2020 05:28:47 ISTZoom adds 5 new features to make you 'look good'https://www.gadgetsnow.com/tech-news/zoom-adds-5-new-features-to-make-you-look-good-and-have-fun-during-meetings/articleshow/77384888.cmshttps://www.gadgetsnow.com/tech-news/zoom-adds-5-new-features-to-make-you-look-good-and-have-fun-during-meetings/articleshow/77384888.cmsThu, 06 Aug 2020 08:47:39 ISTJoin free Masterclass on ‘Handling Cyber Bullying’https://masterclass.economictimes.indiatimes.com/webcast/cyber-safety-for-students-during-online-learning/568?ag=TOIhttps://masterclass.economictimes.indiatimes.com/webcast/cyber-safety-for-students-during-online-learning/568?ag=TOIThu, 06 Aug 2020 12:16:18 ISTLive: Total Covid cases in India reaches1,964,536India saw a single-day increase of 56,282 cases taking the country's Covid-19 tally to 19,64,536. The death toll due to Covid-19 climbed to 40,699 with 904 new fatalities being reported in 24 hours.  Globally, the death toll from the virus has crossed the 7-lakh mark, with over 18 million infections worldwide. Tap for live updateshttps://timesofindia.indiatimes.com/india/coronavirus-india-live-updates-total-number-of-covid-cases-in-india-stands-at-1964536/liveblog/77383462.cmshttps://timesofindia.indiatimes.com/india/coronavirus-india-live-updates-total-number-of-covid-cases-in-india-stands-at-1964536/liveblog/77383462.cmsThu, 06 Aug 2020 04:16:13 ISTWhat’s new in Maruti Suzuki S-Cross BS6Maruti Suzuki introduced the BS6-ready S-Cross on Wednesday, making the entire product portfolio BS6 compliant. S-Cross, which has been accepted by 1.25 lakh customers in less than five years.https://timesofindia.indiatimes.com/auto/cars/whats-new-in-maruti-suzuki-s-cross-bs6/articleshow/77387692.cmshttps://timesofindia.indiatimes.com/auto/cars/whats-new-in-maruti-suzuki-s-cross-bs6/articleshow/77387692.cmsThu, 06 Aug 2020 12:21:20 ISTWon’t consider de-escalation until China withdrawsIndia has refused to consider any de-escalation in Ladakh until the disengagement process — withdrawal of Chinese intrusions — is complete as Indian negotiators push back against repeated demands to move troops back from forward areas.https://timesofindia.indiatimes.com/india/india-wont-consider-de-escalation-until-china-withdraws-troops/articleshow/77383264.cmshttps://timesofindia.indiatimes.com/india/india-wont-consider-de-escalation-until-china-withdraws-troops/articleshow/77383264.cmsThu, 06 Aug 2020 11:14:19 ISTLive: SSR case - BMC to not end Tiwari quarantineBollywood actor Sushant Singh Rajput's suicide case seems to be getting more complicated with each day. With his father KK Singh filing an FIR against Rhea Chakraborty in Patna, charging her with abetment to suicide, theft, wrongful confinement and cheating as well. Meanwhile, the Central government has accepted the request of Bihar government recommending a probe by the Central Bureau of Investigation (CBI) in the case. Here are all the live updates of Sushant Singh Rajput’s suicide case:https://timesofindia.indiatimes.com/entertainment/hindi/bollywood/news/live-updates-from-sushant-singh-rajput-case-bmc-will-not-end-the-quarantine-of-vinay-tiwari/liveblog/77387026.cmshttps://timesofindia.indiatimes.com/entertainment/hindi/bollywood/news/live-updates-from-sushant-singh-rajput-case-bmc-will-not-end-the-quarantine-of-vinay-tiwari/liveblog/77387026.cmsThu, 06 Aug 2020 11:30:37 ISTFermenta Biotech donation to Maharashtra Police“Let hope be the antidote to fear. Let solidarity be the antidote to blame. Let our shared humanity be the antidote to our shared threat.” - WHO Director-Gen...https://timesofindia.indiatimes.com/business/india-business/help-protect-our-protectors-fermenta-biotech-ltd-indchemie-health-specialities-pvt-ltd-donate-vitamin-d-to-250000-maharashtra-police-personnel/articleshow/77256527.cmshttps://timesofindia.indiatimes.com/business/india-business/help-protect-our-protectors-fermenta-biotech-ltd-indchemie-health-specialities-pvt-ltd-donate-vitamin-d-to-250000-maharashtra-police-personnel/articleshow/77256527.cmsThu, 30 Jul 2020 12:15:00 ISTYou needn't buy Tata Nexon EV to own ithttps://timesofindia.indiatimes.com/auto/cars/tata-nexon-ev-now-available-for-monthly-subscription-starting-at-rs-41900/articleshow/77388078.cmshttps://timesofindia.indiatimes.com/auto/cars/tata-nexon-ev-now-available-for-monthly-subscription-starting-at-rs-41900/articleshow/77388078.cmsThu, 06 Aug 2020 12:42:50 IST\n",
      "Times of Indiahttps://timesofindia.indiatimes.comThe Times of India: Breaking news, views, reviews, cricket from across Indiaen-gbCopyright:(C) 2020 Bennett Coleman & Co. Ltd, http://info.indiatimes.com/terms/tou.htmlhttp://timescontent.com/Times of Indiahttps://timesofindia.indiatimes.comhttps://timesofindia.indiatimes.com/photo.cms?msid=507610Why PM Narendra Modi said ‘Jai Siya Ram’, not ‘Jai Shri Ram’By choosing to hail Lord Ram with ‘Jai Siya Ram’ instead of the popular ‘Jai Shri Ram’ after the bhoomi pujan in the Ayodhya, Prime Minister Narendra Modi left a number people curious.https://timesofindia.indiatimes.com/city/lucknow/why-modi-said-jai-siya-ram-not-jai-shri-ram/articleshow/77382910.cmshttps://timesofindia.indiatimes.com/city/lucknow/why-modi-said-jai-siya-ram-not-jai-shri-ram/articleshow/77382910.cmsThu, 06 Aug 2020 04:11:00 ISTRBI keeps repo rate unchanged: Key pointsThe Reserve Bank of India (RBI) on Thursday decided to keep key lending rate unchanged in its August policy review meeting. The six-member monetary policy committee (MPC), headed by RBI governor Shaktikanta Das, kept repo rate untouched at 4 per cent; and reverse repo rate at 3.35 per cent.https://timesofindia.indiatimes.com/business/india-business/rbi-keeps-repo-rate-unchanged-key-things-to-know/articleshow/77387314.cmshttps://timesofindia.indiatimes.com/business/india-business/rbi-keeps-repo-rate-unchanged-key-things-to-know/articleshow/77387314.cmsThu, 06 Aug 2020 12:03:10 ISTAyodhya: A long campaign ends. What next?The question as to what next for the temple movement is not particularly troubling, a senior RSS functionary said, adding that the construction at Ram Janmabhoomi and the symbolism of the temple would attract more adherents to Sangh’s view that Ram and the values he represents are central to India’s cultural and social life.https://timesofindia.indiatimes.com/india/a-long-campaign-ends-what-next/articleshow/77383549.cmshttps://timesofindia.indiatimes.com/india/a-long-campaign-ends-what-next/articleshow/77383549.cmsThu, 06 Aug 2020 05:05:14 ISTUAE weather will make things challenging: RainaIn an interview with TOI, Suresh Raina, who was named the brand ambassador of WTF Sports along with Harmanpreet Kaur, spoke about the need to keep a clear mind ahead of the IPL. UAE weather would be a challenge. We will have to see how the wicket holds in the hot conditions. But the best thing is you won't have logistical problems.https://timesofindia.indiatimes.com/sports/cricket/ipl/top-stories/uae-weather-will-make-things-more-challenging-in-ipl-suresh-raina/articleshow/77384589.cmshttps://timesofindia.indiatimes.com/sports/cricket/ipl/top-stories/uae-weather-will-make-things-more-challenging-in-ipl-suresh-raina/articleshow/77384589.cmsThu, 06 Aug 2020 08:20:21 ISTTV actor commits suicide in MumbaiYeh Rishtey Hain Pyaar Ke actor Sameer Sharma, 44, allegedly died by suicide at his Malad home on Thursday (August 6). According to reports, his body was found hanging at the ceiling in his home. A report further suggested that the had recently rented the Malad apartment in Mumbai, and his body was found by his building's watchman. No suicide note was found. https://timesofindia.indiatimes.com/tv/news/hindi/kahaani-ghar-ghar-ki-and-yeh-rishtey-hain-pyaar-ke-actor-sameer-sharma-dies-by-suicide-at-44/articleshow/77388561.cmshttps://timesofindia.indiatimes.com/tv/news/hindi/kahaani-ghar-ghar-ki-and-yeh-rishtey-hain-pyaar-ke-actor-sameer-sharma-dies-by-suicide-at-44/articleshow/77388561.cmsThu, 06 Aug 2020 13:01:03 ISTLive: Mumbai gets highest rain of seasonA day after heavy showers pounded Mumbai and neighbouring areas, the rain intensity reduced on Thursday morning and water receded in some flooded areas, leading to gradual resumption of rail and road transport services. Stay with TOI for all updateshttps://timesofindia.indiatimes.com/city/mumbai/mumbai-rains-live-updates-imd-predicts-heavy-rainfall-in-mumbai/liveblog/77384330.cmshttps://timesofindia.indiatimes.com/city/mumbai/mumbai-rains-live-updates-imd-predicts-heavy-rainfall-in-mumbai/liveblog/77384330.cmsThu, 06 Aug 2020 07:54:41 ISTMEA rejects China's effort to raise J&K at UNhttps://timesofindia.indiatimes.com/india/india-firmly-rejects-chinas-attempt-to-raise-kashmir-issue-at-unsc/articleshow/77387212.cmshttps://timesofindia.indiatimes.com/india/india-firmly-rejects-chinas-attempt-to-raise-kashmir-issue-at-unsc/articleshow/77387212.cmsThu, 06 Aug 2020 11:44:06 ISTAmazon Prime sale: 20 gadgets at Rs 999 or lesshttps://www.gadgetsnow.com/slideshows/amazon-prime-day-sale-starts-20-gadgets-from-sony-jbl-xiaomi-boat-and-others-you-can-buy-at-rs-999-or-less/photolist/77379250.cmshttps://www.gadgetsnow.com/slideshows/amazon-prime-day-sale-starts-20-gadgets-from-sony-jbl-xiaomi-boat-and-others-you-can-buy-at-rs-999-or-less/photolist/77379250.cmsThu, 06 Aug 2020 00:21:37 ISTBeirut blast: What we know about itInvestigators are trying to zero in on the cause of the massive blast in Beirut that has killed more than 100, but the terrifying footage has led to speculation about the involvement of everything from high explosives to fireworks while officials blame a huge stash of ammonium nitrate, a chemical fertiliserhttps://timesofindia.indiatimes.com/world/beirut-blast-what-we-know-about-it/articleshow/77387225.cmshttps://timesofindia.indiatimes.com/world/beirut-blast-what-we-know-about-it/articleshow/77387225.cmsThu, 06 Aug 2020 12:16:22 ISTMuslims aren’t against Ram temple: Iqbal Ansari\"After the Supreme Court verdict, it is our duty to accept the judgment in its spirit. I went to Ram Janmabhoomi to send out a message that Muslims are not against the Ram temple,\" Iqbal Ansari, one of the main litigants from the Muslim side in the Ayodhya suit said.https://timesofindia.indiatimes.com/india/wanted-to-signal-that-muslims-arent-against-ram-temple/articleshow/77383598.cmshttps://timesofindia.indiatimes.com/india/wanted-to-signal-that-muslims-arent-against-ram-temple/articleshow/77383598.cmsThu, 06 Aug 2020 05:28:47 ISTZoom adds 5 new features to make you 'look good'https://www.gadgetsnow.com/tech-news/zoom-adds-5-new-features-to-make-you-look-good-and-have-fun-during-meetings/articleshow/77384888.cmshttps://www.gadgetsnow.com/tech-news/zoom-adds-5-new-features-to-make-you-look-good-and-have-fun-during-meetings/articleshow/77384888.cmsThu, 06 Aug 2020 08:47:39 ISTJoin free Masterclass on ‘Handling Cyber Bullying’https://masterclass.economictimes.indiatimes.com/webcast/cyber-safety-for-students-during-online-learning/568?ag=TOIhttps://masterclass.economictimes.indiatimes.com/webcast/cyber-safety-for-students-during-online-learning/568?ag=TOIThu, 06 Aug 2020 12:16:18 ISTLive: Total Covid cases in India reaches1,964,536India saw a single-day increase of 56,282 cases taking the country's Covid-19 tally to 19,64,536. The death toll due to Covid-19 climbed to 40,699 with 904 new fatalities being reported in 24 hours.  Globally, the death toll from the virus has crossed the 7-lakh mark, with over 18 million infections worldwide. Tap for live updateshttps://timesofindia.indiatimes.com/india/coronavirus-india-live-updates-total-number-of-covid-cases-in-india-stands-at-1964536/liveblog/77383462.cmshttps://timesofindia.indiatimes.com/india/coronavirus-india-live-updates-total-number-of-covid-cases-in-india-stands-at-1964536/liveblog/77383462.cmsThu, 06 Aug 2020 04:16:13 ISTWhat’s new in Maruti Suzuki S-Cross BS6Maruti Suzuki introduced the BS6-ready S-Cross on Wednesday, making the entire product portfolio BS6 compliant. S-Cross, which has been accepted by 1.25 lakh customers in less than five years.https://timesofindia.indiatimes.com/auto/cars/whats-new-in-maruti-suzuki-s-cross-bs6/articleshow/77387692.cmshttps://timesofindia.indiatimes.com/auto/cars/whats-new-in-maruti-suzuki-s-cross-bs6/articleshow/77387692.cmsThu, 06 Aug 2020 12:21:20 ISTWon’t consider de-escalation until China withdrawsIndia has refused to consider any de-escalation in Ladakh until the disengagement process — withdrawal of Chinese intrusions — is complete as Indian negotiators push back against repeated demands to move troops back from forward areas.https://timesofindia.indiatimes.com/india/india-wont-consider-de-escalation-until-china-withdraws-troops/articleshow/77383264.cmshttps://timesofindia.indiatimes.com/india/india-wont-consider-de-escalation-until-china-withdraws-troops/articleshow/77383264.cmsThu, 06 Aug 2020 11:14:19 ISTLive: SSR case - BMC to not end Tiwari quarantineBollywood actor Sushant Singh Rajput's suicide case seems to be getting more complicated with each day. With his father KK Singh filing an FIR against Rhea Chakraborty in Patna, charging her with abetment to suicide, theft, wrongful confinement and cheating as well. Meanwhile, the Central government has accepted the request of Bihar government recommending a probe by the Central Bureau of Investigation (CBI) in the case. Here are all the live updates of Sushant Singh Rajput’s suicide case:https://timesofindia.indiatimes.com/entertainment/hindi/bollywood/news/live-updates-from-sushant-singh-rajput-case-bmc-will-not-end-the-quarantine-of-vinay-tiwari/liveblog/77387026.cmshttps://timesofindia.indiatimes.com/entertainment/hindi/bollywood/news/live-updates-from-sushant-singh-rajput-case-bmc-will-not-end-the-quarantine-of-vinay-tiwari/liveblog/77387026.cmsThu, 06 Aug 2020 11:30:37 ISTFermenta Biotech donation to Maharashtra Police“Let hope be the antidote to fear. Let solidarity be the antidote to blame. Let our shared humanity be the antidote to our shared threat.” - WHO Director-Gen...https://timesofindia.indiatimes.com/business/india-business/help-protect-our-protectors-fermenta-biotech-ltd-indchemie-health-specialities-pvt-ltd-donate-vitamin-d-to-250000-maharashtra-police-personnel/articleshow/77256527.cmshttps://timesofindia.indiatimes.com/business/india-business/help-protect-our-protectors-fermenta-biotech-ltd-indchemie-health-specialities-pvt-ltd-donate-vitamin-d-to-250000-maharashtra-police-personnel/articleshow/77256527.cmsThu, 30 Jul 2020 12:15:00 ISTYou needn't buy Tata Nexon EV to own ithttps://timesofindia.indiatimes.com/auto/cars/tata-nexon-ev-now-available-for-monthly-subscription-starting-at-rs-41900/articleshow/77388078.cmshttps://timesofindia.indiatimes.com/auto/cars/tata-nexon-ev-now-available-for-monthly-subscription-starting-at-rs-41900/articleshow/77388078.cmsThu, 06 Aug 2020 12:42:50 IST\n",
      "\n",
      "Times of India\n",
      "\n",
      "The Times of India: Breaking news, views, reviews, cricket from across India\n",
      "en-gb\n",
      "Copyright:(C) 2020 Bennett Coleman & Co. Ltd, http://info.indiatimes.com/terms/tou.html\n",
      "http://timescontent.com/\n",
      "\n",
      "Times of India\n",
      "\n",
      "https://timesofindia.indiatimes.com/photo.cms?msid=507610\n",
      "Why PM Narendra Modi said ‘Jai Siya Ram’, not ‘Jai Shri Ram’By choosing to hail Lord Ram with ‘Jai Siya Ram’ instead of the popular ‘Jai Shri Ram’ after the bhoomi pujan in the Ayodhya, Prime Minister Narendra Modi left a number people curious.https://timesofindia.indiatimes.com/city/lucknow/why-modi-said-jai-siya-ram-not-jai-shri-ram/articleshow/77382910.cmshttps://timesofindia.indiatimes.com/city/lucknow/why-modi-said-jai-siya-ram-not-jai-shri-ram/articleshow/77382910.cmsThu, 06 Aug 2020 04:11:00 IST\n",
      "Why PM Narendra Modi said ‘Jai Siya Ram’, not ‘Jai Shri Ram’\n",
      "By choosing to hail Lord Ram with ‘Jai Siya Ram’ instead of the popular ‘Jai Shri Ram’ after the bhoomi pujan in the Ayodhya, Prime Minister Narendra Modi left a number people curious.\n",
      "\n",
      "https://timesofindia.indiatimes.com/city/lucknow/why-modi-said-jai-siya-ram-not-jai-shri-ram/articleshow/77382910.cms\n",
      "Thu, 06 Aug 2020 04:11:00 IST\n",
      "RBI keeps repo rate unchanged: Key pointsThe Reserve Bank of India (RBI) on Thursday decided to keep key lending rate unchanged in its August policy review meeting. The six-member monetary policy committee (MPC), headed by RBI governor Shaktikanta Das, kept repo rate untouched at 4 per cent; and reverse repo rate at 3.35 per cent.https://timesofindia.indiatimes.com/business/india-business/rbi-keeps-repo-rate-unchanged-key-things-to-know/articleshow/77387314.cmshttps://timesofindia.indiatimes.com/business/india-business/rbi-keeps-repo-rate-unchanged-key-things-to-know/articleshow/77387314.cmsThu, 06 Aug 2020 12:03:10 IST\n",
      "RBI keeps repo rate unchanged: Key points\n",
      "The Reserve Bank of India (RBI) on Thursday decided to keep key lending rate unchanged in its August policy review meeting. The six-member monetary policy committee (MPC), headed by RBI governor Shaktikanta Das, kept repo rate untouched at 4 per cent; and reverse repo rate at 3.35 per cent.\n",
      "\n",
      "https://timesofindia.indiatimes.com/business/india-business/rbi-keeps-repo-rate-unchanged-key-things-to-know/articleshow/77387314.cms\n",
      "Thu, 06 Aug 2020 12:03:10 IST\n",
      "Ayodhya: A long campaign ends. What next?The question as to what next for the temple movement is not particularly troubling, a senior RSS functionary said, adding that the construction at Ram Janmabhoomi and the symbolism of the temple would attract more adherents to Sangh’s view that Ram and the values he represents are central to India’s cultural and social life.https://timesofindia.indiatimes.com/india/a-long-campaign-ends-what-next/articleshow/77383549.cmshttps://timesofindia.indiatimes.com/india/a-long-campaign-ends-what-next/articleshow/77383549.cmsThu, 06 Aug 2020 05:05:14 IST\n",
      "Ayodhya: A long campaign ends. What next?\n",
      "The question as to what next for the temple movement is not particularly troubling, a senior RSS functionary said, adding that the construction at Ram Janmabhoomi and the symbolism of the temple would attract more adherents to Sangh’s view that Ram and the values he represents are central to India’s cultural and social life.\n",
      "\n",
      "https://timesofindia.indiatimes.com/india/a-long-campaign-ends-what-next/articleshow/77383549.cms\n",
      "Thu, 06 Aug 2020 05:05:14 IST\n",
      "UAE weather will make things challenging: RainaIn an interview with TOI, Suresh Raina, who was named the brand ambassador of WTF Sports along with Harmanpreet Kaur, spoke about the need to keep a clear mind ahead of the IPL. UAE weather would be a challenge. We will have to see how the wicket holds in the hot conditions. But the best thing is you won't have logistical problems.https://timesofindia.indiatimes.com/sports/cricket/ipl/top-stories/uae-weather-will-make-things-more-challenging-in-ipl-suresh-raina/articleshow/77384589.cmshttps://timesofindia.indiatimes.com/sports/cricket/ipl/top-stories/uae-weather-will-make-things-more-challenging-in-ipl-suresh-raina/articleshow/77384589.cmsThu, 06 Aug 2020 08:20:21 IST\n",
      "UAE weather will make things challenging: Raina\n",
      "In an interview with TOI, Suresh Raina, who was named the brand ambassador of WTF Sports along with Harmanpreet Kaur, spoke about the need to keep a clear mind ahead of the IPL. UAE weather would be a challenge. We will have to see how the wicket holds in the hot conditions. But the best thing is you won't have logistical problems.\n",
      "\n",
      "https://timesofindia.indiatimes.com/sports/cricket/ipl/top-stories/uae-weather-will-make-things-more-challenging-in-ipl-suresh-raina/articleshow/77384589.cms\n",
      "Thu, 06 Aug 2020 08:20:21 IST\n",
      "TV actor commits suicide in MumbaiYeh Rishtey Hain Pyaar Ke actor Sameer Sharma, 44, allegedly died by suicide at his Malad home on Thursday (August 6). According to reports, his body was found hanging at the ceiling in his home. A report further suggested that the had recently rented the Malad apartment in Mumbai, and his body was found by his building's watchman. No suicide note was found. https://timesofindia.indiatimes.com/tv/news/hindi/kahaani-ghar-ghar-ki-and-yeh-rishtey-hain-pyaar-ke-actor-sameer-sharma-dies-by-suicide-at-44/articleshow/77388561.cmshttps://timesofindia.indiatimes.com/tv/news/hindi/kahaani-ghar-ghar-ki-and-yeh-rishtey-hain-pyaar-ke-actor-sameer-sharma-dies-by-suicide-at-44/articleshow/77388561.cmsThu, 06 Aug 2020 13:01:03 IST\n",
      "TV actor commits suicide in Mumbai\n",
      "Yeh Rishtey Hain Pyaar Ke actor Sameer Sharma, 44, allegedly died by suicide at his Malad home on Thursday (August 6). According to reports, his body was found hanging at the ceiling in his home. A report further suggested that the had recently rented the Malad apartment in Mumbai, and his body was found by his building's watchman. No suicide note was found. \n",
      "\n",
      "https://timesofindia.indiatimes.com/tv/news/hindi/kahaani-ghar-ghar-ki-and-yeh-rishtey-hain-pyaar-ke-actor-sameer-sharma-dies-by-suicide-at-44/articleshow/77388561.cms\n",
      "Thu, 06 Aug 2020 13:01:03 IST\n",
      "Live: Mumbai gets highest rain of seasonA day after heavy showers pounded Mumbai and neighbouring areas, the rain intensity reduced on Thursday morning and water receded in some flooded areas, leading to gradual resumption of rail and road transport services. Stay with TOI for all updateshttps://timesofindia.indiatimes.com/city/mumbai/mumbai-rains-live-updates-imd-predicts-heavy-rainfall-in-mumbai/liveblog/77384330.cmshttps://timesofindia.indiatimes.com/city/mumbai/mumbai-rains-live-updates-imd-predicts-heavy-rainfall-in-mumbai/liveblog/77384330.cmsThu, 06 Aug 2020 07:54:41 IST\n",
      "Live: Mumbai gets highest rain of season\n",
      "A day after heavy showers pounded Mumbai and neighbouring areas, the rain intensity reduced on Thursday morning and water receded in some flooded areas, leading to gradual resumption of rail and road transport services. Stay with TOI for all updates\n",
      "\n",
      "https://timesofindia.indiatimes.com/city/mumbai/mumbai-rains-live-updates-imd-predicts-heavy-rainfall-in-mumbai/liveblog/77384330.cms\n",
      "Thu, 06 Aug 2020 07:54:41 IST\n",
      "MEA rejects China's effort to raise J&K at UNhttps://timesofindia.indiatimes.com/india/india-firmly-rejects-chinas-attempt-to-raise-kashmir-issue-at-unsc/articleshow/77387212.cmshttps://timesofindia.indiatimes.com/india/india-firmly-rejects-chinas-attempt-to-raise-kashmir-issue-at-unsc/articleshow/77387212.cmsThu, 06 Aug 2020 11:44:06 IST\n",
      "MEA rejects China's effort to raise J&K at UN\n",
      "\n",
      "\n",
      "https://timesofindia.indiatimes.com/india/india-firmly-rejects-chinas-attempt-to-raise-kashmir-issue-at-unsc/articleshow/77387212.cms\n",
      "Thu, 06 Aug 2020 11:44:06 IST\n",
      "Amazon Prime sale: 20 gadgets at Rs 999 or lesshttps://www.gadgetsnow.com/slideshows/amazon-prime-day-sale-starts-20-gadgets-from-sony-jbl-xiaomi-boat-and-others-you-can-buy-at-rs-999-or-less/photolist/77379250.cmshttps://www.gadgetsnow.com/slideshows/amazon-prime-day-sale-starts-20-gadgets-from-sony-jbl-xiaomi-boat-and-others-you-can-buy-at-rs-999-or-less/photolist/77379250.cmsThu, 06 Aug 2020 00:21:37 IST\n",
      "Amazon Prime sale: 20 gadgets at Rs 999 or less\n",
      "\n",
      "\n",
      "https://www.gadgetsnow.com/slideshows/amazon-prime-day-sale-starts-20-gadgets-from-sony-jbl-xiaomi-boat-and-others-you-can-buy-at-rs-999-or-less/photolist/77379250.cms\n",
      "Thu, 06 Aug 2020 00:21:37 IST\n",
      "Beirut blast: What we know about itInvestigators are trying to zero in on the cause of the massive blast in Beirut that has killed more than 100, but the terrifying footage has led to speculation about the involvement of everything from high explosives to fireworks while officials blame a huge stash of ammonium nitrate, a chemical fertiliserhttps://timesofindia.indiatimes.com/world/beirut-blast-what-we-know-about-it/articleshow/77387225.cmshttps://timesofindia.indiatimes.com/world/beirut-blast-what-we-know-about-it/articleshow/77387225.cmsThu, 06 Aug 2020 12:16:22 IST\n",
      "Beirut blast: What we know about it\n",
      "Investigators are trying to zero in on the cause of the massive blast in Beirut that has killed more than 100, but the terrifying footage has led to speculation about the involvement of everything from high explosives to fireworks while officials blame a huge stash of ammonium nitrate, a chemical fertiliser\n",
      "\n",
      "https://timesofindia.indiatimes.com/world/beirut-blast-what-we-know-about-it/articleshow/77387225.cms\n",
      "Thu, 06 Aug 2020 12:16:22 IST\n",
      "Muslims aren’t against Ram temple: Iqbal Ansari\"After the Supreme Court verdict, it is our duty to accept the judgment in its spirit. I went to Ram Janmabhoomi to send out a message that Muslims are not against the Ram temple,\" Iqbal Ansari, one of the main litigants from the Muslim side in the Ayodhya suit said.https://timesofindia.indiatimes.com/india/wanted-to-signal-that-muslims-arent-against-ram-temple/articleshow/77383598.cmshttps://timesofindia.indiatimes.com/india/wanted-to-signal-that-muslims-arent-against-ram-temple/articleshow/77383598.cmsThu, 06 Aug 2020 05:28:47 IST\n",
      "Muslims aren’t against Ram temple: Iqbal Ansari\n",
      "\"After the Supreme Court verdict, it is our duty to accept the judgment in its spirit. I went to Ram Janmabhoomi to send out a message that Muslims are not against the Ram temple,\" Iqbal Ansari, one of the main litigants from the Muslim side in the Ayodhya suit said.\n",
      "\n",
      "https://timesofindia.indiatimes.com/india/wanted-to-signal-that-muslims-arent-against-ram-temple/articleshow/77383598.cms\n",
      "Thu, 06 Aug 2020 05:28:47 IST\n",
      "Zoom adds 5 new features to make you 'look good'https://www.gadgetsnow.com/tech-news/zoom-adds-5-new-features-to-make-you-look-good-and-have-fun-during-meetings/articleshow/77384888.cmshttps://www.gadgetsnow.com/tech-news/zoom-adds-5-new-features-to-make-you-look-good-and-have-fun-during-meetings/articleshow/77384888.cmsThu, 06 Aug 2020 08:47:39 IST\n",
      "Zoom adds 5 new features to make you 'look good'\n",
      "\n",
      "\n",
      "https://www.gadgetsnow.com/tech-news/zoom-adds-5-new-features-to-make-you-look-good-and-have-fun-during-meetings/articleshow/77384888.cms\n",
      "Thu, 06 Aug 2020 08:47:39 IST\n",
      "Join free Masterclass on ‘Handling Cyber Bullying’https://masterclass.economictimes.indiatimes.com/webcast/cyber-safety-for-students-during-online-learning/568?ag=TOIhttps://masterclass.economictimes.indiatimes.com/webcast/cyber-safety-for-students-during-online-learning/568?ag=TOIThu, 06 Aug 2020 12:16:18 IST\n",
      "Join free Masterclass on ‘Handling Cyber Bullying’\n",
      "\n",
      "\n",
      "https://masterclass.economictimes.indiatimes.com/webcast/cyber-safety-for-students-during-online-learning/568?ag=TOI\n",
      "Thu, 06 Aug 2020 12:16:18 IST\n",
      "Live: Total Covid cases in India reaches1,964,536India saw a single-day increase of 56,282 cases taking the country's Covid-19 tally to 19,64,536. The death toll due to Covid-19 climbed to 40,699 with 904 new fatalities being reported in 24 hours.  Globally, the death toll from the virus has crossed the 7-lakh mark, with over 18 million infections worldwide. Tap for live updateshttps://timesofindia.indiatimes.com/india/coronavirus-india-live-updates-total-number-of-covid-cases-in-india-stands-at-1964536/liveblog/77383462.cmshttps://timesofindia.indiatimes.com/india/coronavirus-india-live-updates-total-number-of-covid-cases-in-india-stands-at-1964536/liveblog/77383462.cmsThu, 06 Aug 2020 04:16:13 IST\n",
      "Live: Total Covid cases in India reaches1,964,536\n",
      "India saw a single-day increase of 56,282 cases taking the country's Covid-19 tally to 19,64,536. The death toll due to Covid-19 climbed to 40,699 with 904 new fatalities being reported in 24 hours.  Globally, the death toll from the virus has crossed the 7-lakh mark, with over 18 million infections worldwide. Tap for live updates\n",
      "\n",
      "https://timesofindia.indiatimes.com/india/coronavirus-india-live-updates-total-number-of-covid-cases-in-india-stands-at-1964536/liveblog/77383462.cms\n",
      "Thu, 06 Aug 2020 04:16:13 IST\n",
      "What’s new in Maruti Suzuki S-Cross BS6Maruti Suzuki introduced the BS6-ready S-Cross on Wednesday, making the entire product portfolio BS6 compliant. S-Cross, which has been accepted by 1.25 lakh customers in less than five years.https://timesofindia.indiatimes.com/auto/cars/whats-new-in-maruti-suzuki-s-cross-bs6/articleshow/77387692.cmshttps://timesofindia.indiatimes.com/auto/cars/whats-new-in-maruti-suzuki-s-cross-bs6/articleshow/77387692.cmsThu, 06 Aug 2020 12:21:20 IST\n",
      "What’s new in Maruti Suzuki S-Cross BS6\n",
      "Maruti Suzuki introduced the BS6-ready S-Cross on Wednesday, making the entire product portfolio BS6 compliant. S-Cross, which has been accepted by 1.25 lakh customers in less than five years.\n",
      "\n",
      "https://timesofindia.indiatimes.com/auto/cars/whats-new-in-maruti-suzuki-s-cross-bs6/articleshow/77387692.cms\n",
      "Thu, 06 Aug 2020 12:21:20 IST\n",
      "Won’t consider de-escalation until China withdrawsIndia has refused to consider any de-escalation in Ladakh until the disengagement process — withdrawal of Chinese intrusions — is complete as Indian negotiators push back against repeated demands to move troops back from forward areas.https://timesofindia.indiatimes.com/india/india-wont-consider-de-escalation-until-china-withdraws-troops/articleshow/77383264.cmshttps://timesofindia.indiatimes.com/india/india-wont-consider-de-escalation-until-china-withdraws-troops/articleshow/77383264.cmsThu, 06 Aug 2020 11:14:19 IST\n",
      "Won’t consider de-escalation until China withdraws\n",
      "India has refused to consider any de-escalation in Ladakh until the disengagement process — withdrawal of Chinese intrusions — is complete as Indian negotiators push back against repeated demands to move troops back from forward areas.\n",
      "\n",
      "https://timesofindia.indiatimes.com/india/india-wont-consider-de-escalation-until-china-withdraws-troops/articleshow/77383264.cms\n",
      "Thu, 06 Aug 2020 11:14:19 IST\n",
      "Live: SSR case - BMC to not end Tiwari quarantineBollywood actor Sushant Singh Rajput's suicide case seems to be getting more complicated with each day. With his father KK Singh filing an FIR against Rhea Chakraborty in Patna, charging her with abetment to suicide, theft, wrongful confinement and cheating as well. Meanwhile, the Central government has accepted the request of Bihar government recommending a probe by the Central Bureau of Investigation (CBI) in the case. Here are all the live updates of Sushant Singh Rajput’s suicide case:https://timesofindia.indiatimes.com/entertainment/hindi/bollywood/news/live-updates-from-sushant-singh-rajput-case-bmc-will-not-end-the-quarantine-of-vinay-tiwari/liveblog/77387026.cmshttps://timesofindia.indiatimes.com/entertainment/hindi/bollywood/news/live-updates-from-sushant-singh-rajput-case-bmc-will-not-end-the-quarantine-of-vinay-tiwari/liveblog/77387026.cmsThu, 06 Aug 2020 11:30:37 IST\n",
      "Live: SSR case - BMC to not end Tiwari quarantine\n",
      "Bollywood actor Sushant Singh Rajput's suicide case seems to be getting more complicated with each day. With his father KK Singh filing an FIR against Rhea Chakraborty in Patna, charging her with abetment to suicide, theft, wrongful confinement and cheating as well. Meanwhile, the Central government has accepted the request of Bihar government recommending a probe by the Central Bureau of Investigation (CBI) in the case. Here are all the live updates of Sushant Singh Rajput’s suicide case:\n",
      "\n",
      "https://timesofindia.indiatimes.com/entertainment/hindi/bollywood/news/live-updates-from-sushant-singh-rajput-case-bmc-will-not-end-the-quarantine-of-vinay-tiwari/liveblog/77387026.cms\n",
      "Thu, 06 Aug 2020 11:30:37 IST\n",
      "Fermenta Biotech donation to Maharashtra Police“Let hope be the antidote to fear. Let solidarity be the antidote to blame. Let our shared humanity be the antidote to our shared threat.” - WHO Director-Gen...https://timesofindia.indiatimes.com/business/india-business/help-protect-our-protectors-fermenta-biotech-ltd-indchemie-health-specialities-pvt-ltd-donate-vitamin-d-to-250000-maharashtra-police-personnel/articleshow/77256527.cmshttps://timesofindia.indiatimes.com/business/india-business/help-protect-our-protectors-fermenta-biotech-ltd-indchemie-health-specialities-pvt-ltd-donate-vitamin-d-to-250000-maharashtra-police-personnel/articleshow/77256527.cmsThu, 30 Jul 2020 12:15:00 IST\n",
      "Fermenta Biotech donation to Maharashtra Police\n",
      "“Let hope be the antidote to fear. Let solidarity be the antidote to blame. Let our shared humanity be the antidote to our shared threat.” - WHO Director-Gen...\n",
      "\n",
      "https://timesofindia.indiatimes.com/business/india-business/help-protect-our-protectors-fermenta-biotech-ltd-indchemie-health-specialities-pvt-ltd-donate-vitamin-d-to-250000-maharashtra-police-personnel/articleshow/77256527.cms\n",
      "Thu, 30 Jul 2020 12:15:00 IST\n",
      "You needn't buy Tata Nexon EV to own ithttps://timesofindia.indiatimes.com/auto/cars/tata-nexon-ev-now-available-for-monthly-subscription-starting-at-rs-41900/articleshow/77388078.cmshttps://timesofindia.indiatimes.com/auto/cars/tata-nexon-ev-now-available-for-monthly-subscription-starting-at-rs-41900/articleshow/77388078.cmsThu, 06 Aug 2020 12:42:50 IST\n",
      "You needn't buy Tata Nexon EV to own it\n",
      "\n",
      "\n",
      "https://timesofindia.indiatimes.com/auto/cars/tata-nexon-ev-now-available-for-monthly-subscription-starting-at-rs-41900/articleshow/77388078.cms\n",
      "Thu, 06 Aug 2020 12:42:50 IST\n"
     ]
    }
   ],
   "source": [
    "#print tag.text\n",
    "for tag in soup.find_all():\n",
    "    print(tag.text)"
   ]
  },
  {
   "cell_type": "code",
   "execution_count": 94,
   "metadata": {},
   "outputs": [
    {
     "name": "stdout",
     "output_type": "stream",
     "text": [
      "tree: <class 'xml.etree.ElementTree.ElementTree'>\n"
     ]
    }
   ],
   "source": [
    "#define tree\n",
    "xmlfile = io.StringIO(resp)\n",
    "tree = etree.parse(xmlfile)\n",
    "print('tree:',type(tree))"
   ]
  },
  {
   "cell_type": "code",
   "execution_count": 81,
   "metadata": {},
   "outputs": [
    {
     "name": "stdout",
     "output_type": "stream",
     "text": [
      "root: <class 'xml.etree.ElementTree.Element'>\n"
     ]
    }
   ],
   "source": [
    "root = tree.getroot()\n",
    "print('root:',type(root))"
   ]
  },
  {
   "cell_type": "code",
   "execution_count": 83,
   "metadata": {},
   "outputs": [
    {
     "name": "stdout",
     "output_type": "stream",
     "text": [
      "root tag: rss\n",
      "root attribute: {'version': '2.0'}\n",
      "root text: None\n",
      "child: <Element 'channel' at 0x115602cb0>\n"
     ]
    }
   ],
   "source": [
    "print('root tag:',root.tag)\n",
    "print('root attribute:',root.attrib)\n",
    "print('root text:',root.text)\n",
    "\n",
    "for child in root:\n",
    "    print('child:',child)"
   ]
  },
  {
   "cell_type": "code",
   "execution_count": 97,
   "metadata": {},
   "outputs": [
    {
     "name": "stdout",
     "output_type": "stream",
     "text": [
      "<class 'xml.etree.ElementTree.Element'>\n",
      "firstchild.tag: channel\n",
      "\n",
      "firstchild.attrib: {}\n",
      "\n",
      "firstchild.text: None\n",
      "\n",
      "firstchild -firstitem: <Element 'item' at 0x1156154d0>\n",
      "\n",
      "firstgrandchild.tag: {http://www.w3.org/2005/Atom}link\n",
      "\n",
      "firstgrandchild.text: None\n"
     ]
    }
   ],
   "source": [
    "firstchild = root[0]\n",
    "print(type(firstchild))\n",
    "\n",
    "print('firstchild.tag:',firstchild.tag)\n",
    "print('\\nfirstchild.attrib:',firstchild.attrib)\n",
    "print('\\nfirstchild.text:',firstchild.text)\n",
    "\n",
    "\n",
    "firstitem = firstchild.find('item')\n",
    "print('\\nfirstchild -firstitem:',firstitem)\n",
    "\n",
    "\n",
    "firstgrandchild = firstchild[0]\n",
    "print('\\nfirstgrandchild.tag:',firstgrandchild.tag)\n",
    "print('\\nfirstgrandchild.text:',firstgrandchild.text)"
   ]
  },
  {
   "cell_type": "code",
   "execution_count": 78,
   "metadata": {},
   "outputs": [
    {
     "name": "stdout",
     "output_type": "stream",
     "text": [
      "Times of India\n",
      "Times of India\n",
      "Why PM Narendra Modi said ‘Jai Siya Ram’, not ‘Jai Shri Ram’\n",
      "RBI keeps repo rate unchanged: Key points\n",
      "Ayodhya: A long campaign ends. What next?\n",
      "UAE weather will make things challenging: Raina\n",
      "TV actor commits suicide in Mumbai\n",
      "Live: Mumbai gets highest rain of season\n",
      "MEA rejects China's effort to raise J&K at UN\n",
      "Amazon Prime sale: 20 gadgets at Rs 999 or less\n"
     ]
    }
   ],
   "source": [
    "#list the top 10 \n",
    "alltitles = tree.findall('.//title')\n",
    "len(alltitles)\n",
    "\n",
    "for title in alltitles[:10]:\n",
    "    print(title.text)"
   ]
  }
 ],
 "metadata": {
  "kernelspec": {
   "display_name": "Python 3",
   "language": "python",
   "name": "python3"
  },
  "language_info": {
   "codemirror_mode": {
    "name": "ipython",
    "version": 3
   },
   "file_extension": ".py",
   "mimetype": "text/x-python",
   "name": "python",
   "nbconvert_exporter": "python",
   "pygments_lexer": "ipython3",
   "version": "3.7.6"
  }
 },
 "nbformat": 4,
 "nbformat_minor": 4
}
