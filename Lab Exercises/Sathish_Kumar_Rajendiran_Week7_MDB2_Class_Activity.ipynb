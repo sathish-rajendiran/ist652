{
 "cells": [
  {
   "cell_type": "markdown",
   "metadata": {},
   "source": [
    "Name: Sathish Kumar Rajendiran\n",
    "Task: Week7: MongoDB Class Activity 2\n",
    "Date: 8/13/2020"
   ]
  },
  {
   "cell_type": "code",
   "execution_count": 1,
   "metadata": {},
   "outputs": [
    {
     "name": "stdout",
     "output_type": "stream",
     "text": [
      "all libraries imported successfully\n"
     ]
    }
   ],
   "source": [
    "#import libraries\n",
    "from urllib import request\n",
    "import json\n",
    "import pymongo\n",
    "from pymongo import MongoClient\n",
    "from datetime import datetime\n",
    "import sys\n",
    "import pandas as pd\n",
    "import os\n",
    "import csv\n",
    "print(\"all libraries imported successfully\")"
   ]
  },
  {
   "cell_type": "code",
   "execution_count": 2,
   "metadata": {},
   "outputs": [
    {
     "name": "stdout",
     "output_type": "stream",
     "text": [
      "working directory:  /Users/sathishrajendiran/ist652-python\n"
     ]
    }
   ],
   "source": [
    "#verify current directory\n",
    "print('working directory: ',os.getcwd())"
   ]
  },
  {
   "cell_type": "code",
   "execution_count": 3,
   "metadata": {},
   "outputs": [
    {
     "name": "stdout",
     "output_type": "stream",
     "text": [
      "\u001b[31mBorder_Crossing_Entry_Data.csv\u001b[m\u001b[m*       price_of_gasoline.csv\r\n",
      "albb.salaries.2003.Pitchers.csv       tv_life.csv\r\n",
      "albb.salaries.2003.under-million.csv\r\n"
     ]
    }
   ],
   "source": [
    "ls *.csv"
   ]
  },
  {
   "cell_type": "code",
   "execution_count": 4,
   "metadata": {},
   "outputs": [
    {
     "name": "stdout",
     "output_type": "stream",
     "text": [
      "data has been processed \n",
      "\n",
      "top 2 rows:\n",
      "   Port Name State  Port Code            Border            Date  \\\n",
      "0     Alcan    AK       3104  US-Canada Border  2/1/2020 00:00   \n",
      "1     Alcan    AK       3104  US-Canada Border  2/1/2020 00:00   \n",
      "\n",
      "                       Measure  Value  \n",
      "0  Personal Vehicle Passengers   1414  \n",
      "1            Personal Vehicles    763  \n",
      "\n",
      "bottom 2 rows:\n",
      "        Port Name State  Port Code            Border            Date  \\\n",
      "355509   Carbury    ND       3421  US-Canada Border  1/1/1996 00:00   \n",
      "355510   Skagway    AK       3103  US-Canada Border  1/1/1996 00:00   \n",
      "\n",
      "                       Measure  Value  \n",
      "355509  Truck Containers Empty      0  \n",
      "355510                   Buses      3  \n"
     ]
    }
   ],
   "source": [
    "# define file name\n",
    "infile = 'Border_Crossing_Entry_Data.csv'\n",
    "# Working with file, list and sorting\n",
    "try: \n",
    "    data = pd.read_csv(infile)\n",
    "    print(\"data has been processed \\n\")\n",
    "    print('top 2 rows:\\n',data.head(2))\n",
    "    print('\\nbottom 2 rows:\\n',data.tail(2))\n",
    "    \n",
    "except:\n",
    "    print(\"Is the file in correct directory?\")"
   ]
  },
  {
   "cell_type": "code",
   "execution_count": 5,
   "metadata": {},
   "outputs": [
    {
     "data": {
      "text/plain": [
       "RangeIndex(start=0, stop=355511, step=1)"
      ]
     },
     "execution_count": 5,
     "metadata": {},
     "output_type": "execute_result"
    }
   ],
   "source": [
    "#check index\n",
    "data.index"
   ]
  },
  {
   "cell_type": "code",
   "execution_count": 6,
   "metadata": {},
   "outputs": [],
   "source": [
    "# dropping null value columns to avoid errors \n",
    "data.dropna(inplace = True) "
   ]
  },
  {
   "cell_type": "code",
   "execution_count": 7,
   "metadata": {},
   "outputs": [
    {
     "data": {
      "text/html": [
       "<div>\n",
       "<style scoped>\n",
       "    .dataframe tbody tr th:only-of-type {\n",
       "        vertical-align: middle;\n",
       "    }\n",
       "\n",
       "    .dataframe tbody tr th {\n",
       "        vertical-align: top;\n",
       "    }\n",
       "\n",
       "    .dataframe thead th {\n",
       "        text-align: right;\n",
       "    }\n",
       "</style>\n",
       "<table border=\"1\" class=\"dataframe\">\n",
       "  <thead>\n",
       "    <tr style=\"text-align: right;\">\n",
       "      <th></th>\n",
       "      <th>PortName</th>\n",
       "      <th>State</th>\n",
       "      <th>PortCode</th>\n",
       "      <th>Border</th>\n",
       "      <th>Date</th>\n",
       "      <th>Measure</th>\n",
       "      <th>Value</th>\n",
       "    </tr>\n",
       "  </thead>\n",
       "  <tbody>\n",
       "    <tr>\n",
       "      <th>0</th>\n",
       "      <td>Alcan</td>\n",
       "      <td>AK</td>\n",
       "      <td>3104</td>\n",
       "      <td>US-Canada Border</td>\n",
       "      <td>2/1/2020 00:00</td>\n",
       "      <td>Personal Vehicle Passengers</td>\n",
       "      <td>1414</td>\n",
       "    </tr>\n",
       "    <tr>\n",
       "      <th>1</th>\n",
       "      <td>Alcan</td>\n",
       "      <td>AK</td>\n",
       "      <td>3104</td>\n",
       "      <td>US-Canada Border</td>\n",
       "      <td>2/1/2020 00:00</td>\n",
       "      <td>Personal Vehicles</td>\n",
       "      <td>763</td>\n",
       "    </tr>\n",
       "    <tr>\n",
       "      <th>2</th>\n",
       "      <td>Alcan</td>\n",
       "      <td>AK</td>\n",
       "      <td>3104</td>\n",
       "      <td>US-Canada Border</td>\n",
       "      <td>2/1/2020 00:00</td>\n",
       "      <td>Truck Containers Empty</td>\n",
       "      <td>412</td>\n",
       "    </tr>\n",
       "    <tr>\n",
       "      <th>3</th>\n",
       "      <td>Alcan</td>\n",
       "      <td>AK</td>\n",
       "      <td>3104</td>\n",
       "      <td>US-Canada Border</td>\n",
       "      <td>2/1/2020 00:00</td>\n",
       "      <td>Truck Containers Full</td>\n",
       "      <td>122</td>\n",
       "    </tr>\n",
       "    <tr>\n",
       "      <th>4</th>\n",
       "      <td>Alcan</td>\n",
       "      <td>AK</td>\n",
       "      <td>3104</td>\n",
       "      <td>US-Canada Border</td>\n",
       "      <td>2/1/2020 00:00</td>\n",
       "      <td>Trucks</td>\n",
       "      <td>545</td>\n",
       "    </tr>\n",
       "  </tbody>\n",
       "</table>\n",
       "</div>"
      ],
      "text/plain": [
       "  PortName State  PortCode            Border            Date  \\\n",
       "0    Alcan    AK      3104  US-Canada Border  2/1/2020 00:00   \n",
       "1    Alcan    AK      3104  US-Canada Border  2/1/2020 00:00   \n",
       "2    Alcan    AK      3104  US-Canada Border  2/1/2020 00:00   \n",
       "3    Alcan    AK      3104  US-Canada Border  2/1/2020 00:00   \n",
       "4    Alcan    AK      3104  US-Canada Border  2/1/2020 00:00   \n",
       "\n",
       "                       Measure  Value  \n",
       "0  Personal Vehicle Passengers   1414  \n",
       "1            Personal Vehicles    763  \n",
       "2       Truck Containers Empty    412  \n",
       "3        Truck Containers Full    122  \n",
       "4                       Trucks    545  "
      ]
     },
     "execution_count": 7,
     "metadata": {},
     "output_type": "execute_result"
    }
   ],
   "source": [
    "# Change the column names \n",
    "data.columns = ['PortName','State','PortCode','Border','Date','Measure','Value']\n",
    "data.head()"
   ]
  },
  {
   "cell_type": "code",
   "execution_count": 8,
   "metadata": {},
   "outputs": [
    {
     "name": "stdout",
     "output_type": "stream",
     "text": [
      "dtype before converting:\n",
      " PortName    object\n",
      "State       object\n",
      "PortCode     int64\n",
      "Border      object\n",
      "Date        object\n",
      "Measure     object\n",
      "Value        int64\n",
      "dtype: object\n"
     ]
    }
   ],
   "source": [
    "# storing dtype before converting \n",
    "before = data.dtypes\n",
    "print('dtype before converting:\\n',before)"
   ]
  },
  {
   "cell_type": "code",
   "execution_count": 9,
   "metadata": {},
   "outputs": [
    {
     "data": {
      "text/html": [
       "<div>\n",
       "<style scoped>\n",
       "    .dataframe tbody tr th:only-of-type {\n",
       "        vertical-align: middle;\n",
       "    }\n",
       "\n",
       "    .dataframe tbody tr th {\n",
       "        vertical-align: top;\n",
       "    }\n",
       "\n",
       "    .dataframe thead th {\n",
       "        text-align: right;\n",
       "    }\n",
       "</style>\n",
       "<table border=\"1\" class=\"dataframe\">\n",
       "  <thead>\n",
       "    <tr style=\"text-align: right;\">\n",
       "      <th></th>\n",
       "      <th>PortName</th>\n",
       "      <th>State</th>\n",
       "      <th>PortCode</th>\n",
       "      <th>Border</th>\n",
       "      <th>Date</th>\n",
       "      <th>Measure</th>\n",
       "      <th>Value</th>\n",
       "    </tr>\n",
       "  </thead>\n",
       "  <tbody>\n",
       "    <tr>\n",
       "      <th>0</th>\n",
       "      <td>Alcan</td>\n",
       "      <td>AK</td>\n",
       "      <td>3104</td>\n",
       "      <td>US-Canada Border</td>\n",
       "      <td>2020-02-01</td>\n",
       "      <td>Personal Vehicle Passengers</td>\n",
       "      <td>1414</td>\n",
       "    </tr>\n",
       "    <tr>\n",
       "      <th>1</th>\n",
       "      <td>Alcan</td>\n",
       "      <td>AK</td>\n",
       "      <td>3104</td>\n",
       "      <td>US-Canada Border</td>\n",
       "      <td>2020-02-01</td>\n",
       "      <td>Personal Vehicles</td>\n",
       "      <td>763</td>\n",
       "    </tr>\n",
       "    <tr>\n",
       "      <th>2</th>\n",
       "      <td>Alcan</td>\n",
       "      <td>AK</td>\n",
       "      <td>3104</td>\n",
       "      <td>US-Canada Border</td>\n",
       "      <td>2020-02-01</td>\n",
       "      <td>Truck Containers Empty</td>\n",
       "      <td>412</td>\n",
       "    </tr>\n",
       "    <tr>\n",
       "      <th>3</th>\n",
       "      <td>Alcan</td>\n",
       "      <td>AK</td>\n",
       "      <td>3104</td>\n",
       "      <td>US-Canada Border</td>\n",
       "      <td>2020-02-01</td>\n",
       "      <td>Truck Containers Full</td>\n",
       "      <td>122</td>\n",
       "    </tr>\n",
       "    <tr>\n",
       "      <th>4</th>\n",
       "      <td>Alcan</td>\n",
       "      <td>AK</td>\n",
       "      <td>3104</td>\n",
       "      <td>US-Canada Border</td>\n",
       "      <td>2020-02-01</td>\n",
       "      <td>Trucks</td>\n",
       "      <td>545</td>\n",
       "    </tr>\n",
       "  </tbody>\n",
       "</table>\n",
       "</div>"
      ],
      "text/plain": [
       "  PortName State  PortCode            Border       Date  \\\n",
       "0    Alcan    AK      3104  US-Canada Border 2020-02-01   \n",
       "1    Alcan    AK      3104  US-Canada Border 2020-02-01   \n",
       "2    Alcan    AK      3104  US-Canada Border 2020-02-01   \n",
       "3    Alcan    AK      3104  US-Canada Border 2020-02-01   \n",
       "4    Alcan    AK      3104  US-Canada Border 2020-02-01   \n",
       "\n",
       "                       Measure  Value  \n",
       "0  Personal Vehicle Passengers   1414  \n",
       "1            Personal Vehicles    763  \n",
       "2       Truck Containers Empty    412  \n",
       "3        Truck Containers Full    122  \n",
       "4                       Trucks    545  "
      ]
     },
     "execution_count": 9,
     "metadata": {},
     "output_type": "execute_result"
    }
   ],
   "source": [
    "#convert Area and Population values to float\n",
    "data['Date'] = data['Date'].astype('datetime64[ns]')\n",
    "# data['Value'] = data['Value'].astype('float64')\n",
    "data.head()"
   ]
  },
  {
   "cell_type": "code",
   "execution_count": 10,
   "metadata": {},
   "outputs": [
    {
     "name": "stdout",
     "output_type": "stream",
     "text": [
      "Before Conversion:\n",
      " PortName    object\n",
      "State       object\n",
      "PortCode     int64\n",
      "Border      object\n",
      "Date        object\n",
      "Measure     object\n",
      "Value        int64\n",
      "dtype: object\n",
      "\n",
      "After Conversion:\n",
      " PortName            object\n",
      "State               object\n",
      "PortCode             int64\n",
      "Border              object\n",
      "Date        datetime64[ns]\n",
      "Measure             object\n",
      "Value                int64\n",
      "dtype: object\n"
     ]
    }
   ],
   "source": [
    "# storing dtype before converting \n",
    "after = data.dtypes\n",
    "\n",
    "# printing to compare \n",
    "print('Before Conversion:\\n', before) \n",
    "print('\\nAfter Conversion:\\n', after) "
   ]
  },
  {
   "cell_type": "code",
   "execution_count": 11,
   "metadata": {},
   "outputs": [
    {
     "data": {
      "text/plain": [
       "(355511, 7)"
      ]
     },
     "execution_count": 11,
     "metadata": {},
     "output_type": "execute_result"
    }
   ],
   "source": [
    "#data frame shape\n",
    "data.shape"
   ]
  },
  {
   "cell_type": "code",
   "execution_count": 12,
   "metadata": {},
   "outputs": [],
   "source": [
    "# the url request was successful - convert the response to a string\n",
    "data_json = json.loads(data.to_json(orient='records'))"
   ]
  },
  {
   "cell_type": "code",
   "execution_count": 13,
   "metadata": {},
   "outputs": [
    {
     "name": "stdout",
     "output_type": "stream",
     "text": [
      "[{'PortName': 'Alcan', 'State': 'AK', 'PortCode': 3104, 'Border': 'US-Canada Border', 'Date': 1580515200000, 'Measure': 'Personal Vehicle Passengers', 'Value': 1414}, {'PortName': 'Alcan', 'State': 'AK', 'PortCode': 3104, 'Border': 'US-Canada Border', 'Date': 1580515200000, 'Measure': 'Personal Vehicles', 'Value': 763}, {'PortName': 'Alcan', 'State': 'AK', 'PortCode': 3104, 'Border': 'US-Canada Border', 'Date': 1580515200000, 'Measure': 'Truck Containers Empty', 'Value': 412}, {'PortName': 'Alcan', 'State': 'AK', 'PortCode': 3104, 'Border': 'US-Canada Border', 'Date': 1580515200000, 'Measure': 'Truck Containers Full', 'Value': 122}, {'PortName': 'Alcan', 'State': 'AK', 'PortCode': 3104, 'Border': 'US-Canada Border', 'Date': 1580515200000, 'Measure': 'Trucks', 'Value': 545}, {'PortName': 'Alexandria Bay', 'State': 'NY', 'PortCode': 708, 'Border': 'US-Canada Border', 'Date': 1580515200000, 'Measure': 'Bus Passengers', 'Value': 1174}, {'PortName': 'Alexandria Bay', 'State': 'NY', 'PortCode': 708, 'Border': 'US-Canada Border', 'Date': 1580515200000, 'Measure': 'Buses', 'Value': 36}, {'PortName': 'Alexandria Bay', 'State': 'NY', 'PortCode': 708, 'Border': 'US-Canada Border', 'Date': 1580515200000, 'Measure': 'Personal Vehicle Passengers', 'Value': 68630}, {'PortName': 'Alexandria Bay', 'State': 'NY', 'PortCode': 708, 'Border': 'US-Canada Border', 'Date': 1580515200000, 'Measure': 'Personal Vehicles', 'Value': 31696}, {'PortName': 'Alexandria Bay', 'State': 'NY', 'PortCode': 708, 'Border': 'US-Canada Border', 'Date': 1580515200000, 'Measure': 'Truck Containers Empty', 'Value': 1875}]\n"
     ]
    }
   ],
   "source": [
    "print(data_json[:10])"
   ]
  },
  {
   "cell_type": "code",
   "execution_count": 14,
   "metadata": {},
   "outputs": [
    {
     "name": "stdout",
     "output_type": "stream",
     "text": [
      "Border Crossing List 355511\n"
     ]
    }
   ],
   "source": [
    "print('Border Crossing List', len(data_json))"
   ]
  },
  {
   "cell_type": "code",
   "execution_count": 19,
   "metadata": {},
   "outputs": [
    {
     "name": "stdout",
     "output_type": "stream",
     "text": [
      "Connected successfully!!!\n",
      "Added 355511 to Border Crossing entries collection in borderentry database\n"
     ]
    }
   ],
   "source": [
    "# Connection to Mongo DB\n",
    "try:\n",
    "    client = MongoClient('localhost', 27017)\n",
    "    print (\"Connected successfully!!!\")\n",
    "except pymongo.errors.ConnectionFailure as e:\n",
    "    print (\"Could not connect to MongoDB: %s\" % e )\n",
    "\n",
    "else:\n",
    "    \n",
    "    #drop db\n",
    "    borderdb.borderentries.drop()\n",
    "    \n",
    "    # use database named usgs or create it if not there already\n",
    "    borderdb = client['borderentry']\n",
    "    # create collection named borderentries or create it if not there already\n",
    "    bordercoll = borderdb['borderentries']\n",
    "    # add all the border entries to the list\n",
    "    bordercoll.insert_many(data_json)\n",
    "    print(\"Added\", len(data_json), \"to Border Crossing entries collection in borderentry database\")\n",
    "    # close the database connection\n",
    "    client.close()"
   ]
  },
  {
   "cell_type": "code",
   "execution_count": 20,
   "metadata": {},
   "outputs": [
    {
     "data": {
      "text/plain": [
       "{'_id': ObjectId('5f35f5adb253933abdb60230'),\n",
       " 'PortName': 'Alcan',\n",
       " 'State': 'AK',\n",
       " 'PortCode': 3104,\n",
       " 'Border': 'US-Canada Border',\n",
       " 'Date': 1580515200000,\n",
       " 'Measure': 'Personal Vehicle Passengers',\n",
       " 'Value': 1414}"
      ]
     },
     "execution_count": 20,
     "metadata": {},
     "output_type": "execute_result"
    }
   ],
   "source": [
    "#search the first item from the collection\n",
    "bordercoll.find_one()"
   ]
  },
  {
   "cell_type": "code",
   "execution_count": 21,
   "metadata": {},
   "outputs": [
    {
     "name": "stdout",
     "output_type": "stream",
     "text": [
      "Total Number of Documents:  355511\n"
     ]
    }
   ],
   "source": [
    "#print the number of docs from db\n",
    "print('Total Number of Documents: ',bordercoll.count_documents({}))"
   ]
  },
  {
   "cell_type": "code",
   "execution_count": 22,
   "metadata": {},
   "outputs": [
    {
     "name": "stdout",
     "output_type": "stream",
     "text": [
      "{'_id': 'Truck Containers Full', 'Crossings': 185463194}\n",
      "{'_id': 'Bus Passengers', 'Crossings': 146027374}\n",
      "{'_id': 'Buses', 'Crossings': 8754394}\n",
      "{'_id': 'Personal Vehicles', 'Crossings': 2651535415}\n",
      "{'_id': 'Rail Containers Empty', 'Crossings': 22386399}\n",
      "{'_id': 'Truck Containers Empty', 'Crossings': 67036035}\n",
      "{'_id': 'Pedestrians', 'Crossings': 1090067964}\n",
      "{'_id': 'Personal Vehicle Passengers', 'Crossings': 5629526756}\n",
      "{'_id': 'Trucks', 'Crossings': 264731943}\n",
      "{'_id': 'Rail Containers Full', 'Crossings': 40492650}\n",
      "{'_id': 'Trains', 'Crossings': 933270}\n",
      "{'_id': 'Train Passengers', 'Crossings': 6472717}\n"
     ]
    }
   ],
   "source": [
    "# Aggregation \n",
    "cursor = bordercoll.aggregate([{\"$group\": \n",
    "       {\"_id\":\"$Measure\",\n",
    "       \"Crossings\":{\"$sum\":'$Value'}}}]) \n",
    "  \n",
    "for document in cursor: \n",
    "       print(document)"
   ]
  },
  {
   "cell_type": "code",
   "execution_count": 23,
   "metadata": {},
   "outputs": [
    {
     "data": {
      "text/plain": [
       "{'_id': ObjectId('5f35f5adb253933abdb60230'),\n",
       " 'PortName': 'Alcan',\n",
       " 'State': 'AK',\n",
       " 'PortCode': 3104,\n",
       " 'Border': 'US-Canada Border',\n",
       " 'Date': 1580515200000,\n",
       " 'Measure': 'Personal Vehicle Passengers',\n",
       " 'Value': 1414}"
      ]
     },
     "execution_count": 23,
     "metadata": {},
     "output_type": "execute_result"
    }
   ],
   "source": [
    "#search the first item from the collection\n",
    "bordercoll.find_one()"
   ]
  },
  {
   "cell_type": "code",
   "execution_count": 24,
   "metadata": {},
   "outputs": [
    {
     "data": {
      "text/plain": [
       "['borderentries']"
      ]
     },
     "execution_count": 24,
     "metadata": {},
     "output_type": "execute_result"
    }
   ],
   "source": [
    "#list db names\n",
    "borderdb.list_collection_names()"
   ]
  },
  {
   "cell_type": "code",
   "execution_count": 25,
   "metadata": {},
   "outputs": [],
   "source": [
    "#drop db\n",
    "borderdb.borderentries.drop()"
   ]
  },
  {
   "cell_type": "code",
   "execution_count": 26,
   "metadata": {},
   "outputs": [
    {
     "data": {
      "text/plain": [
       "[]"
      ]
     },
     "execution_count": 26,
     "metadata": {},
     "output_type": "execute_result"
    }
   ],
   "source": [
    "#empty database\n",
    "borderdb.list_collection_names()"
   ]
  }
 ],
 "metadata": {
  "kernelspec": {
   "display_name": "Python 3",
   "language": "python",
   "name": "python3"
  },
  "language_info": {
   "codemirror_mode": {
    "name": "ipython",
    "version": 3
   },
   "file_extension": ".py",
   "mimetype": "text/x-python",
   "name": "python",
   "nbconvert_exporter": "python",
   "pygments_lexer": "ipython3",
   "version": "3.7.6"
  }
 },
 "nbformat": 4,
 "nbformat_minor": 4
}
