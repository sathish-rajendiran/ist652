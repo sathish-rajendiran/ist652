{
 "cells": [
  {
   "cell_type": "markdown",
   "metadata": {},
   "source": [
    "Name: Sathish Kumar Rajendiran\n",
    "Task: Week7: 7.4 MongoDB\n",
    "Date: 8/12/2020"
   ]
  },
  {
   "cell_type": "code",
   "execution_count": 1,
   "metadata": {},
   "outputs": [],
   "source": [
    "#import libraries\n",
    "from urllib import request\n",
    "import json\n",
    "import pymongo\n",
    "from pymongo import MongoClient\n",
    "from datetime import datetime\n"
   ]
  },
  {
   "cell_type": "code",
   "execution_count": 2,
   "metadata": {},
   "outputs": [],
   "source": [
    "# get the bbc rss feed of news stories and connect to it\n",
    "earthquake_url = \"http://earthquake.usgs.gov/earthquakes/feed/v1.0/summary/significant_month.geojson\""
   ]
  },
  {
   "cell_type": "code",
   "execution_count": 3,
   "metadata": {},
   "outputs": [],
   "source": [
    "try:\n",
    "    # reponse \n",
    "    response = request.urlopen(earthquake_url).read().decode('utf8')\n",
    "except urllib.error.URLError as e:\n",
    "    if hasattr(e, 'reason'):\n",
    "        print('We failed to reach a server.')\n",
    "        print('Reason: ', e.reason)\n",
    "    elif hasattr(e, 'code'):\n",
    "        print('The server couldn\\'t fulfill the request.')\n",
    "        print('Error code: ', e.code)\n",
    "else:\n",
    "# the url request was successful - convert the response to a string\n",
    "    eq_json = json.loads(response)\n"
   ]
  },
  {
   "cell_type": "code",
   "execution_count": 4,
   "metadata": {},
   "outputs": [
    {
     "name": "stdout",
     "output_type": "stream",
     "text": [
      "Collected data from USGS Significant Earthquakes, Past Month \n",
      "\n",
      "quake list 11\n"
     ]
    }
   ],
   "source": [
    "# from the json dictionary we get the title to print\n",
    "title = eq_json['metadata']['title']\n",
    "print('Collected data from', title,'\\n')\n",
    "#  and we get the list of earthquakes\n",
    "quakelist = eq_json['features']\n",
    "print('quake list', len(quakelist))"
   ]
  },
  {
   "cell_type": "code",
   "execution_count": 11,
   "metadata": {},
   "outputs": [
    {
     "name": "stdout",
     "output_type": "stream",
     "text": [
      "Connected successfully!!!\n",
      "Added 11 to earthquakes collection in usgs database\n"
     ]
    }
   ],
   "source": [
    "# Connection to Mongo DB\n",
    "try:\n",
    "    client = MongoClient('localhost', 27017)\n",
    "    print (\"Connected successfully!!!\")\n",
    "except pymongo.errors.ConnectionFailure as e:\n",
    "    print (\"Could not connect to MongoDB: %s\" % e )\n",
    "\n",
    "else:\n",
    "    \n",
    "    # use database named usgs or create it if not there already\n",
    "    eqdb = client.usgs\n",
    "    # create collection named earthquakes or create it if not there already\n",
    "    quakecoll = eqdb.earthquakes\n",
    "    # add all the earthquakes to the list\n",
    "    quakecoll.insert_many(quakelist)\n",
    "    print(\"Added\", len(quakelist), \"to earthquakes collection in usgs database\")\n",
    "    # close the database connection\n",
    "    client.close()"
   ]
  },
  {
   "cell_type": "code",
   "execution_count": 6,
   "metadata": {},
   "outputs": [
    {
     "data": {
      "text/plain": [
       "{'_id': ObjectId('5f35d17d260d01ce7702bc63'),\n",
       " 'type': 'Feature',\n",
       " 'properties': {'mag': 6,\n",
       "  'place': '66 km ESE of Vikindu, Tanzania',\n",
       "  'time': 1597252395896,\n",
       "  'updated': 1597353013040,\n",
       "  'tz': None,\n",
       "  'url': 'https://earthquake.usgs.gov/earthquakes/eventpage/us6000bdg8',\n",
       "  'detail': 'https://earthquake.usgs.gov/earthquakes/feed/v1.0/detail/us6000bdg8.geojson',\n",
       "  'felt': 211,\n",
       "  'cdi': 4.3,\n",
       "  'mmi': 5.361,\n",
       "  'alert': 'green',\n",
       "  'status': 'reviewed',\n",
       "  'tsunami': 0,\n",
       "  'sig': 645,\n",
       "  'net': 'us',\n",
       "  'code': '6000bdg8',\n",
       "  'ids': ',us6000bdg8,',\n",
       "  'sources': ',us,',\n",
       "  'types': ',dyfi,ground-failure,losspager,moment-tensor,origin,phase-data,shakemap,',\n",
       "  'nst': None,\n",
       "  'dmin': 5.239,\n",
       "  'rms': 0.98,\n",
       "  'gap': 26,\n",
       "  'magType': 'mww',\n",
       "  'type': 'earthquake',\n",
       "  'title': 'M 6.0 - 66 km ESE of Vikindu, Tanzania'},\n",
       " 'geometry': {'type': 'Point', 'coordinates': [39.8073, -7.3283, 15.49]},\n",
       " 'id': 'us6000bdg8'}"
      ]
     },
     "execution_count": 6,
     "metadata": {},
     "output_type": "execute_result"
    }
   ],
   "source": [
    "#search the first item from the collection\n",
    "quakecoll.find_one()"
   ]
  },
  {
   "cell_type": "code",
   "execution_count": null,
   "metadata": {},
   "outputs": [],
   "source": [
    "results = quakecoll.find()\n",
    "for result in results:\n",
    "    place = result['properties']['place']\n",
    "    unix_time_mil = result['properties']['time'] # select unix timestamp in milliseconds\n",
    "    unix_time = unix_time_mil / 1000     # convert to unix in seconds\n",
    "    date = datetime.fromtimestamp(unix_time).strftime('%Y-%m-%d')\n",
    "    time = datetime.fromtimestamp(unix_time).strftime('%H:%M:%S')\n",
    "    # print the place ,date and time, with a label to show the time is in UTC\n",
    "    print('Place: ',place,' Date: ',date,'  Time: ',time )\n",
    "   "
   ]
  },
  {
   "cell_type": "code",
   "execution_count": 10,
   "metadata": {},
   "outputs": [
    {
     "data": {
      "text/plain": [
       "[]"
      ]
     },
     "execution_count": 10,
     "metadata": {},
     "output_type": "execute_result"
    }
   ],
   "source": [
    "#list db names\n",
    "eqdb.list_collection_names()"
   ]
  },
  {
   "cell_type": "code",
   "execution_count": 9,
   "metadata": {},
   "outputs": [],
   "source": [
    "#drop db\n",
    "eqdb.earthquakes.drop()"
   ]
  },
  {
   "cell_type": "code",
   "execution_count": 8,
   "metadata": {},
   "outputs": [
    {
     "data": {
      "text/plain": [
       "['earthquakes']"
      ]
     },
     "execution_count": 8,
     "metadata": {},
     "output_type": "execute_result"
    }
   ],
   "source": [
    "#empty database\n",
    "eqdb.list_collection_names()"
   ]
  }
 ],
 "metadata": {
  "kernelspec": {
   "display_name": "Python 3",
   "language": "python",
   "name": "python3"
  },
  "language_info": {
   "codemirror_mode": {
    "name": "ipython",
    "version": 3
   },
   "file_extension": ".py",
   "mimetype": "text/x-python",
   "name": "python",
   "nbconvert_exporter": "python",
   "pygments_lexer": "ipython3",
   "version": "3.7.6"
  }
 },
 "nbformat": 4,
 "nbformat_minor": 4
}
