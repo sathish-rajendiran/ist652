{
 "cells": [
  {
   "cell_type": "markdown",
   "metadata": {},
   "source": [
    "Name: Sathish Kumar Rajendiran\n",
    "Task: Week7: 7.4 MongoDB\n",
    "Date: 8/12/2020"
   ]
  },
  {
   "cell_type": "code",
   "execution_count": 2,
   "metadata": {},
   "outputs": [
    {
     "name": "stdout",
     "output_type": "stream",
     "text": [
      "Collecting pymongo\n",
      "  Downloading pymongo-3.11.0-cp37-cp37m-macosx_10_9_x86_64.whl (378 kB)\n",
      "\u001b[K     |████████████████████████████████| 378 kB 2.0 MB/s eta 0:00:01\n",
      "\u001b[?25hInstalling collected packages: pymongo\n",
      "Successfully installed pymongo-3.11.0\n"
     ]
    }
   ],
   "source": [
    "#pip install pymongo library\n",
    "!pip install pymongo\n",
    "    "
   ]
  },
  {
   "cell_type": "code",
   "execution_count": 4,
   "metadata": {},
   "outputs": [],
   "source": [
    "#import libraries\n",
    "import pymongo\n",
    "from pymongo import MongoClient"
   ]
  },
  {
   "cell_type": "code",
   "execution_count": 5,
   "metadata": {},
   "outputs": [],
   "source": [
    "# Connecting to the database\n",
    "client = MongoClient('localhost', 27017)\n",
    "client.list_database_names"
   ]
  },
  {
   "cell_type": "code",
   "execution_count": 9,
   "metadata": {},
   "outputs": [
    {
     "data": {
      "text/plain": [
       "[]"
      ]
     },
     "execution_count": 9,
     "metadata": {},
     "output_type": "execute_result"
    }
   ],
   "source": [
    "db = client.peopledb\n",
    "db.list_collection_names()"
   ]
  },
  {
   "cell_type": "code",
   "execution_count": 10,
   "metadata": {},
   "outputs": [
    {
     "data": {
      "text/plain": [
       "pymongo.collection.Collection"
      ]
     },
     "execution_count": 10,
     "metadata": {},
     "output_type": "execute_result"
    }
   ],
   "source": [
    "# Create a new collection or use an existing collection\n",
    "peoplecoll = db.people\n",
    "type(peoplecoll)"
   ]
  },
  {
   "cell_type": "code",
   "execution_count": 12,
   "metadata": {},
   "outputs": [],
   "source": [
    "# list of dictionaries to be used as documents in the collection\n",
    "peoplelist = [{ \"name\": \"John Smith\", \"age\": 30 }, { \"name\": \"BoBennett\", \"age\": 23 }, { \"name\": \"Anna Jones\", \"age\": 25 }]"
   ]
  },
  {
   "cell_type": "code",
   "execution_count": 20,
   "metadata": {},
   "outputs": [
    {
     "data": {
      "text/plain": [
       "pymongo.cursor.Cursor"
      ]
     },
     "execution_count": 20,
     "metadata": {},
     "output_type": "execute_result"
    }
   ],
   "source": [
    "# peoplecoll.insert_one({ \"name\": \"John Smith\", \"age\": 30 })\n",
    "\n",
    "peoplecoll.insert_many(peoplelist)\n",
    "\n",
    "docs = peoplecoll.find()\n",
    "print(type(docs))\n",
    "\n",
    "for doc in docs:\n",
    "    print(doc)"
   ]
  },
  {
   "cell_type": "code",
   "execution_count": 36,
   "metadata": {},
   "outputs": [
    {
     "name": "stdout",
     "output_type": "stream",
     "text": [
      "{'_id': ObjectId('5f34dacf58ebfdb97cdc16c7'), 'name': 'John Smith', 'age': 30}\n",
      "{'_id': ObjectId('5f34dae058ebfdb97cdc16c8'), 'name': 'John Smith', 'age': 30}\n",
      "{'_id': ObjectId('5f34db1058ebfdb97cdc16c9'), 'name': 'John Smith', 'age': 30}\n",
      "{'_id': ObjectId('5f34db1058ebfdb97cdc16ca'), 'name': 'BoBennett', 'age': 23}\n",
      "{'_id': ObjectId('5f34db1058ebfdb97cdc16cb'), 'name': 'Anna Jones', 'age': 25}\n",
      "{'_id': ObjectId('5f34db4c58ebfdb97cdc16cc'), 'name': 'Britney Sykes', 'age': 21, 'position': 'Guard'}\n",
      "{'_id': ObjectId('5f34db4c58ebfdb97cdc16cd'), 'name': 'Briana Day', 'age': 21, 'position': 'Center'}\n",
      "{'_id': ObjectId('5f34db4c58ebfdb97cdc16ce'), 'name': 'Alexis Peterson', 'age': 21, 'position': 'Guard'}\n",
      "{'_id': ObjectId('5f34db4c58ebfdb97cdc16cf'), 'name': 'Gabby Cooper', 'age': 18, 'position': 'Guard'}\n",
      "{'_id': ObjectId('5f34db7558ebfdb97cdc16d0'), 'name': 'Britney Sykes', 'age': 21, 'position': 'Guard'}\n",
      "{'_id': ObjectId('5f34db7558ebfdb97cdc16d1'), 'name': 'Briana Day', 'age': 21, 'position': 'Center'}\n",
      "{'_id': ObjectId('5f34db7558ebfdb97cdc16d2'), 'name': 'Alexis Peterson', 'age': 21, 'position': 'Guard'}\n",
      "{'_id': ObjectId('5f34db7558ebfdb97cdc16d3'), 'name': 'Gabby Cooper', 'age': 18, 'position': 'Guard'}\n",
      "{'_id': ObjectId('5f34ddbb58ebfdb97cdc16d4'), 'name': 'Britney Sykes', 'age': 21, 'position': 'Guard'}\n",
      "{'_id': ObjectId('5f34ddbb58ebfdb97cdc16d5'), 'name': 'Briana Day', 'age': 21, 'position': 'Center'}\n",
      "{'_id': ObjectId('5f34ddbb58ebfdb97cdc16d6'), 'name': 'Alexis Peterson', 'age': 21, 'position': 'Guard'}\n",
      "{'_id': ObjectId('5f34ddbb58ebfdb97cdc16d7'), 'name': 'Gabby Cooper', 'age': 18, 'position': 'Guard'}\n"
     ]
    }
   ],
   "source": [
    "# more entries to people collection\n",
    "morepeoplelist = [{ \"name\": \"Britney Sykes\", \"age\": 21 ,'position':'Guard'}, { \"name\": \"Briana Day\", \"age\": 21,\n",
    "'position':'Center'}, { \"name\": \"Alexis Peterson\", \"age\": 21,'position':'Guard' }, { \"name\": \"Gabby Cooper\", \"age\": 18,\n",
    "'position':'Guard'}]\n",
    "\n",
    "peoplecoll.insert_many(morepeoplelist)\n",
    "docs = peoplecoll.find()\n",
    "\n",
    "#retrive all docs from the people collection\n",
    "for doc in docs:\n",
    "    print(doc)"
   ]
  },
  {
   "cell_type": "code",
   "execution_count": 28,
   "metadata": {},
   "outputs": [
    {
     "data": {
      "text/plain": [
       "{'_id': ObjectId('5f34dacf58ebfdb97cdc16c7'), 'name': 'John Smith', 'age': 30}"
      ]
     },
     "execution_count": 28,
     "metadata": {},
     "output_type": "execute_result"
    }
   ],
   "source": [
    "#search the first item from the collection\n",
    "peoplecoll.find_one()"
   ]
  },
  {
   "cell_type": "code",
   "execution_count": 29,
   "metadata": {},
   "outputs": [
    {
     "name": "stdout",
     "output_type": "stream",
     "text": [
      "{'_id': ObjectId('5f34db1058ebfdb97cdc16cb'), 'name': 'Anna Jones', 'age': 25}\n"
     ]
    }
   ],
   "source": [
    "#search one item by name\n",
    "result = peoplecoll.find_one({'name':'Anna Jones'})\n",
    "print(result)"
   ]
  },
  {
   "cell_type": "code",
   "execution_count": 30,
   "metadata": {},
   "outputs": [
    {
     "name": "stdout",
     "output_type": "stream",
     "text": [
      "{'_id': ObjectId('5f34db4c58ebfdb97cdc16cc'), 'name': 'Britney Sykes', 'age': 21, 'position': 'Guard'}\n",
      "{'_id': ObjectId('5f34db4c58ebfdb97cdc16ce'), 'name': 'Alexis Peterson', 'age': 21, 'position': 'Guard'}\n",
      "{'_id': ObjectId('5f34db4c58ebfdb97cdc16cf'), 'name': 'Gabby Cooper', 'age': 18, 'position': 'Guard'}\n",
      "{'_id': ObjectId('5f34db7558ebfdb97cdc16d0'), 'name': 'Britney Sykes', 'age': 21, 'position': 'Guard'}\n",
      "{'_id': ObjectId('5f34db7558ebfdb97cdc16d2'), 'name': 'Alexis Peterson', 'age': 21, 'position': 'Guard'}\n",
      "{'_id': ObjectId('5f34db7558ebfdb97cdc16d3'), 'name': 'Gabby Cooper', 'age': 18, 'position': 'Guard'}\n"
     ]
    }
   ],
   "source": [
    "results = peoplecoll.find({'position':'Guard'})\n",
    "for result in results:\n",
    "    print(result)"
   ]
  },
  {
   "cell_type": "code",
   "execution_count": 35,
   "metadata": {},
   "outputs": [
    {
     "data": {
      "text/plain": [
       "<bound method MongoClient.list_database_names of MongoClient(host=['localhost:27017'], document_class=dict, tz_aware=False, connect=True)>"
      ]
     },
     "execution_count": 35,
     "metadata": {},
     "output_type": "execute_result"
    }
   ],
   "source": [
    "client.list_database_names"
   ]
  },
  {
   "cell_type": "code",
   "execution_count": 34,
   "metadata": {},
   "outputs": [
    {
     "data": {
      "text/plain": [
       "['people']"
      ]
     },
     "execution_count": 34,
     "metadata": {},
     "output_type": "execute_result"
    }
   ],
   "source": [
    "db.list_collection_names()"
   ]
  },
  {
   "cell_type": "code",
   "execution_count": 37,
   "metadata": {},
   "outputs": [],
   "source": [
    "mypeoplecoll = db.peoplelist"
   ]
  }
 ],
 "metadata": {
  "kernelspec": {
   "display_name": "Python 3",
   "language": "python",
   "name": "python3"
  },
  "language_info": {
   "codemirror_mode": {
    "name": "ipython",
    "version": 3
   },
   "file_extension": ".py",
   "mimetype": "text/x-python",
   "name": "python",
   "nbconvert_exporter": "python",
   "pygments_lexer": "ipython3",
   "version": "3.7.6"
  }
 },
 "nbformat": 4,
 "nbformat_minor": 4
}
