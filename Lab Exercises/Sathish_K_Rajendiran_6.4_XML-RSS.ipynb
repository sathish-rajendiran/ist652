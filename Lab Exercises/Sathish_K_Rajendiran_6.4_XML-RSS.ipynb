{
 "cells": [
  {
   "cell_type": "markdown",
   "metadata": {},
   "source": [
    "6.4 XML, DOM, and Element Tree\n",
    "Week 6 · Semi-structured Data\n",
    "\n",
    "    Name: Sathish Kumar Rajendiran\n",
    "    Task: Class work - XML, DOM and Element Tree\n",
    "    Date: 8/5/2020"
   ]
  },
  {
   "cell_type": "code",
   "execution_count": 2,
   "metadata": {},
   "outputs": [],
   "source": [
    "#import libraries\n",
    "from urllib import request\n",
    "from urllib.error import URLError,HTTPError\n",
    "\n",
    "import xml.etree.ElementTree as etree\n",
    "import io\n",
    "import pandas as pd"
   ]
  },
  {
   "cell_type": "code",
   "execution_count": 3,
   "metadata": {},
   "outputs": [
    {
     "name": "stdout",
     "output_type": "stream",
     "text": [
      "<?xml version=\"1.0\" encoding=\"UTF-8\"?>\r\n",
      "<?xml-stylesheet type=\"text/xsl\" media=\"screen\" href=\"/~d/styles/rss2full.xsl\"?><?xml-stylesheet type=\"text/css\" media=\"screen\" href=\"http://rss.cnn.com/~d/styles/itemcontent.css\"?><rss xmlns:dc=\"http://purl.org/dc/elements/1.1/\" xmlns:content=\"http://purl.org/rss/1.0/modules/content/\" xmlns:atom=\"http://www.w3.org/2005/Atom\" xmlns:media=\"http://search.yahoo.com/mrss/\" xmlns:feedburner=\"http://rssnamespace.org/feedburner/ext/1.0\" version=\"2.0\"><channel><ti\n"
     ]
    }
   ],
   "source": [
    "#define url and import data using request and urlopen\n",
    "url = 'http://rss.cnn.com/rss/cnn_topstories.rss.xml'\n",
    "#error handling\n",
    "try:\n",
    "    resp = request.urlopen(url).read().decode('utf8')\n",
    "except URLError as e:\n",
    "    if hasattr(e, 'reason'):\n",
    "        print('We failed to reach a server.')\n",
    "        print('Reason: ', e.reason)\n",
    "    elif hasattr(e, 'code'):\n",
    "        print('The server couldn\\'t fulfill the request.')\n",
    "        print('Error code: ', e.code)\n",
    "else:\n",
    "    print(resp[:500])"
   ]
  },
  {
   "cell_type": "code",
   "execution_count": 4,
   "metadata": {},
   "outputs": [
    {
     "data": {
      "text/plain": [
       "xml.etree.ElementTree.ElementTree"
      ]
     },
     "execution_count": 4,
     "metadata": {},
     "output_type": "execute_result"
    }
   ],
   "source": [
    "#define tree\n",
    "xmlfile = io.StringIO(resp)\n",
    "tree = etree.parse(xmlfile)\n",
    "type(tree)\n"
   ]
  },
  {
   "cell_type": "code",
   "execution_count": 7,
   "metadata": {},
   "outputs": [
    {
     "name": "stdout",
     "output_type": "stream",
     "text": [
      "CNN.com - RSS Channel - HP Hero\n",
      "CNN.com - RSS Channel - HP Hero\n",
      "The coronavirus pandemic has Americans spending more at the supermarket than they have in years\n",
      "It's harder to find sale items at the grocery store\n",
      "Why Fauci thinks the US doesn't have to lockdown\n",
      "Groceries were hard to find for millions. Now it's getting even worse\n",
      "Covid-19 patients may develop skin rashes and discoloration, studies find \n",
      "Second grader tests positive after first day of school \n",
      "Parents and teachers torn about kids going back to school\n",
      "Mississippi has the nation's highest test positivity rate\n"
     ]
    }
   ],
   "source": [
    "#list the top 10 \n",
    "alltitles = tree.findall('.//title')\n",
    "len(alltitles)\n",
    "\n",
    "for title in alltitles[:10]:\n",
    "    print(title.text)"
   ]
  }
 ],
 "metadata": {
  "kernelspec": {
   "display_name": "Python 3",
   "language": "python",
   "name": "python3"
  },
  "language_info": {
   "codemirror_mode": {
    "name": "ipython",
    "version": 3
   },
   "file_extension": ".py",
   "mimetype": "text/x-python",
   "name": "python",
   "nbconvert_exporter": "python",
   "pygments_lexer": "ipython3",
   "version": "3.7.6"
  }
 },
 "nbformat": 4,
 "nbformat_minor": 4
}
