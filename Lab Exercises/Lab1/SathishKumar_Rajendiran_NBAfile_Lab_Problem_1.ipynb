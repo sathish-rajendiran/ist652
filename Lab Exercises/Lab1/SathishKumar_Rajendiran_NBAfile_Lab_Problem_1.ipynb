{
 "cells": [
  {
   "cell_type": "markdown",
   "metadata": {},
   "source": [
    "\n",
    "**********************************************************************************************************************\n",
    "\n",
    "Title: \"IST652 Lab1\"\n",
    "Name: Sathish Kumar Rajendiran\n",
    "Date: 07/12/2020\n",
    "\n",
    "**********************************************************************************************************************\n",
    "\n",
    "Objective:\n",
    "    For the NBAfile.py program, for each line, create a string using string formatting that puts the team, attendance, and ticket prices into a formatted string. Each line should look something like:\n",
    "‘The attendance at Atlanta was 13993 and the ticket price was $20.06’\n",
    "\n",
    "**********************************************************************************************************************\n"
   ]
  },
  {
   "cell_type": "code",
   "execution_count": 1,
   "metadata": {},
   "outputs": [],
   "source": [
    "# open the file for reading (in the same directory as the program)\n",
    "try: \n",
    "    NBAfile = open ('/Users/sathishrajendiran/ist652-python/NBA-Attendance-1989.txt', 'r')\n",
    "    \n",
    "except:\n",
    "    print(\"Is the file in correct directory?\")"
   ]
  },
  {
   "cell_type": "code",
   "execution_count": 2,
   "metadata": {},
   "outputs": [],
   "source": [
    "# Create a dummy list\n",
    "NBAlist = []"
   ]
  },
  {
   "cell_type": "code",
   "execution_count": 3,
   "metadata": {},
   "outputs": [],
   "source": [
    "for line in NBAfile:\n",
    "    textline = line.strip()\n",
    "    # split the line on whitespace\n",
    "    lines = textline.split()\n",
    "    # add the list of items to the NBAlist\n",
    "    NBAlist.append(lines)"
   ]
  },
  {
   "cell_type": "code",
   "execution_count": null,
   "metadata": {},
   "outputs": [],
   "source": [
    "# Review the list\n",
    "#NBAlist"
   ]
  },
  {
   "cell_type": "code",
   "execution_count": 4,
   "metadata": {},
   "outputs": [
    {
     "name": "stdout",
     "output_type": "stream",
     "text": [
      "The attendance at Atlanta was 13993 and the ticket price was $20.06\n",
      "The attendance at Boston was 14916 and the ticket price was $22.54\n",
      "The attendance at Charlotte was 23901 and the ticket price was $17\n",
      "The attendance at Chicago was 18404 and the ticket price was $21.98\n",
      "The attendance at Cleveland was 16969 and the ticket price was $19.63\n",
      "The attendance at Dallas was 16868 and the ticket price was $17.05\n",
      "The attendance at Denver was 12668 and the ticket price was $17.4\n",
      "The attendance at Detroit was 21454 and the ticket price was $24.42\n",
      "The attendance at Golden_State was 15025 and the ticket price was $17.04\n",
      "The attendance at Houston was 15846 and the ticket price was $17.56\n",
      "The attendance at Indiana was 12885 and the ticket price was $13.77\n",
      "The attendance at LA_Clippers was 11869 and the ticket price was $21.95\n",
      "The attendance at LA_Lakers was 17378 and the ticket price was $29.18\n",
      "The attendance at Miami was 15008 and the ticket price was $17.6\n",
      "The attendance at Milwaukee was 16088 and the ticket price was $14.08\n",
      "The attendance at Minnesota was 26160 and the ticket price was $10.92\n",
      "The attendance at New_Jersey was 12160 and the ticket price was $13.31\n",
      "The attendance at New_York was 17815 and the ticket price was $22.7\n",
      "The attendance at Orlando was 15606 and the ticket price was $20.47\n",
      "The attendance at Philadelphia was 14017 and the ticket price was $19.04\n",
      "The attendance at Phoenix was 14114 and the ticket price was $16.59\n",
      "The attendance at Portland was 12884 and the ticket price was $22.19\n",
      "The attendance at Sacramento was 17014 and the ticket price was $16.96\n",
      "The attendance at San_Antonio was 14722 and the ticket price was $16.79\n",
      "The attendance at Seattle was 12244 and the ticket price was $18.11\n",
      "The attendance at Utah was 12616 and the ticket price was $18.41\n",
      "The attendance at Washington was 11565 and the ticket price was $14.55\n"
     ]
    }
   ],
   "source": [
    "for line in NBAlist:\n",
    "    print('The attendance at',line[0], 'was',line[1],'and the ticket price was $'+line[2])"
   ]
  },
  {
   "cell_type": "code",
   "execution_count": 5,
   "metadata": {},
   "outputs": [],
   "source": [
    "NBAfile.close()"
   ]
  },
  {
   "cell_type": "code",
   "execution_count": 6,
   "metadata": {},
   "outputs": [
    {
     "name": "stdout",
     "output_type": "stream",
     "text": [
      "End of Lab1 Exercise!\n"
     ]
    }
   ],
   "source": [
    "print('End of Lab1 Exercise!')"
   ]
  },
  {
   "cell_type": "code",
   "execution_count": null,
   "metadata": {},
   "outputs": [],
   "source": []
  }
 ],
 "metadata": {
  "kernelspec": {
   "display_name": "Python 3",
   "language": "python",
   "name": "python3"
  },
  "language_info": {
   "codemirror_mode": {
    "name": "ipython",
    "version": 3
   },
   "file_extension": ".py",
   "mimetype": "text/x-python",
   "name": "python",
   "nbconvert_exporter": "python",
   "pygments_lexer": "ipython3",
   "version": "3.7.6"
  }
 },
 "nbformat": 4,
 "nbformat_minor": 4
}
