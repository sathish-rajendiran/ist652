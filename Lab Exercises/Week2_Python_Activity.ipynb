{
 "cells": [
  {
   "cell_type": "code",
   "execution_count": 2,
   "metadata": {},
   "outputs": [
    {
     "name": "stdout",
     "output_type": "stream",
     "text": [
      "Enter a score:Done\n"
     ]
    }
   ],
   "source": [
    "while True:\n",
    "    inp = input('Enter a score:')\n",
    "    if inp == 'Done':\n",
    "        break\n",
    "    try:\n",
    "        hours = input(\"Enter Hours: \")\n",
    "        rate = input(\"Enter Rate:\")\n",
    "        print(type(hours))\n",
    "        print(type(rate))\n",
    "        print(\"Pay: \", int(hours)*float(rate))\n",
    "    except ValueError:\n",
    "        print(\"Bad Score\")"
   ]
  },
  {
   "cell_type": "code",
   "execution_count": 3,
   "metadata": {},
   "outputs": [
    {
     "name": "stdout",
     "output_type": "stream",
     "text": [
      "\n",
      "Exercise 2:Results\n",
      "Label[ 1 ] is book\n",
      "Label[ 3 ] is dog\n",
      "Label[ 6 ] is girl\n",
      "Label[ 9 ] is joey\n"
     ]
    }
   ],
   "source": [
    "print('\\nExercise 2:Results')\n",
    "Samples = ['at','book', 'catch', 'dog', 'elephant', 'famous', 'girl', 'he', 'india', 'joey']\n",
    "for elem in Samples:\n",
    "    if 2 < len(elem) < 5:\n",
    "        print('Label[', Samples.index(elem), '] is', elem)"
   ]
  },
  {
   "cell_type": "code",
   "execution_count": 7,
   "metadata": {},
   "outputs": [
    {
     "name": "stdout",
     "output_type": "stream",
     "text": [
      "Enter a score:.4\n",
      "Grade: A\n",
      "Enter a score:.7\n",
      "Grade: A\n",
      "Enter a score:.9\n",
      "Grade: A\n",
      "Enter a score:0\n",
      "Grade: A\n",
      "Enter a score:10\n",
      "Grade: A\n",
      "Enter a score:Done\n"
     ]
    }
   ],
   "source": [
    "while True:\n",
    "    inp = input('Enter a score:')\n",
    "    if inp == 'Done':\n",
    "        break\n",
    "    try:\n",
    "        s = float(score)\n",
    "        if (s >= 0) and (s <= 1):\n",
    "            if s >= 0.9:\n",
    "                print(\"Grade: A\")\n",
    "            if(s >= 0.8) and (s < 0.9):\n",
    "                print(\"Grade: B\")\n",
    "            if (s >= 0.7) and (s < 0.8):\n",
    "                print(\"Grade: C\")\n",
    "            if (s >= 0.6) and (s < 0.7):\n",
    "                print(\"Grade: D\")\n",
    "            if s < 0.6:\n",
    "                print(\"Grade: F\")\n",
    "        else:\n",
    "            print(\"Bad Score\")\n",
    "\n",
    "    except ValueError:\n",
    "        print(\"Bad Score\")\n",
    "\n"
   ]
  },
  {
   "cell_type": "code",
   "execution_count": null,
   "metadata": {},
   "outputs": [],
   "source": []
  }
 ],
 "metadata": {
  "kernelspec": {
   "display_name": "Python 3",
   "language": "python",
   "name": "python3"
  },
  "language_info": {
   "codemirror_mode": {
    "name": "ipython",
    "version": 3
   },
   "file_extension": ".py",
   "mimetype": "text/x-python",
   "name": "python",
   "nbconvert_exporter": "python",
   "pygments_lexer": "ipython3",
   "version": "3.7.6"
  }
 },
 "nbformat": 4,
 "nbformat_minor": 4
}
