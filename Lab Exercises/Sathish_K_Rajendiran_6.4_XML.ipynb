{
 "cells": [
  {
   "cell_type": "markdown",
   "metadata": {},
   "source": [
    "Print 10 rows from espn ratings"
   ]
  },
  {
   "cell_type": "code",
   "execution_count": 5,
   "metadata": {},
   "outputs": [],
   "source": [
    "#import libraries\n",
    "from urllib import request\n",
    "from urllib.error import URLError,HTTPError\n",
    "\n",
    "import xml.etree.ElementTree as etree\n",
    "import io\n",
    "import pandas as pd"
   ]
  },
  {
   "cell_type": "code",
   "execution_count": 4,
   "metadata": {},
   "outputs": [
    {
     "name": "stdout",
     "output_type": "stream",
     "text": [
      "<?xml version=\"1.0\" encoding=\"UTF-8\"?>\n",
      "<?xml-stylesheet title=\"XSL_formatting\" type=\"text/xsl\" href=\"/shared/bsp/xsl/rss/nolsol.xsl\"?>\n",
      "<rss xmlns:dc=\"http://purl.org/dc/elements/1.1/\" xmlns:content=\"http://purl.org/rss/1.0/modules/content/\" xmlns:atom=\"http://www.w3.org/2005/Atom\" version=\"2.0\" xmlns:media=\"http://search.yahoo.com/mrss/\">\n",
      "    <channel>\n",
      "        <title><![CDATA[BBC News - Home]]></title>\n",
      "        <description><![CDATA[BBC News - Home]]></description>\n",
      "        <link>https://www.bbc.c\n"
     ]
    }
   ],
   "source": [
    "#define url and import data using request and urlopen\n",
    "url = 'http://feeds.bbci.co.uk/news/rss.xml'\n",
    "#error handling\n",
    "try:\n",
    "    resp = request.urlopen(url).read().decode('utf8')\n",
    "except URLError as e:\n",
    "    if hasattr(e, 'reason'):\n",
    "        print('We failed to reach a server.')\n",
    "        print('Reason: ', e.reason)\n",
    "    elif hasattr(e, 'code'):\n",
    "        print('The server couldn\\'t fulfill the request.')\n",
    "        print('Error code: ', e.code)\n",
    "else:\n",
    "#     soup = bs(resp,'lxml')  #apply beautifulsoup & prettify the output\n",
    "    print(resp[:500])"
   ]
  },
  {
   "cell_type": "code",
   "execution_count": 8,
   "metadata": {},
   "outputs": [
    {
     "name": "stdout",
     "output_type": "stream",
     "text": [
      "<xml.etree.ElementTree.ElementTree object at 0x11cf98dd0>\n"
     ]
    }
   ],
   "source": [
    "xmlfile = io.StringIO(resp)\n",
    "tree = etree.parse(xmlfile)\n",
    "type(tree)\n"
   ]
  },
  {
   "cell_type": "code",
   "execution_count": 11,
   "metadata": {},
   "outputs": [
    {
     "data": {
      "text/plain": [
       "xml.etree.ElementTree.Element"
      ]
     },
     "execution_count": 11,
     "metadata": {},
     "output_type": "execute_result"
    }
   ],
   "source": [
    "root = tree.getroot()\n",
    "type(root)"
   ]
  },
  {
   "cell_type": "code",
   "execution_count": 15,
   "metadata": {},
   "outputs": [
    {
     "name": "stdout",
     "output_type": "stream",
     "text": [
      "{'version': '2.0'}\n",
      "<Element 'channel' at 0x11cf97e90>\n"
     ]
    }
   ],
   "source": [
    "root.tag\n",
    "print(root.attrib)\n",
    "root.text\n",
    "\n",
    "for child in root:\n",
    "    print(child)"
   ]
  },
  {
   "cell_type": "code",
   "execution_count": 21,
   "metadata": {},
   "outputs": [
    {
     "name": "stdout",
     "output_type": "stream",
     "text": [
      "channel\n",
      "\n",
      "        \n"
     ]
    }
   ],
   "source": [
    "firstchild = root[0]\n",
    "type(firstchild)\n",
    "print(firstchild.tag)\n",
    "firstchild.attrib\n",
    "print(firstchild.text)"
   ]
  },
  {
   "cell_type": "code",
   "execution_count": 24,
   "metadata": {},
   "outputs": [
    {
     "data": {
      "text/plain": [
       "'BBC News - Home'"
      ]
     },
     "execution_count": 24,
     "metadata": {},
     "output_type": "execute_result"
    }
   ],
   "source": [
    "firstgrandchild = firstchild[0]\n",
    "firstgrandchild.tag\n",
    "firstgrandchild.text"
   ]
  },
  {
   "cell_type": "code",
   "execution_count": 27,
   "metadata": {},
   "outputs": [
    {
     "name": "stdout",
     "output_type": "stream",
     "text": [
      "56\n",
      "title {} Beirut explosion: Port officials under house arrest as rescue efforts continue\n",
      "description {} Rescue efforts continue a day after the explosion that left at least 135 dead and over 4,000 injured.\n",
      "link {} https://www.bbc.co.uk/news/world-middle-east-53670839\n",
      "guid {'isPermaLink': 'true'} https://www.bbc.co.uk/news/world-middle-east-53670839\n",
      "pubDate {} Wed, 05 Aug 2020 20:46:06 GMT\n"
     ]
    }
   ],
   "source": [
    "itemlist = firstchild.findall('item')\n",
    "print(len(itemlist))\n",
    "firstitem = itemlist[0]\n",
    "firstitem.attrib\n",
    "\n",
    "for element in firstitem:\n",
    "    print(element.tag, element.attrib, element.text)"
   ]
  },
  {
   "cell_type": "code",
   "execution_count": 28,
   "metadata": {},
   "outputs": [
    {
     "data": {
      "text/plain": [
       "<Element 'item' at 0x11cfa6470>"
      ]
     },
     "execution_count": 28,
     "metadata": {},
     "output_type": "execute_result"
    }
   ],
   "source": [
    "firstitem = firstchild.find('item')\n",
    "firstitem"
   ]
  },
  {
   "cell_type": "code",
   "execution_count": 30,
   "metadata": {},
   "outputs": [
    {
     "name": "stdout",
     "output_type": "stream",
     "text": [
      "BBC News - Home\n",
      "BBC News - Home\n",
      "Beirut explosion: Port officials under house arrest as rescue efforts continue\n",
      "Beirut blast: The mother in labour during explosion\n",
      "Coronavirus: Aberdeen goes into lockdown as Covid cluster grows\n",
      "Keeley Bunker: Man guilty of murdering childhood friend\n"
     ]
    }
   ],
   "source": [
    "alltitles = tree.findall('.//title')\n",
    "len(alltitles)\n",
    "\n",
    "for title in alltitles[:6]:\n",
    "    print(title.text)"
   ]
  }
 ],
 "metadata": {
  "kernelspec": {
   "display_name": "Python 3",
   "language": "python",
   "name": "python3"
  },
  "language_info": {
   "codemirror_mode": {
    "name": "ipython",
    "version": 3
   },
   "file_extension": ".py",
   "mimetype": "text/x-python",
   "name": "python",
   "nbconvert_exporter": "python",
   "pygments_lexer": "ipython3",
   "version": "3.7.6"
  }
 },
 "nbformat": 4,
 "nbformat_minor": 4
}
