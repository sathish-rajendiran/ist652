{
 "cells": [
  {
   "cell_type": "markdown",
   "metadata": {},
   "source": [
    "Week 4 Class work\n",
    "\n",
    "    Name: Sathish Kumar Rajendiran\n",
    "    Task: Write a Python program to convert a list and tuple into arrays.\n",
    "    Date: 7/23/2020\n",
    "    \n",
    "Arrays, List, Tuples, Functions\n"
   ]
  },
  {
   "cell_type": "code",
   "execution_count": 11,
   "metadata": {},
   "outputs": [
    {
     "name": "stdout",
     "output_type": "stream",
     "text": [
      "List:  [1, 2, 3, 4, 5, 6, 7, 8]\n",
      "Array:  [1 2 3 4 5 6 7 8]\n",
      "\n",
      "*********************************\n",
      "Tuple:  ([8, 4, 6], [1, 2, 3])\n",
      "Array:  [[8 4 6]\n",
      " [1 2 3]]\n"
     ]
    }
   ],
   "source": [
    "# Exercise 1\n",
    "# Write a Python program to convert a list into array \n",
    "# Write a Python program to convert a tuple into array\n",
    "\n",
    "import numpy as np\n",
    "\n",
    "#list\n",
    "lst = [1, 2, 3, 4, 5, 6, 7, 8]\n",
    "\n",
    "#converting list to Array\n",
    "arr = np.array(lst)\n",
    "\n",
    "# displaying list \n",
    "print (\"List: \", lst) \n",
    "  \n",
    "# displaying array \n",
    "print (\"Array: \", arr) \n",
    "\n",
    "print ('\\n*********************************')\n",
    "#Tuple\n",
    "tple = ([8, 4, 6], [1, 2, 3])\n",
    "\n",
    "#converting tuple to Array\n",
    "arr_tple = np.array(tple)\n",
    "\n",
    "# displaying list \n",
    "print (\"Tuple: \", tple) \n",
    "  \n",
    "# displaying array \n",
    "print (\"Array: \", arr_tple) \n",
    "\n"
   ]
  },
  {
   "cell_type": "code",
   "execution_count": 23,
   "metadata": {},
   "outputs": [
    {
     "name": "stdout",
     "output_type": "stream",
     "text": [
      "\n",
      "Array\n",
      "\n",
      "Array: [10 20 30 40 50 60 70 80 90]\n",
      "\n",
      "Enter a value:20\n",
      "\n",
      "Enter a value:Done\n",
      "\n",
      "********** Data Entry Ends **********\n",
      "\n",
      "Array: [10, 20, 30, 20]\n",
      "\n",
      "Array: [10 20 30 40 50 60 70 80 90]\n"
     ]
    }
   ],
   "source": [
    "# Exercise 2\n",
    "\n",
    "#list with list\n",
    "\n",
    "print('\\nArray')\n",
    "newList = [10, 20, 30] \n",
    "appendList = [40, 50, 60, 70, 80, 90] \n",
    "revList = np.append(newList,appendList)\n",
    "print('\\nArray:', revList)\n",
    "\n",
    "\n",
    "numlist = [10, 20, 30] \n",
    "#append to list from data entry\n",
    "while True:\n",
    "    inp = input('\\nEnter a value:')\n",
    "    if inp == 'Done':\n",
    "        print(\"\\n********** Data Entry Ends **********\")\n",
    "        break\n",
    "    try:\n",
    "        n = int(inp)\n",
    "        numlist.append(n)     \n",
    "    except ValueError:\n",
    "        print(\"Bad Value\")\n",
    "\n",
    "print('\\nArray:', numlist)\n",
    "\n",
    "\n",
    "#list with tuple into list\n",
    "\n",
    "newList1 = [10, 20, 30] \n",
    "appendList1 = ([40, 50, 60], [70, 80, 90]) \n",
    "\n",
    "revList1 = np.append(newList1,appendList1)\n",
    "print('\\nArray:', revList1)"
   ]
  },
  {
   "cell_type": "code",
   "execution_count": null,
   "metadata": {},
   "outputs": [],
   "source": [
    "# List vs Tuple\n",
    "\n",
    "# List:\n",
    "#     1. Mutable ; Immutable\n",
    "#     2. Syntax list_num = [] ; tuplle_num = () | Lst has variable length\n",
    "#     3. dir(list_num) vs dir(tup_num) ; list has more functions than tuplese\n",
    "#     4. Tuples operation has smaller size than that of list, \n",
    "#     which makes it a bit faster but not that much to mention about until you have a huge number of elements.\n",
    "#     5. Tuples are commonly used as the equivalent of a dictionary without keys to store data\n",
    "#     6. Reading data is simpler when tuples are stored inside a list\n",
    "      \n",
    "#         xtuple  = [(2,4), (5,7), (3,8), (5,9)]\n",
    "#         xlist = [[2,4], [5,7], [3,8], [5,9]]\n",
    "#     7. Tuple can also be used as key in dictionary due to their hashable \n",
    "#        and immutable nature whereas Lists are not used as key in a dictionary because list can’t \n",
    "#        handle __hash__() and have mutable nature.\n",
    "    \n",
    "# list_num = [1,2,3,4]\n",
    "# tup_num = (1,2,3,4)\n",
    "\n",
    "# print(list_num)\n",
    "# print(tup_num)\n",
    "\n",
    "\n"
   ]
  },
  {
   "cell_type": "code",
   "execution_count": 49,
   "metadata": {},
   "outputs": [
    {
     "name": "stdout",
     "output_type": "stream",
     "text": [
      "\n",
      "********** Fnction Call begins **********\n",
      "********** Fnction Call Ends **********\n",
      "Total Amount:  51.0\n"
     ]
    }
   ],
   "source": [
    "# 1.  Create a function add_tax(amount, tax_rate) that accepts numeric values, amount and tax_rate,\n",
    "\n",
    "#      and returns a new total amount with the tax amount included. \n",
    "\n",
    "# Note: that tax rate and tax amount are different.\n",
    "print(\"\\n********** Fnction Call begins **********\")\n",
    "def numfunctions(amount,tax_rate):\n",
    "    tax_rate = float(tax_rate)/100\n",
    "    tax_amount = amount*tax_rate\n",
    "    total_amount = amount+tax_amount\n",
    "    print(\"Total Amount: \", total_amount)\n",
    "\n",
    "print(\"********** Fnction Call Ends **********\")\n",
    "    \n",
    "numfunctions(50,2)\n",
    "    \n",
    "    \n",
    "print(\"********** Data Entry begins **********\")\n",
    "while True:\n",
    "    amount = input(\"Enter amount: \")\n",
    "    tax_rate = input(\"Enter tax_rate:\")\n",
    "\n",
    "    if inp == 'Done':\n",
    "        break\n",
    "    try:\n",
    "        amount = float(amount)\n",
    "        tax_rate = float(tax_rate)\n",
    "        numfunctions(amount,tax_rate)\n",
    "    except ValueError:\n",
    "        print(\"Bad Score\")\n"
   ]
  },
  {
   "cell_type": "code",
   "execution_count": null,
   "metadata": {},
   "outputs": [
    {
     "name": "stdout",
     "output_type": "stream",
     "text": [
      "********** Data Entry begins **********\n"
     ]
    }
   ],
   "source": [
    "# 2.  Define a function mean(a, b, c) that returns the mean of three numbers. \n",
    "# Hint: Divide by 3.0 to get a float. \n",
    "# Make sure that your answer only has 2 decimals.\n",
    "\n",
    "\n",
    "def mean(a,b,c):\n",
    "    print(\"\\n********** Fnction Call begins **********\")\n",
    "    nsum = a + b+ c\n",
    "    navg = float(nsum)/3.0\n",
    "\n",
    "    print('Avg of the items:',round(navg,2))\n",
    "    print(\"********** Fnction Call Ends **********\")\n",
    "\n",
    "print(\"********** Data Entry begins **********\")\n",
    "\n",
    "\n",
    "while True:\n",
    "    t = input(\"Enter \")\n",
    "    a = input(\"Enter Value 1: \")\n",
    "    b = input(\"Enter Value 2: \")\n",
    "    c = input(\"Enter Value 3: \")\n",
    "    \n",
    "    if a == 'Done':\n",
    "        break\n",
    "    try:\n",
    "        a = float(a)\n",
    "        b = float(b)\n",
    "        c = float (c)\n",
    "        mean(a,b,c)\n",
    "    except ValueError:\n",
    "        print(\"Bad Score\")"
   ]
  },
  {
   "cell_type": "code",
   "execution_count": null,
   "metadata": {},
   "outputs": [],
   "source": []
  },
  {
   "cell_type": "code",
   "execution_count": null,
   "metadata": {},
   "outputs": [],
   "source": []
  }
 ],
 "metadata": {
  "kernelspec": {
   "display_name": "Python 3",
   "language": "python",
   "name": "python3"
  },
  "language_info": {
   "codemirror_mode": {
    "name": "ipython",
    "version": 3
   },
   "file_extension": ".py",
   "mimetype": "text/x-python",
   "name": "python",
   "nbconvert_exporter": "python",
   "pygments_lexer": "ipython3",
   "version": "3.7.6"
  }
 },
 "nbformat": 4,
 "nbformat_minor": 4
}
