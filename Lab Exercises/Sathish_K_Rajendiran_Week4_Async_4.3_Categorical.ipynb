{
 "cells": [
  {
   "cell_type": "markdown",
   "metadata": {},
   "source": [
    "Week 4.2 – Functions Activity\n",
    "\n",
    "    Name: Sathish Kumar Rajendiran\n",
    "    Task: 4.3 Categorical\n",
    "    Date: 7/23/2020"
   ]
  },
  {
   "cell_type": "code",
   "execution_count": 2,
   "metadata": {},
   "outputs": [
    {
     "name": "stdout",
     "output_type": "stream",
     "text": [
      "********** Data Entry begins **********\n",
      "Enter a score:10\n",
      "Enter a score:20\n",
      "Enter a score:30\n",
      "Enter a score:Done\n",
      "********** Data Entry Ends **********\n",
      "\n",
      "********** Fnction Call begins **********\n",
      "[10.0, 20.0, 30.0]\n",
      "Number of items: 3\n",
      "Avg of the items: 20.0\n",
      "Sum of the items: 60\n",
      "********** Fnction Call Ends **********\n"
     ]
    }
   ],
   "source": [
    "# # Write a program which repeatedly reads numbers until the user enters 'done'. \n",
    "# Once 'done' is entered, print out the total, count, and average of the numbers.\n",
    "# If the user enters anything other than a number, detect their mistake using try and except\n",
    "# and print an error message and skip to the next number.\n",
    "\n",
    "# # Submit your code and the results you got from running your program.\n",
    "\n",
    "print(\"********** Data Entry begins **********\")\n",
    "numlist = [] #empty list to hold the numbers\n",
    "while True:\n",
    "    inp = input('Enter a score:')\n",
    "    if inp == 'Done':\n",
    "        print(\"********** Data Entry Ends **********\")\n",
    "        break\n",
    "    try:\n",
    "        n = float(inp)\n",
    "        numlist.append(n)     \n",
    "    except ValueError:\n",
    "        print(\"Bad Value\")\n",
    "\n",
    "\n",
    "#Exploring functions to calculate Count,Sum and Average of items from the list\n",
    "def numfunctions():\n",
    "    l = len(numlist)\n",
    "    if l >0:\n",
    "        print(\"\\n********** Fnction Call begins **********\")\n",
    "        nsum = sum(numlist)\n",
    "        navg = nsum/l\n",
    "        \n",
    "        print(numlist)\n",
    "        print('Number of items:',round(l,2))\n",
    "        print('Avg of the items:',round(navg,2))\n",
    "        print('Sum of the items:',round(nsum))\n",
    "        print(\"********** Fnction Call Ends **********\")\n",
    "    else:\n",
    "        print(\"Empty List\")\n",
    "\n",
    "numfunctions()\n"
   ]
  },
  {
   "cell_type": "code",
   "execution_count": null,
   "metadata": {},
   "outputs": [],
   "source": []
  }
 ],
 "metadata": {
  "kernelspec": {
   "display_name": "Python 3",
   "language": "python",
   "name": "python3"
  },
  "language_info": {
   "codemirror_mode": {
    "name": "ipython",
    "version": 3
   },
   "file_extension": ".py",
   "mimetype": "text/x-python",
   "name": "python",
   "nbconvert_exporter": "python",
   "pygments_lexer": "ipython3",
   "version": "3.7.6"
  }
 },
 "nbformat": 4,
 "nbformat_minor": 4
}
