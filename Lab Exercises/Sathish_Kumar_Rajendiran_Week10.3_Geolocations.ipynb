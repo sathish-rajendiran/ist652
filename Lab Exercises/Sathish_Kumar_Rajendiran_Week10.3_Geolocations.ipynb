{
 "cells": [
  {
   "cell_type": "markdown",
   "metadata": {},
   "source": [
    "\n",
    "    Name: Sathish Kumar Rajendiran\n",
    "    Task: Week 10: 10.3 Social Network Analysis\n",
    "    Date: 9/3/2020"
   ]
  },
  {
   "cell_type": "code",
   "execution_count": 1,
   "metadata": {},
   "outputs": [
    {
     "name": "stdout",
     "output_type": "stream",
     "text": [
      "Collecting geopy\n",
      "  Downloading geopy-2.0.0-py3-none-any.whl (111 kB)\n",
      "\u001b[K     |████████████████████████████████| 111 kB 1.5 MB/s eta 0:00:01\n",
      "\u001b[?25hCollecting geographiclib<2,>=1.49\n",
      "  Downloading geographiclib-1.50-py3-none-any.whl (38 kB)\n",
      "Installing collected packages: geographiclib, geopy\n",
      "Successfully installed geographiclib-1.50 geopy-2.0.0\n"
     ]
    }
   ],
   "source": [
    "#pip install networkx library\n",
    "!pip install geopy "
   ]
  },
  {
   "cell_type": "code",
   "execution_count": 5,
   "metadata": {},
   "outputs": [
    {
     "data": {
      "text/plain": [
       "'/Users/sathishrajendiran/ist652-python'"
      ]
     },
     "execution_count": 5,
     "metadata": {},
     "output_type": "execute_result"
    }
   ],
   "source": [
    "#import libraries\n",
    "\n",
    "# standard library\n",
    "import os\n",
    "import sys\n",
    "from datetime import datetime\n",
    "import time\n",
    "\n",
    "\n",
    "# text tokenization\n",
    "import nltk\n",
    "import re\n",
    "\n",
    "#MongoDB libraries\n",
    "import pymongo\n",
    "from pymongo import MongoClient\n",
    "\n",
    "# csv, xls, pandas & json\n",
    "import pandas as pd\n",
    "import json\n",
    "import csv\n",
    "import xlrd\n",
    "\n",
    "import networkx as nx \n",
    "import geopy\n",
    "from geopy.geocoders import Nominatim\n",
    "\n",
    "\n",
    "\n",
    "os.getcwd()"
   ]
  },
  {
   "cell_type": "code",
   "execution_count": 10,
   "metadata": {},
   "outputs": [
    {
     "name": "stdout",
     "output_type": "stream",
     "text": [
      "Hinds Hall, 110, Einhorn Family Walk, Syracuse, Onondaga County, New York, 13210-1053, United States of America\n"
     ]
    }
   ],
   "source": [
    "geolocator = Nominatim(user_agent=\"my-geocode\")\n",
    "location = geolocator.geocode(\"Hinds Hall, Syracuse, NY\")\n",
    "print(location.address)"
   ]
  },
  {
   "cell_type": "code",
   "execution_count": 11,
   "metadata": {},
   "outputs": [
    {
     "name": "stdout",
     "output_type": "stream",
     "text": [
      "Hinds Hall, 110, Einhorn Family Walk, Syracuse, Onondaga County, New York, 13210-1053, United States of America\n"
     ]
    }
   ],
   "source": [
    "location = geolocator.reverse(\"43.0382155,-76.1333455471294\")\n",
    "print(location.address)"
   ]
  },
  {
   "cell_type": "code",
   "execution_count": 12,
   "metadata": {},
   "outputs": [
    {
     "name": "stdout",
     "output_type": "stream",
     "text": [
      "New Era Field, Bills Drive, Windom, Orchard Park Town, Erie County, New York, 14127, United States of America\n"
     ]
    }
   ],
   "source": [
    "location = geolocator.reverse(\"42.773760,-78.786973\")\n",
    "print(location.address)"
   ]
  },
  {
   "cell_type": "code",
   "execution_count": 13,
   "metadata": {},
   "outputs": [
    {
     "name": "stdout",
     "output_type": "stream",
     "text": [
      "Mall of America, 60, Lindau Lane, Bloomington, Hennepin County, Minnesota, 55425, United States of America\n"
     ]
    }
   ],
   "source": [
    "location = geolocator.reverse(\"44.854865,-93.242215\")\n",
    "print(location.address)"
   ]
  },
  {
   "cell_type": "code",
   "execution_count": 14,
   "metadata": {},
   "outputs": [
    {
     "name": "stdout",
     "output_type": "stream",
     "text": [
      "Alfiero Center, Mary Talbert Way, Governors Residence Halls, North Bailey, Amherst, Amherst Town, Erie County, New York, 14261, United States of America\n"
     ]
    }
   ],
   "source": [
    "location = geolocator.reverse(\"42.999775,-78.787046\")\n",
    "print(location.address)"
   ]
  },
  {
   "cell_type": "code",
   "execution_count": 15,
   "metadata": {},
   "outputs": [
    {
     "name": "stdout",
     "output_type": "stream",
     "text": [
      "Outback Steakhouse, 3946, State Route 31, Euclid, Town of Clay, Onondaga County, New York, 13090, United States of America\n"
     ]
    }
   ],
   "source": [
    "location = geolocator.reverse(\"43.183994,-76.236695\")\n",
    "print(location.address)"
   ]
  },
  {
   "cell_type": "code",
   "execution_count": 16,
   "metadata": {},
   "outputs": [
    {
     "name": "stdout",
     "output_type": "stream",
     "text": [
      "Statue of Liberty, Flagpole Plaza, Manhattan Community Board 1, Manhattan, New York County, New York, 10004, United States of America\n"
     ]
    }
   ],
   "source": [
    "location = geolocator.reverse(\"40.689249,-74.044500\")\n",
    "print(location.address)"
   ]
  },
  {
   "cell_type": "code",
   "execution_count": null,
   "metadata": {},
   "outputs": [],
   "source": [
    "# 1. lat = 42.773760, long = -78.786973\n",
    "# 2. lat = 44.854865, long = -93.242215\n",
    "# 3. lat = 42.999775, long = -78.787046\n",
    "# 4. lat = 43.183994, long = -76.236695\n",
    "# 5. lat = 40.689249, long = -74.044500"
   ]
  }
 ],
 "metadata": {
  "kernelspec": {
   "display_name": "Python 3",
   "language": "python",
   "name": "python3"
  },
  "language_info": {
   "codemirror_mode": {
    "name": "ipython",
    "version": 3
   },
   "file_extension": ".py",
   "mimetype": "text/x-python",
   "name": "python",
   "nbconvert_exporter": "python",
   "pygments_lexer": "ipython3",
   "version": "3.7.6"
  }
 },
 "nbformat": 4,
 "nbformat_minor": 4
}
