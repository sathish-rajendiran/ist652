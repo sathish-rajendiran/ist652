{
 "cells": [
  {
   "cell_type": "markdown",
   "metadata": {},
   "source": [
    "Week 5 Date /Time Activity\n",
    "\n",
    "    Name: Sathish Kumar Rajendiran\n",
    "    Task: Date /Time Activity\n",
    "    Date: 7/30/2020\n",
    "    \n",
    "Date /Time Activity\n",
    "\n",
    "Write a Python script to display the various Date Time formats \n",
    "a) Current date and time\n",
    "b) Current year\n",
    "c) Month of year\n",
    "d) Week number of the year\n",
    "e) Weekday of the week\n",
    "f) Day of year\n",
    "g) Day of the month\n",
    "h) Day of week\n"
   ]
  },
  {
   "cell_type": "code",
   "execution_count": 47,
   "metadata": {},
   "outputs": [
    {
     "name": "stdout",
     "output_type": "stream",
     "text": [
      "a) Current date and time: 2020-07-30 17:23:04.774899\n",
      "b) Current year: 2020\n",
      "c) Month of year: July\n",
      "c1) Month number of year: 07\n",
      "d) Week number of the year: 30\n",
      "e) Weekday of the week: 4\n",
      "f) Day of year: 212\n",
      "g) Day of the month: 30\n",
      "h) Day of week: Thursday\n"
     ]
    }
   ],
   "source": [
    "import datetime\n",
    "import time\n",
    "\n",
    "datetime = datetime.datetime.now()\n",
    "today = date.today()\n",
    "\n",
    "#derive other calender items from date.today()\n",
    "year = today.strftime('%Y')\n",
    "month = today.strftime('%B')\n",
    "monthnbr = today.strftime('%m')\n",
    "week = today.strftime('%W')\n",
    "weekday = today.strftime('%w')\n",
    "doy = today.strftime('%j')\n",
    "dom = today.strftime('%d')\n",
    "dow = today.strftime('%A')\n",
    "\n",
    "print('a) Current date and time:',datetime)\n",
    "print('b) Current year:',year)\n",
    "print('c) Month of year:',month)\n",
    "print('c1) Month number of year:',monthnbr)\n",
    "print('d) Week number of the year:',week)\n",
    "print('e) Weekday of the week:',weekday)\n",
    "print('f) Day of year:',doy)\n",
    "print('g) Day of the month:',dom)\n",
    "print('h) Day of week:',dow)\n",
    "\n"
   ]
  },
  {
   "cell_type": "code",
   "execution_count": null,
   "metadata": {},
   "outputs": [],
   "source": []
  }
 ],
 "metadata": {
  "kernelspec": {
   "display_name": "Python 3",
   "language": "python",
   "name": "python3"
  },
  "language_info": {
   "codemirror_mode": {
    "name": "ipython",
    "version": 3
   },
   "file_extension": ".py",
   "mimetype": "text/x-python",
   "name": "python",
   "nbconvert_exporter": "python",
   "pygments_lexer": "ipython3",
   "version": "3.7.6"
  }
 },
 "nbformat": 4,
 "nbformat_minor": 4
}
