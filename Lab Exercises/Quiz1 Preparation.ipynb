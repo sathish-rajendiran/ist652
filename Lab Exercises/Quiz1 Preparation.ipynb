{
 "cells": [
  {
   "cell_type": "code",
   "execution_count": 1,
   "metadata": {},
   "outputs": [
    {
     "name": "stdout",
     "output_type": "stream",
     "text": [
      "1 1 1\n",
      "5 2 2\n",
      "14 3 3\n",
      "30 4 4\n"
     ]
    }
   ],
   "source": [
    "#working with list and loops\n",
    "\n",
    "a=[1,2,3,4]\n",
    "b=[1,2,3,4]\n",
    "\n",
    "total=0\n",
    "for idx,val in enumerate(a):\n",
    "    total += a[idx]* b[idx]\n",
    "    print(total,a[idx],b[idx])\n"
   ]
  },
  {
   "cell_type": "code",
   "execution_count": 13,
   "metadata": {},
   "outputs": [
    {
     "name": "stdout",
     "output_type": "stream",
     "text": [
      "Enter Value:20\n",
      "No, Value is lesser than the list values\n",
      "Enter Value:100\n",
      "Yes, Value is Greater than the list values\n",
      "Enter Value:Done\n"
     ]
    }
   ],
   "source": [
    "# working with list and compare values\n",
    "\n",
    "a = [4,10,2,21,80,52]\n",
    "\n",
    "while True:\n",
    "    inp = input('Enter Value:')\n",
    "    if inp == 'Done':\n",
    "        break\n",
    "        \n",
    "    try:\n",
    "        if (int(inp) >= max(a)):\n",
    "             print('Yes, Value is Greater than the list values')\n",
    "        else:\n",
    "             print('No, Value is lesser than the list values')\n",
    "                \n",
    "    except ValueError:\n",
    "        print(\"Enter an Integer value\")"
   ]
  },
  {
   "cell_type": "code",
   "execution_count": 14,
   "metadata": {},
   "outputs": [
    {
     "name": "stdout",
     "output_type": "stream",
     "text": [
      "\n",
      "Exercise 2:Results\n",
      "Label[ 1 ] is book\n",
      "Label[ 3 ] is dog\n",
      "Label[ 6 ] is girl\n",
      "Label[ 9 ] is joey\n"
     ]
    }
   ],
   "source": [
    "print('\\nExercise 2:Results')\n",
    "\n",
    "Samples = ['at','book', 'catch', 'dog', 'elephant', 'famous', 'girl', 'he', 'india', 'joey']\n",
    "\n",
    "for elem in Samples:\n",
    "    if 2 < len(elem) < 5:\n",
    "        print('Label[', Samples.index(elem), '] is', elem)"
   ]
  },
  {
   "cell_type": "code",
   "execution_count": 19,
   "metadata": {},
   "outputs": [
    {
     "name": "stdout",
     "output_type": "stream",
     "text": [
      "2 4 4 \n",
      "\n",
      "increment by 1: 2\n",
      "multiply by 1: 1\n",
      "\n",
      "\n",
      "increment by 1: 3\n",
      "multiply by 1: 4\n",
      "\n",
      "\n",
      "increment by 1: 4\n",
      "multiply by 1: 9\n",
      "\n",
      "\n",
      "increment by 1: 5\n",
      "multiply by 1: 16\n",
      "\n",
      "\n"
     ]
    }
   ],
   "source": [
    "#working with list and loops\n",
    "\n",
    "a=[1,2,3,4]\n",
    "\n",
    "print(a[1],a[3],a[0]+a[2],'\\n')\n",
    "\n",
    "for x in a:\n",
    "    print ('increment by 1:',x+1)\n",
    "    print ('multiply by 1:',x*x)\n",
    "    print('\\n')\n"
   ]
  },
  {
   "cell_type": "code",
   "execution_count": 2,
   "metadata": {},
   "outputs": [
    {
     "name": "stdout",
     "output_type": "stream",
     "text": [
      "\n",
      " Display selected list items\n",
      "['at', 'book', 'catch', 'dog', 'elephant', 'famous', 'girl', 'he', 'india', 'joey']\n",
      "['book', 'catch', 'dog', 'elephant', 'famous', 'girl', 'he', 'india', 'joey']\n",
      "['at', 'book']\n",
      "at\n",
      "['catch', 'dog', 'elephant', 'famous']\n"
     ]
    }
   ],
   "source": [
    "#working with list\n",
    "\n",
    "print('\\n Display selected list items')\n",
    "Samples = ['at','book', 'catch', 'dog', 'elephant', 'famous', 'girl', 'he', 'india', 'joey']\n",
    "\n",
    "print(Samples[:]) # all items\n",
    "print(Samples[1:]) # all items from 2nd element\n",
    "print(Samples[:2]) # first 2 items\n",
    "print(Samples[0]) # first first element items\n",
    "print(Samples[2:6]) # first first element items\n"
   ]
  },
  {
   "cell_type": "code",
   "execution_count": 17,
   "metadata": {},
   "outputs": [
    {
     "name": "stdout",
     "output_type": "stream",
     "text": [
      "['true', 20, 3.5, True, -2, ''] \n",
      "\n",
      "Value true is of type <class 'str'>\n",
      "Value 20 is of type <class 'int'>\n",
      "Value 3.5 is of type <class 'float'>\n",
      "Value True is of type <class 'bool'>\n",
      "Value -2 is of type <class 'int'>\n",
      "Value  is of type <class 'str'>\n"
     ]
    }
   ],
   "source": [
    "#working with data types\n",
    "\n",
    "x=['true',20,3.5,True,-2,'']\n",
    "\n",
    "print(x,'\\n')\n",
    "\n",
    "for i in x:\n",
    "    print('Value',i,'is of type', type(i))\n",
    "\n",
    "  "
   ]
  },
  {
   "cell_type": "code",
   "execution_count": 21,
   "metadata": {},
   "outputs": [
    {
     "name": "stdout",
     "output_type": "stream",
     "text": [
      "Enter a score:2\n",
      "Bad Score\n",
      "Enter a score:4\n",
      "Bad Score\n",
      "Enter a score:.1\n",
      "Grade: F\n",
      "Enter a score:.9\n",
      "Grade: A\n",
      "Enter a score:DOne\n",
      "Bad Score\n",
      "Enter a score:Done\n"
     ]
    }
   ],
   "source": [
    "#working with logical operators\n",
    "while True:\n",
    "    inp = input('Enter a score:')\n",
    "    if inp == 'Done':\n",
    "        break\n",
    "    try:\n",
    "        s = float(inp)\n",
    "        if (s >= 0) and (s <= 1):\n",
    "            if s >= 0.9:\n",
    "                print(\"Grade: A\")\n",
    "            if(s >= 0.8) and (s < 0.9):\n",
    "                print(\"Grade: B\")\n",
    "            if (s >= 0.7) and (s < 0.8):\n",
    "                print(\"Grade: C\")\n",
    "            if (s >= 0.6) and (s < 0.7):\n",
    "                print(\"Grade: D\")\n",
    "            if s < 0.6:\n",
    "                print(\"Grade: F\")\n",
    "        else:\n",
    "            print(\"Bad Score\")\n",
    "\n",
    "    except ValueError:\n",
    "        print(\"Bad Score\")\n",
    "\n"
   ]
  },
  {
   "cell_type": "code",
   "execution_count": 31,
   "metadata": {},
   "outputs": [
    {
     "name": "stdout",
     "output_type": "stream",
     "text": [
      "\n",
      " Actual list ['elephant', 'catch', 'famous', 'he', 'at', 'india', 'girl', 'dog', 'joey', 'book']\n",
      "\n",
      " Sorted list ['at', 'book', 'catch', 'dog', 'elephant', 'famous', 'girl', 'he', 'india', 'joey']\n"
     ]
    }
   ],
   "source": [
    "#working with list | Sorting\n",
    "\n",
    "\n",
    "samples = ['elephant', 'catch', 'famous','he','at','india', 'girl', 'dog', 'joey','book']\n",
    "samples_sorted=sorted(samples)\n",
    "\n",
    "print('\\n Actual list',samples)\n",
    "\n",
    "print('\\n Sorted list',samples_sorted)\n"
   ]
  },
  {
   "cell_type": "code",
   "execution_count": 39,
   "metadata": {},
   "outputs": [
    {
     "name": "stdout",
     "output_type": "stream",
     "text": [
      "\n",
      "Sorted list by city\n",
      "  The attendance at Atlanta was 13993 and the ticket price was $20.06\n",
      "  The attendance at Boston was 14916 and the ticket price was $22.54\n",
      "  The attendance at Charlotte was 23901 and the ticket price was $17\n",
      "  The attendance at Chicago was 18404 and the ticket price was $21.98\n",
      "  The attendance at Cleveland was 16969 and the ticket price was $19.63\n",
      "  The attendance at Dallas was 16868 and the ticket price was $17.05\n",
      "  The attendance at Denver was 12668 and the ticket price was $17.4\n",
      "  The attendance at Detroit was 21454 and the ticket price was $24.42\n",
      "  The attendance at Golden_State was 15025 and the ticket price was $17.04\n",
      "  The attendance at Houston was 15846 and the ticket price was $17.56\n",
      "  The attendance at Indiana was 12885 and the ticket price was $13.77\n",
      "  The attendance at LA_Clippers was 11869 and the ticket price was $21.95\n",
      "  The attendance at LA_Lakers was 17378 and the ticket price was $29.18\n",
      "  The attendance at Miami was 15008 and the ticket price was $17.6\n",
      "  The attendance at Milwaukee was 16088 and the ticket price was $14.08\n",
      "  The attendance at Minnesota was 26160 and the ticket price was $10.92\n",
      "  The attendance at New_Jersey was 12160 and the ticket price was $13.31\n",
      "  The attendance at New_York was 17815 and the ticket price was $22.7\n",
      "  The attendance at Orlando was 15606 and the ticket price was $20.47\n",
      "  The attendance at Philadelphia was 14017 and the ticket price was $19.04\n",
      "  The attendance at Phoenix was 14114 and the ticket price was $16.59\n",
      "  The attendance at Portland was 12884 and the ticket price was $22.19\n",
      "  The attendance at Sacramento was 17014 and the ticket price was $16.96\n",
      "  The attendance at San_Antonio was 14722 and the ticket price was $16.79\n",
      "  The attendance at Seattle was 12244 and the ticket price was $18.11\n",
      "  The attendance at Utah was 12616 and the ticket price was $18.41\n",
      "  The attendance at Washington was 11565 and the ticket price was $14.55\n",
      "\n",
      "Sorted list by seating\n",
      "  The attendance at Minnesota was 26160 and the ticket price was $10.92\n",
      "  The attendance at Charlotte was 23901 and the ticket price was $17\n",
      "  The attendance at Detroit was 21454 and the ticket price was $24.42\n",
      "  The attendance at Chicago was 18404 and the ticket price was $21.98\n",
      "  The attendance at New_York was 17815 and the ticket price was $22.7\n",
      "  The attendance at LA_Lakers was 17378 and the ticket price was $29.18\n",
      "  The attendance at Sacramento was 17014 and the ticket price was $16.96\n",
      "  The attendance at Cleveland was 16969 and the ticket price was $19.63\n",
      "  The attendance at Dallas was 16868 and the ticket price was $17.05\n",
      "  The attendance at Milwaukee was 16088 and the ticket price was $14.08\n",
      "  The attendance at Houston was 15846 and the ticket price was $17.56\n",
      "  The attendance at Orlando was 15606 and the ticket price was $20.47\n",
      "  The attendance at Golden_State was 15025 and the ticket price was $17.04\n",
      "  The attendance at Miami was 15008 and the ticket price was $17.6\n",
      "  The attendance at Boston was 14916 and the ticket price was $22.54\n",
      "  The attendance at San_Antonio was 14722 and the ticket price was $16.79\n",
      "  The attendance at Phoenix was 14114 and the ticket price was $16.59\n",
      "  The attendance at Philadelphia was 14017 and the ticket price was $19.04\n",
      "  The attendance at Atlanta was 13993 and the ticket price was $20.06\n",
      "  The attendance at Indiana was 12885 and the ticket price was $13.77\n",
      "  The attendance at Portland was 12884 and the ticket price was $22.19\n",
      "  The attendance at Denver was 12668 and the ticket price was $17.4\n",
      "  The attendance at Utah was 12616 and the ticket price was $18.41\n",
      "  The attendance at Seattle was 12244 and the ticket price was $18.11\n",
      "  The attendance at New_Jersey was 12160 and the ticket price was $13.31\n",
      "  The attendance at LA_Clippers was 11869 and the ticket price was $21.95\n",
      "  The attendance at Washington was 11565 and the ticket price was $14.55\n"
     ]
    }
   ],
   "source": [
    "# Working with file, list and sorting\n",
    "try: \n",
    "    NBAfile = open ('/Users/sathishrajendiran/ist652-python/NBA-Attendance-1989.txt', 'r')\n",
    "    \n",
    "except:\n",
    "    print(\"Is the file in correct directory?\")\n",
    "\n",
    "# Create a dummy list\n",
    "NBAlist = []\n",
    "\n",
    "for line in NBAfile:\n",
    "    textline = line.strip()\n",
    "    # split the line on whitespace\n",
    "    lines = textline.split()\n",
    "    # add the list of items to the NBAlist\n",
    "    NBAlist.append(lines)\n",
    "\n",
    "print('\\nSorted list by city')\n",
    "\n",
    "for line in NBAlist:\n",
    "    print('  The attendance at',line[0], 'was',line[1],'and the ticket price was $'+line[2])\n",
    "\n",
    "print('\\nSorted list by seating')\n",
    "New_NBAlist = sorted(NBAlist,key=lambda item:item[1],reverse=True)\n",
    "\n",
    "for line in New_NBAlist:\n",
    "    print('  The attendance at',line[0], 'was',line[1],'and the ticket price was $'+line[2])"
   ]
  },
  {
   "cell_type": "code",
   "execution_count": 3,
   "metadata": {},
   "outputs": [
    {
     "data": {
      "text/plain": [
       "[(2, 2), (1, 3), (3, 4), (1, 7)]"
      ]
     },
     "execution_count": 3,
     "metadata": {},
     "output_type": "execute_result"
    }
   ],
   "source": [
    "# 3.4 Sorting Lists\n",
    "\n",
    "x= [(1,7),(1,3),(3,4),(2,2)]\n",
    "sorted_x = sorted(x,key=lambda item:item[1],reverse=False)\n",
    "sorted_x\n"
   ]
  }
 ],
 "metadata": {
  "kernelspec": {
   "display_name": "Python 3",
   "language": "python",
   "name": "python3"
  },
  "language_info": {
   "codemirror_mode": {
    "name": "ipython",
    "version": 3
   },
   "file_extension": ".py",
   "mimetype": "text/x-python",
   "name": "python",
   "nbconvert_exporter": "python",
   "pygments_lexer": "ipython3",
   "version": "3.7.6"
  }
 },
 "nbformat": 4,
 "nbformat_minor": 4
}
