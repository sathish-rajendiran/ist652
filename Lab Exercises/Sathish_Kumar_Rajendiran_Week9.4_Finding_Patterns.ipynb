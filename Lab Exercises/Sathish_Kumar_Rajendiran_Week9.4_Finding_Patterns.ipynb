{
 "cells": [
  {
   "cell_type": "markdown",
   "metadata": {},
   "source": [
    "\n",
    "    Name: Sathish Kumar Rajendiran\n",
    "    Task: Week 9: 9.4 Patterns in Text\n",
    "    Date: 8/26/2020"
   ]
  },
  {
   "cell_type": "code",
   "execution_count": 11,
   "metadata": {},
   "outputs": [
    {
     "data": {
      "text/plain": [
       "'/Users/sathishrajendiran/ist652-python'"
      ]
     },
     "execution_count": 11,
     "metadata": {},
     "output_type": "execute_result"
    }
   ],
   "source": [
    "#import libraries\n",
    "\n",
    "# standard library\n",
    "import os\n",
    "import sys\n",
    "from datetime import datetime\n",
    "import time\n",
    "\n",
    "# text tokenization\n",
    "import nltk\n",
    "import re\n",
    "\n",
    "#MongoDB libraries\n",
    "import pymongo\n",
    "from pymongo import MongoClient\n",
    "\n",
    "os.getcwd()"
   ]
  },
  {
   "cell_type": "code",
   "execution_count": 5,
   "metadata": {},
   "outputs": [],
   "source": [
    "#  sample text\n",
    "text= '''Celebrate #NationalPetDay with our puppy playlist: https://t.co/eBHHFPW0z7 https://t.co/uix5AY2FFQ<a href=\"http://msande.stanford.edu\"> Management Science and Engineering </a><p\n",
    "\n",
    "      Address: Terman 311, Stanford CA 94305<br>\n",
    "\n",
    "      Email: ashishg@cs.stanford.edu<br>\n",
    "\n",
    "      Phone: (650)814-9999 [Cell], Fax: (650)723-9999<br>\n",
    "\n",
    "      Admin asst: Roz Morf, Terman 405, 650-723-9999, rozm@stanford.edu</p>\n",
    "\n",
    "The U.S.A. olympic teams have east-west training centers with up-to-date equipment.'''"
   ]
  },
  {
   "cell_type": "code",
   "execution_count": 179,
   "metadata": {},
   "outputs": [
    {
     "name": "stdout",
     "output_type": "stream",
     "text": [
      "Found a match on emails:\n",
      " ['ashishg@cs.stanford.edu', 'rozm@stanford.edu']\n"
     ]
    }
   ],
   "source": [
    "#Emails\n",
    "if re.search('[\\w\\.-]+@[\\w\\.-]+',text):\n",
    "    text_url = re.findall(r'[\\w\\.-]+@[\\w\\.-]+',text)\n",
    "    print('Found a match on emails:\\n',text_url )\n",
    "else:\n",
    "    print('No match.')"
   ]
  },
  {
   "cell_type": "code",
   "execution_count": 1,
   "metadata": {},
   "outputs": [
    {
     "ename": "NameError",
     "evalue": "name 're' is not defined",
     "output_type": "error",
     "traceback": [
      "\u001b[0;31m---------------------------------------------------------------------------\u001b[0m",
      "\u001b[0;31mNameError\u001b[0m                                 Traceback (most recent call last)",
      "\u001b[0;32m<ipython-input-1-0a3610d85190>\u001b[0m in \u001b[0;36m<module>\u001b[0;34m\u001b[0m\n\u001b[1;32m      1\u001b[0m \u001b[0;31m#Phone Numbers\u001b[0m\u001b[0;34m\u001b[0m\u001b[0;34m\u001b[0m\u001b[0;34m\u001b[0m\u001b[0m\n\u001b[0;32m----> 2\u001b[0;31m \u001b[0;32mif\u001b[0m \u001b[0mre\u001b[0m\u001b[0;34m.\u001b[0m\u001b[0msearch\u001b[0m\u001b[0;34m(\u001b[0m\u001b[0;34m'[(]?[0-9]+[)]?[-]?[0-9]+[-][0-9]+'\u001b[0m\u001b[0;34m,\u001b[0m\u001b[0mtext\u001b[0m\u001b[0;34m)\u001b[0m\u001b[0;34m:\u001b[0m\u001b[0;34m\u001b[0m\u001b[0;34m\u001b[0m\u001b[0m\n\u001b[0m\u001b[1;32m      3\u001b[0m     \u001b[0mtext_phone\u001b[0m \u001b[0;34m=\u001b[0m \u001b[0mre\u001b[0m\u001b[0;34m.\u001b[0m\u001b[0mfindall\u001b[0m\u001b[0;34m(\u001b[0m\u001b[0;34mr'[(]?[0-9]+[)]?[-]?(\\d{3})-(\\d{4})+'\u001b[0m\u001b[0;34m,\u001b[0m\u001b[0mtext\u001b[0m\u001b[0;34m)\u001b[0m\u001b[0;34m\u001b[0m\u001b[0;34m\u001b[0m\u001b[0m\n\u001b[1;32m      4\u001b[0m     \u001b[0mprint\u001b[0m\u001b[0;34m(\u001b[0m\u001b[0;34m'Found a match on Phone Numbers:\\n'\u001b[0m\u001b[0;34m,\u001b[0m\u001b[0mtext_phone\u001b[0m \u001b[0;34m)\u001b[0m\u001b[0;34m\u001b[0m\u001b[0;34m\u001b[0m\u001b[0m\n\u001b[1;32m      5\u001b[0m \u001b[0;32melse\u001b[0m\u001b[0;34m:\u001b[0m\u001b[0;34m\u001b[0m\u001b[0;34m\u001b[0m\u001b[0m\n",
      "\u001b[0;31mNameError\u001b[0m: name 're' is not defined"
     ]
    }
   ],
   "source": [
    "#Phone Numbers\n",
    "if re.search('[(]?[0-9]+[)]?[-]?[0-9]+[-][0-9]+',text):\n",
    "    text_phone = re.findall(r'[(]?[0-9]+[)]?[-]?[0-9]+[-][0-9]+',text)\n",
    "    print('Found a match on Phone Numbers:\\n',text_phone )\n",
    "else:\n",
    "    print('No match.')"
   ]
  },
  {
   "cell_type": "code",
   "execution_count": 181,
   "metadata": {},
   "outputs": [
    {
     "name": "stdout",
     "output_type": "stream",
     "text": [
      "Found a match on Acronyms:\n",
      " ['CA ', 'U.S.A. ']\n"
     ]
    }
   ],
   "source": [
    "#Acronyms\n",
    "if re.search('[A-Z]\\.?[A-Z]\\.?[A-Z]?\\.?\\s',text):\n",
    "    text_phone = re.findall(r'[A-Z]\\.?[A-Z]\\.?[A-Z]?\\.?\\s',text)\n",
    "    print('Found a match on Acronyms:\\n',text_phone )\n",
    "else:\n",
    "    print('No match.')"
   ]
  },
  {
   "cell_type": "code",
   "execution_count": 182,
   "metadata": {},
   "outputs": [
    {
     "name": "stdout",
     "output_type": "stream",
     "text": [
      "Found a match on URLs:\n",
      " ['https://t.co/eBHHFPW0z7', 'https://t.co/uix5AY2FFQ', 'http://msande.stanford.edu']\n"
     ]
    }
   ],
   "source": [
    "#URLs\n",
    "if re.search('https?://(?:[-\\w.]|(?:%[\\da-fA-F]{2}))+',text):\n",
    "    text_phone = re.findall(r'https?://(?:[\\w./]|(?:%[\\da-fA-F]{2}))+',text)\n",
    "    print('Found a match on URLs:\\n',text_phone )\n",
    "else:\n",
    "    print('No match.')"
   ]
  },
  {
   "cell_type": "code",
   "execution_count": 183,
   "metadata": {},
   "outputs": [
    {
     "name": "stdout",
     "output_type": "stream",
     "text": [
      "Found a match on internal hiphens:\n",
      " ['14-', '23-', '50-', '23-', 'st-', 'up-', 'to-']\n"
     ]
    }
   ],
   "source": [
    "# words with internal hiphens\n",
    "if re.search('\\w.\\-',text):\n",
    "    text_hiphens = re.findall(r'\\w.\\-',text)\n",
    "    print('Found a match on internal hiphens:\\n',text_hiphens )\n",
    "else:\n",
    "    print('No match.')"
   ]
  }
 ],
 "metadata": {
  "kernelspec": {
   "display_name": "Python 3",
   "language": "python",
   "name": "python3"
  },
  "language_info": {
   "codemirror_mode": {
    "name": "ipython",
    "version": 3
   },
   "file_extension": ".py",
   "mimetype": "text/x-python",
   "name": "python",
   "nbconvert_exporter": "python",
   "pygments_lexer": "ipython3",
   "version": "3.7.6"
  }
 },
 "nbformat": 4,
 "nbformat_minor": 4
}
