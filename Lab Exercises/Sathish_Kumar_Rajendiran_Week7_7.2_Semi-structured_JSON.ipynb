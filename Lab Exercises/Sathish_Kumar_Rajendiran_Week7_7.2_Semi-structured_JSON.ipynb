{
 "cells": [
  {
   "cell_type": "markdown",
   "metadata": {},
   "source": [
    "Name: Sathish Kumar Rajendiran\n",
    "Task: Week7: JSON Data\n",
    "Date: 8/12/2020"
   ]
  },
  {
   "cell_type": "code",
   "execution_count": 2,
   "metadata": {},
   "outputs": [],
   "source": [
    "#Import libraries\n",
    "from urllib import request\n",
    "import json\n"
   ]
  },
  {
   "cell_type": "code",
   "execution_count": 3,
   "metadata": {},
   "outputs": [],
   "source": [
    "# USGS earthquake website\n",
    "earthquake_url = 'http://earthquake.usgs.gov/earthquakes/feed/v1.0/summary/significant_month.geojson'"
   ]
  },
  {
   "cell_type": "code",
   "execution_count": 4,
   "metadata": {},
   "outputs": [],
   "source": [
    "# reponse \n",
    "response = request.urlopen(earthquake_url).read().decode('utf8')"
   ]
  },
  {
   "cell_type": "code",
   "execution_count": 5,
   "metadata": {},
   "outputs": [
    {
     "name": "stdout",
     "output_type": "stream",
     "text": [
      "type: <class 'str'> \n",
      "\n",
      "{\"type\":\"FeatureCollection\",\"metadata\":{\"generated\":1597284216000,\"url\":\"https://earthquake.usgs.gov\n"
     ]
    }
   ],
   "source": [
    "# print values\n",
    "print('type:',type(response),'\\n')\n",
    "print(response[:100])"
   ]
  },
  {
   "cell_type": "code",
   "execution_count": 6,
   "metadata": {},
   "outputs": [],
   "source": [
    "#json parser\n",
    "eq_parsed_json = json.loads(response)"
   ]
  },
  {
   "cell_type": "code",
   "execution_count": 7,
   "metadata": {},
   "outputs": [
    {
     "name": "stdout",
     "output_type": "stream",
     "text": [
      "type: <class 'dict'> \n",
      "\n",
      "{'type': 'FeatureCollection', 'metadata': {'generated': 1597284216000, 'url': 'https://earthquake.usgs.gov/earthquakes/feed/v1.0/summary/significant_month.geojson', 'title': 'USGS Significant Earthquakes, Past Month', 'status': 200, 'api': '1.10.3', 'count': 13}, 'features': [{'type': 'Feature', 'properties': {'mag': 6, 'place': '66 km ESE of Vikindu, Tanzania', 'time': 1597252395896, 'updated': 1597282742982, 'tz': None, 'url': 'https://earthquake.usgs.gov/earthquakes/eventpage/us6000bdg8', 'detail': 'https://earthquake.usgs.gov/earthquakes/feed/v1.0/detail/us6000bdg8.geojson', 'felt': 171, 'cdi': 4.3, 'mmi': 5.309, 'alert': 'green', 'status': 'reviewed', 'tsunami': 0, 'sig': 627, 'net': 'us', 'code': '6000bdg8', 'ids': ',us6000bdg8,', 'sources': ',us,', 'types': ',dyfi,ground-failure,losspager,moment-tensor,origin,phase-data,shakemap,', 'nst': None, 'dmin': 5.239, 'rms': 0.98, 'gap': 26, 'magType': 'mww', 'type': 'earthquake', 'title': 'M 6.0 - 66 km ESE of Vikindu, Tanzania'}, 'geometry': {'type': 'Point', 'coordinates': [39.8073, -7.3283, 15.49]}, 'id': 'us6000bdg8'}, {'type': 'Feature', 'properties': {'mag': 5.1, 'place': '4 km SE of Sparta, North Carolina', 'time': 1596974857680, 'updated': 1597284106551, 'tz': None, 'url': 'https://earthquake.usgs.gov/earthquakes/eventpage/se60324281', 'detail': 'https://earthquake.usgs.gov/earthquakes/feed/v1.0/detail/se60324281.geojson', 'felt': 101916, 'cdi': 6.4, 'mmi': 7.48, 'alert': 'yellow', 'status': 'reviewed', 'tsunami': 0, 'sig': 1290, 'net': 'se', 'code': '60324281', 'ids': ',us6000bbei,se60324281,', 'sources': ',us,se,', 'types': ',dyfi,general-text,ground-failure,losspager,moment-tensor,oaf,origin,phase-data,shakemap,', 'nst': 34, 'dmin': 0.452, 'rms': 0.33, 'gap': 50, 'magType': 'mw', 'type': 'earthquake', 'title': 'M 5.1 - 4 km SE of Sparta, North Carolina'}, 'geometry': {'type': 'Point', 'coordinates': [-81.0935, 36.4755, 7.58]}, 'id': 'se60324281'}, {'type': 'Feature', 'properties': {'mag': 4.8, 'place': '2 km SSE of Magas Arriba, Puerto Rico', 'time': 1596770820400, 'updated': 1596999808878, 'tz': None, 'url': 'https://earthquake.usgs.gov/earthquakes/eventpage/pr2020220000', 'detail': 'https://earthquake.usgs.gov/earthquakes/feed/v1.0/detail/pr2020220000.geojson', 'felt': 545, 'cdi': 6.2, 'mmi': 5.694, 'alert': 'green', 'status': 'reviewed', 'tsunami': 0, 'sig': 692, 'net': 'pr', 'code': '2020220000', 'ids': ',pt20220050,us6000baev,pr2020220000,', 'sources': ',pt,us,pr,', 'types': ',dyfi,losspager,moment-tensor,origin,phase-data,shakemap,', 'nst': 31, 'dmin': 0.1203, 'rms': 0.15, 'gap': 161, 'magType': 'ml', 'type': 'earthquake', 'title': 'M 4.8 - 2 km SSE of Magas Arriba, Puerto Rico'}, 'geometry': {'type': 'Point', 'coordinates': [-66.7606, 17.995, 12]}, 'id': 'pr2020220000'}, {'type': 'Feature', 'properties': {'mag': 6.3, 'place': 'Prince Edward Islands region', 'time': 1596757004553, 'updated': 1596921908354, 'tz': None, 'url': 'https://earthquake.usgs.gov/earthquakes/eventpage/us6000badi', 'detail': 'https://earthquake.usgs.gov/earthquakes/feed/v1.0/detail/us6000badi.geojson', 'felt': None, 'cdi': None, 'mmi': 0, 'alert': 'green', 'status': 'reviewed', 'tsunami': 0, 'sig': 611, 'net': 'us', 'code': '6000badi', 'ids': ',us6000badi,', 'sources': ',us,', 'types': ',losspager,moment-tensor,origin,phase-data,shakemap,', 'nst': None, 'dmin': 8.274, 'rms': 0.8, 'gap': 18, 'magType': 'mww', 'type': 'earthquake', 'title': 'M 6.3 - Prince Edward Islands region'}, 'geometry': {'type': 'Point', 'coordinates': [42.4486, -41.6794, 10]}, 'id': 'us6000badi'}, {'type': 'Feature', 'properties': {'mag': 6.4, 'place': '71 km E of Lakatoro, Vanuatu', 'time': 1596629136240, 'updated': 1596803546500, 'tz': None, 'url': 'https://earthquake.usgs.gov/earthquakes/eventpage/us6000b9mv', 'detail': 'https://earthquake.usgs.gov/earthquakes/feed/v1.0/detail/us6000b9mv.geojson', 'felt': None, 'cdi': None, 'mmi': 4.24, 'alert': 'green', 'status': 'reviewed', 'tsunami': 0, 'sig': 630, 'net': 'us', 'code': '6000b9mv', 'ids': ',us6000b9mv,', 'sources': ',us,', 'types': ',ground-failure,losspager,moment-tensor,origin,phase-data,shakemap,', 'nst': None, 'dmin': 1.073, 'rms': 0.92, 'gap': 33, 'magType': 'mww', 'type': 'earthquake', 'title': 'M 6.4 - 71 km E of Lakatoro, Vanuatu'}, 'geometry': {'type': 'Point', 'coordinates': [168.0816, -16.1118, 174.75]}, 'id': 'us6000b9mv'}, {'type': 'Feature', 'properties': {'mag': 6.4, 'place': '11 km SE of Litayan, Philippines', 'time': 1596301741608, 'updated': 1596551529757, 'tz': None, 'url': 'https://earthquake.usgs.gov/earthquakes/eventpage/us6000b80p', 'detail': 'https://earthquake.usgs.gov/earthquakes/feed/v1.0/detail/us6000b80p.geojson', 'felt': 4, 'cdi': 4.1, 'mmi': 2.859, 'alert': 'green', 'status': 'reviewed', 'tsunami': 0, 'sig': 632, 'net': 'us', 'code': '6000b80p', 'ids': ',us6000b80p,', 'sources': ',us,', 'types': ',dyfi,ground-failure,losspager,moment-tensor,origin,phase-data,shakemap,', 'nst': None, 'dmin': 1.462, 'rms': 1.04, 'gap': 13, 'magType': 'mww', 'type': 'earthquake', 'title': 'M 6.4 - 11 km SE of Litayan, Philippines'}, 'geometry': {'type': 'Point', 'coordinates': [124.1199, 7.2781, 480.6]}, 'id': 'us6000b80p'}, {'type': 'Feature', 'properties': {'mag': 3.81, 'place': '1km NNE of San Fernando, CA', 'time': 1596116899180, 'updated': 1596973196531, 'tz': None, 'url': 'https://earthquake.usgs.gov/earthquakes/eventpage/ci39322767', 'detail': 'https://earthquake.usgs.gov/earthquakes/feed/v1.0/detail/ci39322767.geojson', 'felt': 1644, 'cdi': 3.8, 'mmi': 4.92, 'alert': None, 'status': 'reviewed', 'tsunami': 0, 'sig': 603, 'net': 'ci', 'code': '39322767', 'ids': ',ci39322767,us6000b6u2,', 'sources': ',ci,us,', 'types': ',dyfi,focal-mechanism,moment-tensor,nearby-cities,origin,phase-data,scitech-link,shakemap,', 'nst': 141, 'dmin': 0.03806, 'rms': 0.23, 'gap': 16, 'magType': 'mw', 'type': 'earthquake', 'title': 'M 3.8 - 1km NNE of San Fernando, CA'}, 'geometry': {'type': 'Point', 'coordinates': [-118.4355, 34.2936667, 7.24]}, 'id': 'ci39322767'}, {'type': 'Feature', 'properties': {'mag': 4.17, 'place': '1km SE of Sylmar, CA', 'time': 1596108569050, 'updated': 1597171344405, 'tz': None, 'url': 'https://earthquake.usgs.gov/earthquakes/eventpage/ci39322287', 'detail': 'https://earthquake.usgs.gov/earthquakes/feed/v1.0/detail/ci39322287.geojson', 'felt': 15506, 'cdi': 4.9, 'mmi': 5.82, 'alert': 'green', 'status': 'reviewed', 'tsunami': 1, 'sig': 758, 'net': 'ci', 'code': '39322287', 'ids': ',ew1596108569,ci39322287,at00qea594,us6000b6qd,', 'sources': ',ew,ci,at,us,', 'types': ',dyfi,focal-mechanism,impact-link,losspager,moment-tensor,nearby-cities,oaf,origin,phase-data,scitech-link,shake-alert,shakemap,', 'nst': 196, 'dmin': 0.03917, 'rms': 0.26, 'gap': 14, 'magType': 'mw', 'type': 'earthquake', 'title': 'M 4.2 - 1km SE of Sylmar, CA'}, 'geometry': {'type': 'Point', 'coordinates': [-118.4383333, 34.3016667, 8.85]}, 'id': 'ci39322287'}, {'type': 'Feature', 'properties': {'mag': 6.4, 'place': 'South Sandwich Islands region', 'time': 1595724839067, 'updated': 1596779061364, 'tz': None, 'url': 'https://earthquake.usgs.gov/earthquakes/eventpage/us6000b46r', 'detail': 'https://earthquake.usgs.gov/earthquakes/feed/v1.0/detail/us6000b46r.geojson', 'felt': 0, 'cdi': 0, 'mmi': 3.32, 'alert': 'green', 'status': 'reviewed', 'tsunami': 1, 'sig': 630, 'net': 'us', 'code': '6000b46r', 'ids': ',pt20208000,us6000b46r,', 'sources': ',pt,us,', 'types': ',dyfi,impact-link,losspager,moment-tensor,origin,phase-data,shakemap,', 'nst': None, 'dmin': 8.819, 'rms': 0.57, 'gap': 20, 'magType': 'mww', 'type': 'earthquake', 'title': 'M 6.4 - South Sandwich Islands region'}, 'geometry': {'type': 'Point', 'coordinates': [-25.4055, -60.7812, 10]}, 'id': 'us6000b46r'}, {'type': 'Feature', 'properties': {'mag': 6.3, 'place': 'western Xizang', 'time': 1595448439183, 'updated': 1596034387259, 'tz': None, 'url': 'https://earthquake.usgs.gov/earthquakes/eventpage/us6000b26j', 'detail': 'https://earthquake.usgs.gov/earthquakes/feed/v1.0/detail/us6000b26j.geojson', 'felt': 2, 'cdi': 2, 'mmi': 7.363, 'alert': 'yellow', 'status': 'reviewed', 'tsunami': 0, 'sig': 650, 'net': 'us', 'code': '6000b26j', 'ids': ',us6000b26j,', 'sources': ',us,', 'types': ',dyfi,ground-failure,losspager,moment-tensor,origin,phase-data,shakemap,', 'nst': None, 'dmin': 5.171, 'rms': 0.88, 'gap': 14, 'magType': 'mww', 'type': 'earthquake', 'title': 'M 6.3 - western Xizang'}, 'geometry': {'type': 'Point', 'coordinates': [86.8666, 33.1463, 10]}, 'id': 'us6000b26j'}, {'type': 'Feature', 'properties': {'mag': 7.8, 'place': '105 km SSE of Perryville, Alaska', 'time': 1595398364593, 'updated': 1597040570876, 'tz': None, 'url': 'https://earthquake.usgs.gov/earthquakes/eventpage/us7000asvb', 'detail': 'https://earthquake.usgs.gov/earthquakes/feed/v1.0/detail/us7000asvb.geojson', 'felt': 287, 'cdi': 7.1, 'mmi': 6.924, 'alert': 'green', 'status': 'reviewed', 'tsunami': 1, 'sig': 1140, 'net': 'us', 'code': '7000asvb', 'ids': ',at00qdux98,us7000asvb,ak0209dha24u,', 'sources': ',at,us,ak,', 'types': ',dyfi,finite-fault,general-link,general-text,ground-failure,impact-link,losspager,moment-tensor,oaf,origin,phase-data,shakemap,trump-origin,trump-shakemap,', 'nst': None, 'dmin': 0.647, 'rms': 1.27, 'gap': 64, 'magType': 'mww', 'type': 'earthquake', 'title': 'M 7.8 - 105 km SSE of Perryville, Alaska'}, 'geometry': {'type': 'Point', 'coordinates': [-158.5217, 55.0298, 28]}, 'id': 'us7000asvb'}, {'type': 'Feature', 'properties': {'mag': 5.9, 'place': '3 km SE of Iquique, Chile', 'time': 1594964436354, 'updated': 1596460328841, 'tz': None, 'url': 'https://earthquake.usgs.gov/earthquakes/eventpage/us7000aq5p', 'detail': 'https://earthquake.usgs.gov/earthquakes/feed/v1.0/detail/us7000aq5p.geojson', 'felt': 230, 'cdi': 6.9, 'mmi': 6.771, 'alert': 'yellow', 'status': 'reviewed', 'tsunami': 0, 'sig': 809, 'net': 'us', 'code': '7000aq5p', 'ids': ',us7000aq5p,', 'sources': ',us,', 'types': ',dyfi,losspager,moment-tensor,origin,phase-data,shakemap,', 'nst': None, 'dmin': 0.634, 'rms': 1.19, 'gap': 30, 'magType': 'mww', 'type': 'earthquake', 'title': 'M 5.9 - 3 km SE of Iquique, Chile'}, 'geometry': {'type': 'Point', 'coordinates': [-70.1306, -20.2349, 74.2]}, 'id': 'us7000aq5p'}, {'type': 'Feature', 'properties': {'mag': 7, 'place': '114 km NNW of Popondetta, Papua New Guinea', 'time': 1594954223017, 'updated': 1595660930309, 'tz': None, 'url': 'https://earthquake.usgs.gov/earthquakes/eventpage/us7000aq3e', 'detail': 'https://earthquake.usgs.gov/earthquakes/feed/v1.0/detail/us7000aq3e.geojson', 'felt': 100, 'cdi': 6.4, 'mmi': 6.948, 'alert': 'green', 'status': 'reviewed', 'tsunami': 1, 'sig': 818, 'net': 'us', 'code': '7000aq3e', 'ids': ',at00qdlek0,pt20199000,us7000aq3e,', 'sources': ',at,pt,us,', 'types': ',dyfi,finite-fault,general-text,ground-failure,impact-link,losspager,moment-tensor,origin,phase-data,shakemap,', 'nst': None, 'dmin': 1.663, 'rms': 1.14, 'gap': 18, 'magType': 'mww', 'type': 'earthquake', 'title': 'M 7.0 - 114 km NNW of Popondetta, Papua New Guinea'}, 'geometry': {'type': 'Point', 'coordinates': [147.7656, -7.8428, 79.79]}, 'id': 'us7000aq3e'}], 'bbox': [-158.5217, -60.7812, 7.24, 168.0816, 55.0298, 480.6]}\n"
     ]
    }
   ],
   "source": [
    "# print json parser values\n",
    "print('type:',type(eq_parsed_json),'\\n')\n",
    "print(eq_parsed_json)"
   ]
  },
  {
   "cell_type": "code",
   "execution_count": 8,
   "metadata": {},
   "outputs": [
    {
     "name": "stdout",
     "output_type": "stream",
     "text": [
      "dict_keys(['type', 'metadata', 'features', 'bbox'])\n"
     ]
    }
   ],
   "source": [
    "#print keys from json file\n",
    "print(eq_parsed_json.keys())"
   ]
  },
  {
   "cell_type": "code",
   "execution_count": 35,
   "metadata": {},
   "outputs": [
    {
     "data": {
      "text/plain": [
       "'FeatureCollection'"
      ]
     },
     "execution_count": 35,
     "metadata": {},
     "output_type": "execute_result"
    }
   ],
   "source": [
    "#print type of parsed file\n",
    "eq_parsed_json['type']"
   ]
  },
  {
   "cell_type": "code",
   "execution_count": 9,
   "metadata": {},
   "outputs": [
    {
     "data": {
      "text/plain": [
       "{'generated': 1597284216000,\n",
       " 'url': 'https://earthquake.usgs.gov/earthquakes/feed/v1.0/summary/significant_month.geojson',\n",
       " 'title': 'USGS Significant Earthquakes, Past Month',\n",
       " 'status': 200,\n",
       " 'api': '1.10.3',\n",
       " 'count': 13}"
      ]
     },
     "execution_count": 9,
     "metadata": {},
     "output_type": "execute_result"
    }
   ],
   "source": [
    "#print metadata of the of parsed file\n",
    "eq_parsed_json['metadata']"
   ]
  },
  {
   "cell_type": "code",
   "execution_count": 10,
   "metadata": {},
   "outputs": [
    {
     "name": "stdout",
     "output_type": "stream",
     "text": [
      "title: USGS Significant Earthquakes, Past Month\n"
     ]
    }
   ],
   "source": [
    "#print the title of the file\n",
    "title = eq_parsed_json['metadata']['title']\n",
    "print('title:',title)"
   ]
  },
  {
   "cell_type": "code",
   "execution_count": 12,
   "metadata": {},
   "outputs": [
    {
     "name": "stdout",
     "output_type": "stream",
     "text": [
      "13\n"
     ]
    }
   ],
   "source": [
    "quakelist = eq_parsed_json['features']\n",
    "print(len(quakelist))"
   ]
  },
  {
   "cell_type": "code",
   "execution_count": 13,
   "metadata": {},
   "outputs": [
    {
     "name": "stdout",
     "output_type": "stream",
     "text": [
      "dict_keys(['type', 'properties', 'geometry', 'id']) \n",
      "\n",
      "{\n",
      "  \"type\": \"Feature\",\n",
      "  \"properties\": {\n",
      "    \"mag\": 6,\n",
      "    \"place\": \"66 km ESE of Vikindu, Tanzania\",\n",
      "    \"time\": 1597252395896,\n",
      "    \"updated\": 1597282742982,\n",
      "    \"tz\": null,\n",
      "    \"url\": \"https://earthquake.usgs.gov/earthquakes/eventpage/us6000bdg8\",\n",
      "    \"detail\": \"https://earthquake.usgs.gov/earthquakes/feed/v1.0/detail/us6000bdg8.geojson\",\n",
      "    \"felt\": 171,\n",
      "    \"cdi\": 4.3,\n",
      "    \"mmi\": 5.309,\n",
      "    \"alert\": \"green\",\n",
      "    \"status\": \"reviewed\",\n",
      "    \"tsunami\": 0,\n",
      "    \"sig\": 627,\n",
      "    \"net\": \"us\",\n",
      "    \"code\": \"6000bdg8\",\n",
      "    \"ids\": \",us6000bdg8,\",\n",
      "    \"sources\": \",us,\",\n",
      "    \"types\": \",dyfi,ground-failure,losspager,moment-tensor,origin,phase-data,shakemap,\",\n",
      "    \"nst\": null,\n",
      "    \"dmin\": 5.239,\n",
      "    \"rms\": 0.98,\n",
      "    \"gap\": 26,\n",
      "    \"magType\": \"mww\",\n",
      "    \"type\": \"earthquake\",\n",
      "    \"title\": \"M 6.0 - 66 km ESE of Vikindu, Tanzania\"\n",
      "  },\n",
      "  \"geometry\": {\n",
      "    \"type\": \"Point\",\n",
      "    \"coordinates\": [\n",
      "      39.8073,\n",
      "      -7.3283,\n",
      "      15.49\n",
      "    ]\n",
      "  },\n",
      "  \"id\": \"us6000bdg8\"\n",
      "}\n"
     ]
    }
   ],
   "source": [
    "#print first item from the dictionary array\n",
    "quake1 = quakelist[0]\n",
    "print(quake1.keys(),'\\n')\n",
    "print(json.dumps(quake1, indent=2))"
   ]
  }
 ],
 "metadata": {
  "kernelspec": {
   "display_name": "Python 3",
   "language": "python",
   "name": "python3"
  },
  "language_info": {
   "codemirror_mode": {
    "name": "ipython",
    "version": 3
   },
   "file_extension": ".py",
   "mimetype": "text/x-python",
   "name": "python",
   "nbconvert_exporter": "python",
   "pygments_lexer": "ipython3",
   "version": "3.7.6"
  }
 },
 "nbformat": 4,
 "nbformat_minor": 4
}
