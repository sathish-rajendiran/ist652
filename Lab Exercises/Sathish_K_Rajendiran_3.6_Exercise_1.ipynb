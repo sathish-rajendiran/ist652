{
 "cells": [
  {
   "cell_type": "markdown",
   "metadata": {},
   "source": [
    "Name: Sathish Kumar Rajendiran\n",
    "Task: 3.6 Loops and Numeric Summarization\n",
    "Date: 7/14/2020\n",
    "\n",
    "Consider the following two dictionaries:\n",
    "\n",
    "stock = {\"banana\":6,\"apple\":0,\"orange\":32,\"pear\":15}\n",
    "\n",
    "prices={\"banana\":4,\"apple\":2,\"orange\":1.5,\"pear\":3}\n",
    "\n",
    "Show the expression that gets the value of the stock dictionary at the key \"orange\". Add another item to the dictionary (\"cherry\", 14).\n",
    "Write the code for a loop that iterates over the stock dictionary and prints each key and value.\n",
    "\n",
    "*************************************************************************************************************\n"
   ]
  },
  {
   "cell_type": "code",
   "execution_count": 6,
   "metadata": {},
   "outputs": [
    {
     "name": "stdout",
     "output_type": "stream",
     "text": [
      "Value of orange is 32 \n",
      "\n",
      "Stock dictionary{} {'banana': 6, 'apple': 0, 'orange': 32, 'pear': 15, 'cherry': '14'} \n",
      "\n",
      "banana : 6\n",
      "apple : 0\n",
      "orange : 32\n",
      "pear : 15\n",
      "cherry : 14\n"
     ]
    }
   ],
   "source": [
    "# create dictionaries for stock and prices\n",
    "stock = {\"banana\":6,\"apple\":0,\"orange\":32,\"pear\":15}\n",
    "prices={\"banana\":4,\"apple\":2,\"orange\":1.5,\"pear\":3}\n",
    "\n",
    "#print value of key 'orange' from the stock dictionary\n",
    "print ('Value of orange is',stock['orange'],'\\n')\n",
    "\n",
    "# add an item to dictionary\n",
    "stock['cherry']='14'\n",
    "\n",
    "#print all key, values from stock dictionary\n",
    "print('Stock dictionary{}',stock,'\\n')\n",
    "for key in stock:\n",
    "    print(key,':',stock[key])\n",
    "    \n",
    "\n",
    "# print('\\n return keys from stock as list',list(stock.keys()))\n",
    "# print('\\n return values from stock as list',list(stock.values()))"
   ]
  },
  {
   "cell_type": "code",
   "execution_count": null,
   "metadata": {},
   "outputs": [],
   "source": []
  }
 ],
 "metadata": {
  "kernelspec": {
   "display_name": "Python 3",
   "language": "python",
   "name": "python3"
  },
  "language_info": {
   "codemirror_mode": {
    "name": "ipython",
    "version": 3
   },
   "file_extension": ".py",
   "mimetype": "text/x-python",
   "name": "python",
   "nbconvert_exporter": "python",
   "pygments_lexer": "ipython3",
   "version": "3.7.6"
  }
 },
 "nbformat": 4,
 "nbformat_minor": 4
}
