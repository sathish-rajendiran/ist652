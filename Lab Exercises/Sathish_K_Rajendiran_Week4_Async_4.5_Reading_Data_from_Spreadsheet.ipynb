{
 "cells": [
  {
   "cell_type": "markdown",
   "metadata": {},
   "source": [
    "Week 4.5 – Reading Data from Spreadsheet\n",
    "\n",
    "    Name: Sathish Kumar Rajendiran\n",
    "    Task: 4.5 Reading Data From Spreadsheet\n",
    "    Date: 7/23/2020"
   ]
  },
  {
   "cell_type": "code",
   "execution_count": 26,
   "metadata": {},
   "outputs": [
    {
     "name": "stdout",
     "output_type": "stream",
     "text": [
      "Read 25 years of prices\n"
     ]
    }
   ],
   "source": [
    "# Using the Gas Prices data, read the file and import only the years up through 2000. \n",
    "# Modify the attached program to limit how much of the file you read and then generate the results.\n",
    "\n",
    "# Include your code and the results you got in a file and submit here.\n",
    "\n",
    "# price_of_gasoline.csv\n",
    "# /Users/sathishrajendiran/ist652-python/\n",
    "\n",
    "import os\n",
    "import csv\n",
    "import numpy as np\n",
    "\n",
    "#verify current directory\n",
    "os.getcwd()\n",
    "\n",
    "# define file name\n",
    "infile = 'price_of_gasoline.csv'\n",
    "\n",
    "# create new empty lists:  years and prices come from data\n",
    "yearsList = []\n",
    "pricesList = []\n",
    "# names of months for labeling results\n",
    "monthList = ['Jan','Feb','Mar','Apr','May','Jun','Jul','Aug','Sep','Oct','Nov','Dec']\n",
    "\n",
    "# read the data\n",
    "with open(infile, 'r') as csvfile:\n",
    "    # the csv file reader returns a list of the csv items on each line - note delimiter is comma\n",
    "    priceReader = csv.reader(csvfile,  dialect='excel', delimiter=',')\n",
    "\n",
    "    # from each line, a list of row items, make separate lists for years and for the prices\n",
    "    for line in priceReader:\n",
    "      # skip lines without data\n",
    "      if line[0] == '' or line[0].startswith('Price') or line[0].startswith('Year'):\n",
    "        continue\n",
    "      else:\n",
    "          try:\n",
    "            # add the year to list\n",
    "            if (int(line[0]) <=2000):\n",
    "                yearsList.append(line[0])\n",
    "             # append the prices (as strings) to the list\n",
    "                pricesList.append(line[1:])\n",
    "            else:\n",
    "                pass         \n",
    "          except IndexError:\n",
    "            print ('Error: ', line)\n",
    "csvfile.close()\n",
    "\n",
    "print (\"Read\", len(yearsList), \"years of prices\")\n",
    "\n",
    "\n",
    "\n",
    "\n"
   ]
  },
  {
   "cell_type": "code",
   "execution_count": 27,
   "metadata": {},
   "outputs": [
    {
     "name": "stdout",
     "output_type": "stream",
     "text": [
      "Shape of Prices data (25, 12)\n",
      "\n",
      "Average gas price for each month\n",
      "\n",
      "Jan : 1.05316\n",
      "Feb : 1.0490399999999998\n",
      "Mar : 1.04964\n",
      "Apr : 1.0727600000000002\n",
      "May : 1.09616\n",
      "Jun : 1.11276\n",
      "Jul : 1.1088799999999999\n",
      "Aug : 1.11056\n",
      "Sep : 1.1160400000000001\n",
      "Oct : 1.1116400000000002\n",
      "Nov : 1.1075199999999998\n",
      "Dec : 1.0962800000000004\n",
      "\n",
      "Average gas price for each year\n",
      "\n",
      "1976 : 0.6143333333333333\n",
      "1977 : 0.6563333333333333\n",
      "1978 : 0.6702500000000001\n",
      "1979 : 0.90325\n",
      "1980 : 1.2451666666666668\n",
      "1981 : 1.3782499999999998\n",
      "1982 : 1.2954999999999999\n",
      "1983 : 1.2411666666666668\n",
      "1984 : 1.2122499999999998\n",
      "1985 : 1.20175\n",
      "1986 : 0.9274166666666667\n",
      "1987 : 0.9484166666666666\n",
      "1988 : 0.9461666666666667\n",
      "1989 : 1.0221666666666667\n",
      "1990 : 1.1643333333333334\n",
      "1991 : 1.1400833333333333\n",
      "1992 : 1.1264999999999998\n",
      "1993 : 1.1079166666666667\n",
      "1994 : 1.1118333333333332\n",
      "1995 : 1.1471666666666664\n",
      "1996 : 1.2309166666666667\n",
      "1997 : 1.2336666666666665\n",
      "1998 : 1.0593333333333335\n",
      "1999 : 1.1650833333333332\n"
     ]
    }
   ],
   "source": [
    "# make a numpy array for the strings\n",
    "data = np.array(pricesList)\n",
    "print('Shape of Prices data', data.shape)\n",
    "\n",
    "# convert the empty strings to strings of zeros, using a Boolean mask to find empty strings\n",
    "data[data == ''] = '0'\n",
    "\n",
    "# now we can convert the whole thing to float without getting conversion errors for the empty strings\n",
    "prices = data.astype(np.float)\n",
    "\n",
    "#print(prices)\n",
    "\n",
    "# compute the average price for each month (or use mean)\n",
    "# sum along the columns\n",
    "monthTotalPrices = np.sum(prices, axis = 0)\n",
    "# divide by number of years to get average\n",
    "monthAveragePrices = monthTotalPrices / len(yearsList)\n",
    "\n",
    "#print(monthAveragePrices)\n",
    "print (\"\\nAverage gas price for each month\\n\")\n",
    "\n",
    "# print the average price for each month\n",
    "for i, mon in enumerate(monthList):\n",
    "\tprint (mon, ':', monthAveragePrices[i])\n",
    "\n",
    "# compute the average price for each year up to the last one with missing data\n",
    "# sum along the rows\n",
    "yearTotalPrices = np.sum(prices, axis = 1)\n",
    "# divide by number of months to get average\n",
    "yearAveragePrices = yearTotalPrices / 12\n",
    "\n",
    "#print(monthAveragePrices)\n",
    "print (\"\\nAverage gas price for each year\\n\")\n",
    "\n",
    "\n",
    "\n",
    "# print the \n",
    "for i, year in enumerate(yearsList[ :-1]):\n",
    "    if (int(year) <=2000):\n",
    "          print (year ,':', yearAveragePrices[i])\n",
    "    else:\n",
    "        pass\n",
    "\n"
   ]
  },
  {
   "cell_type": "code",
   "execution_count": 28,
   "metadata": {},
   "outputs": [
    {
     "data": {
      "image/png": "[encoded data removed]",
      "text/plain": [
       "<Figure size 432x288 with 1 Axes>"
      ]
     },
     "metadata": {
      "needs_background": "light"
     },
     "output_type": "display_data"
    },
    {
     "data": {
      "image/png": "[encoded data removed]",
      "text/plain": [
       "<Figure size 432x288 with 1 Axes>"
      ]
     },
     "metadata": {
      "needs_background": "light"
     },
     "output_type": "display_data"
    }
   ],
   "source": [
    "# or display the monthly averages as a simple plot\n",
    "\n",
    "import matplotlib.pyplot as pp\n",
    "\n",
    "x = np.arange(12)\n",
    "pp.xticks(x,monthList)\n",
    "pp.plot(x, monthAveragePrices)\n",
    "pp.show()\n",
    "\n",
    "\n",
    "# or we can also display the years with a simple plot\n",
    "x = np.arange(len(yearsList)-1)\n",
    "pp.xticks(x,yearsList)\n",
    "pp.plot(x, yearAveragePrices[:-1])\n",
    "pp.show()\n",
    "\n",
    "# Done!"
   ]
  }
 ],
 "metadata": {
  "kernelspec": {
   "display_name": "Python 3",
   "language": "python",
   "name": "python3"
  },
  "language_info": {
   "codemirror_mode": {
    "name": "ipython",
    "version": 3
   },
   "file_extension": ".py",
   "mimetype": "text/x-python",
   "name": "python",
   "nbconvert_exporter": "python",
   "pygments_lexer": "ipython3",
   "version": "3.7.6"
  }
 },
 "nbformat": 4,
 "nbformat_minor": 4
}
