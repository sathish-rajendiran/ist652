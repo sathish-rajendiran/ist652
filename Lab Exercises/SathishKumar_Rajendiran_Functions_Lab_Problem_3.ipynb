{
 "cells": [
  {
   "cell_type": "markdown",
   "metadata": {},
   "source": [
    "\n",
    "******************************************************************************************************************\n",
    "\n",
    "Title: \"IST652 Lab3\"\n",
    "Name: Sathish Kumar Rajendiran\n",
    "Date: 08/02/2020\n",
    "\n",
    "******************************************************************************************************************\n",
    "\n",
    "Objective:\n",
    "   Working with functions\n",
    "******************************************************************************************************************\n"
   ]
  },
  {
   "cell_type": "code",
   "execution_count": 3,
   "metadata": {},
   "outputs": [
    {
     "name": "stdout",
     "output_type": "stream",
     "text": [
      "Problem 1: validatte function output\n",
      "\n",
      "ABCdef\n",
      "Zapped\n",
      "ABCdef\n",
      "jane\n",
      "\n",
      " correct answer is option d)\n"
     ]
    }
   ],
   "source": [
    "print('Problem 1: validatte function output\\n')\n",
    "# Problem 1\n",
    "# What will the followingPython program print out?\n",
    "def fred(): print(\"Zapped\")\n",
    "def jane(): print(\"ABCdef\")\n",
    "jane()\n",
    "fred() \n",
    "\n",
    "jane() \n",
    "\n",
    "print('jane')\n",
    "print('\\n correct answer is option d)')"
   ]
  },
  {
   "cell_type": "markdown",
   "metadata": {},
   "source": [
    "Rewrite your pay computation with time-and-a-half for overtime and create a function called \n",
    "computepay that takes two parameters (hours and rate) and returns Gross pay. \n",
    "Make sure to display your results with the label of Gross pay: \n",
    "(remember to format your gross pay in currency format). \n",
    "Call the function 2 or 3 times \n",
    "and enter different values (at least one with over 40 hours). \n",
    "Make sure you include some error checking to make sure they entered numeric data.\n",
    "Enter Hours: 45 Enter Rate: 10 Gross Pay: 475.0"
   ]
  },
  {
   "cell_type": "code",
   "execution_count": 4,
   "metadata": {},
   "outputs": [
    {
     "name": "stdout",
     "output_type": "stream",
     "text": [
      "Problem 2: Function to calculate Gross pay\n",
      "\n",
      " Gross pay: 400.0\n",
      " Gross pay: 550.0\n",
      " Gross pay: 475.0\n",
      " Gross pay: 250.0\n",
      " \n",
      " bad value \n",
      "\n",
      " Gross pay: 390.0\n",
      " Gross pay: 535.0\n"
     ]
    }
   ],
   "source": [
    "#Create function to calculate Gross pay\n",
    "\n",
    "print('Problem 2: Function to calculate Gross pay\\n')\n",
    "\n",
    "def computepay(hour,rate):\n",
    "    try:\n",
    "        hour = float(hour)\n",
    "        rate = float(rate)\n",
    "        pay = hour * rate\n",
    "        \n",
    "        if hour <= 40: # if hours are under standard billable hours\n",
    "            print(' Gross pay:', pay)\n",
    "        else: # if hours are beyond standard billable hours\n",
    "            print(' Gross pay:', pay + (hour-40)*rate/2)\n",
    "    except ValueError:\n",
    "        print(' \\n bad value \\n')\n",
    "\n",
    "computepay(40,10)\n",
    "computepay(50,10)\n",
    "computepay(45,10)\n",
    "computepay(25,10)\n",
    "computepay('sathish',10)\n",
    "computepay(39,10)\n",
    "computepay(49,10)"
   ]
  },
  {
   "cell_type": "code",
   "execution_count": null,
   "metadata": {},
   "outputs": [],
   "source": []
  }
 ],
 "metadata": {
  "kernelspec": {
   "display_name": "Python 3",
   "language": "python",
   "name": "python3"
  },
  "language_info": {
   "codemirror_mode": {
    "name": "ipython",
    "version": 3
   },
   "file_extension": ".py",
   "mimetype": "text/x-python",
   "name": "python",
   "nbconvert_exporter": "python",
   "pygments_lexer": "ipython3",
   "version": "3.7.6"
  }
 },
 "nbformat": 4,
 "nbformat_minor": 4
}
