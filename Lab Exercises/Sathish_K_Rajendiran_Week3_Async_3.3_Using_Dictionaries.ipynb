{
 "cells": [
  {
   "cell_type": "markdown",
   "metadata": {},
   "source": [
    "3.3 Using Dictionaries:\n",
    "\n",
    "    Create a dictionary of at least five contacts with first names and phone numbers, sort the list in alphabetical order, and print the contacts with their phone numbers.\n",
    "    \n",
    "    Name: Sathish Kumar Rajendiran\n",
    "    Task: 3.3 Using Dictionaries\n",
    "    Date: 7/13/2020"
   ]
  },
  {
   "cell_type": "code",
   "execution_count": 1,
   "metadata": {},
   "outputs": [
    {
     "data": {
      "text/plain": [
       "'/Users/sathishrajendiran/ist652-python'"
      ]
     },
     "execution_count": 1,
     "metadata": {},
     "output_type": "execute_result"
    }
   ],
   "source": [
    "import os\n",
    "os.getcwd()\n"
   ]
  },
  {
   "cell_type": "code",
   "execution_count": 7,
   "metadata": {},
   "outputs": [
    {
     "data": {
      "text/plain": [
       "dict"
      ]
     },
     "execution_count": 7,
     "metadata": {},
     "output_type": "execute_result"
    }
   ],
   "source": [
    "#Create a dummy dictionary\n",
    "\n",
    "myphonedict = {}\n",
    "myphonedict\n",
    "type(myphonedict)"
   ]
  },
  {
   "cell_type": "code",
   "execution_count": 78,
   "metadata": {},
   "outputs": [
    {
     "data": {
      "text/plain": [
       "{'sathish': '470-623-7256',\n",
       " 'sam': '623-470-2756',\n",
       " 'joe': '756-632-4073',\n",
       " 'ray': '243-720-5432',\n",
       " 'kai': '925-780-2318',\n",
       " 'jordan': '342-612-7729'}"
      ]
     },
     "execution_count": 78,
     "metadata": {},
     "output_type": "execute_result"
    }
   ],
   "source": [
    "# Add items to dictionary - myphonedict\n",
    "\n",
    "myphonedict['sathish'] ='470-623-7256'\n",
    "myphonedict['sam'] ='623-470-2756'\n",
    "myphonedict['joe'] ='756-632-4073'\n",
    "myphonedict['ray'] ='243-720-5432'\n",
    "myphonedict['kai'] ='925-780-2318'\n",
    "myphonedict['jordan'] ='342-612-7729'\n",
    "myphonedict\n",
    "\n"
   ]
  },
  {
   "cell_type": "code",
   "execution_count": 91,
   "metadata": {},
   "outputs": [
    {
     "name": "stdout",
     "output_type": "stream",
     "text": [
      "joe'phone number is 756-632-4073\n",
      "jordan'phone number is 342-612-7729\n",
      "kai'phone number is 925-780-2318\n",
      "ray'phone number is 243-720-5432\n",
      "sam'phone number is 623-470-2756\n",
      "sathish'phone number is 470-623-7256\n"
     ]
    }
   ],
   "source": [
    "# Working with dictioaries\n",
    "\n",
    "sorted_dict = sorted(myphonedict.items(), key=lambda kv: kv[0])\n",
    "\n",
    "# sorted_dict\n",
    "for key, value in sorted_dict:\n",
    "    print (key+'\\'phone number is', value)\n",
    "\n",
    "\n",
    "\n"
   ]
  },
  {
   "cell_type": "code",
   "execution_count": 94,
   "metadata": {},
   "outputs": [
    {
     "name": "stdout",
     "output_type": "stream",
     "text": [
      "don'phone number is 455-9988\n",
      "eric'phone number is 454-5555\n",
      "helen'phone number is 456-1234\n",
      "john'phone number is 454-5195\n",
      "michael'phone number is 454-9999\n"
     ]
    }
   ],
   "source": [
    "phonedict = {'eric':'454-5555','john':'454-5195','michael':'454-9999','helen':'456-1234','don':'455-9988'}\n",
    "for key in sorted(phonedict):\n",
    "    print (key+'\\'phone number is', phonedict[key])"
   ]
  }
 ],
 "metadata": {
  "kernelspec": {
   "display_name": "Python 3",
   "language": "python",
   "name": "python3"
  },
  "language_info": {
   "codemirror_mode": {
    "name": "ipython",
    "version": 3
   },
   "file_extension": ".py",
   "mimetype": "text/x-python",
   "name": "python",
   "nbconvert_exporter": "python",
   "pygments_lexer": "ipython3",
   "version": "3.7.6"
  }
 },
 "nbformat": 4,
 "nbformat_minor": 4
}
