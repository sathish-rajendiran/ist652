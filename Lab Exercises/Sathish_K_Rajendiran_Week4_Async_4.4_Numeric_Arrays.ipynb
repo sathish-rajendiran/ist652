{
 "cells": [
  {
   "cell_type": "markdown",
   "metadata": {},
   "source": [
    "Week 4.2 – Functions Activity\n",
    "\n",
    "    Name: Sathish Kumar Rajendiran\n",
    "    Task: 4.4 Numeric Arrays\n",
    "    Date: 7/23/2020"
   ]
  },
  {
   "cell_type": "code",
   "execution_count": 15,
   "metadata": {},
   "outputs": [
    {
     "name": "stdout",
     "output_type": "stream",
     "text": [
      "sliced array by last two rows of the thir and fourth columns [[14 15]\n",
      " [19 20]]\n"
     ]
    }
   ],
   "source": [
    "# Generate a numpy array of size 4 by 5.\n",
    "\n",
    "# [1,2,3,4,5], [6,7,8,9,10], [11,12,13,14,15], [16,17,18,19,20] \n",
    "\n",
    "# a. Use Index Slicing and show how to get the subarray consisting of the last two rows and the third and fourth columns.\n",
    "\n",
    "# b. Show how to create a one-dimensional array that sums the columns\n",
    "\n",
    "# Submit your solution in a single file.\n",
    "\n",
    "import numpy as np\n",
    "\n",
    "arr_1 = np.array([[1, 2, 3, 4, 5],\n",
    "             [6, 7, 8, 9, 10],\n",
    "             [11, 12, 13, 14, 15],\n",
    "             [16, 17, 18, 19, 20]])\n",
    "\n",
    "arr_1\n",
    "\n",
    "# a. Use Index Slicing and show how to get the \n",
    "#     subarray consisting of the last two rows \n",
    "#     and the third and fourth columns.\n",
    "\n",
    "arr_sliced = arr_1[2:, 3:]\n",
    "print(\"sliced array by last two rows of the thir and fourth columns\", arr_sliced)"
   ]
  },
  {
   "cell_type": "code",
   "execution_count": 14,
   "metadata": {},
   "outputs": [
    {
     "name": "stdout",
     "output_type": "stream",
     "text": [
      "sliced array by last two rows of the thir and fourth columns [34 38 42 46 50]\n"
     ]
    }
   ],
   "source": [
    "# b. Show how to create a one-dimensional array that sums the columns\n",
    "\n",
    "sum_arr = np.sum(arr_1, axis = 0)\n",
    "\n",
    "print(\"sliced array by last two rows of the thir and fourth columns\", sum_arr)"
   ]
  }
 ],
 "metadata": {
  "kernelspec": {
   "display_name": "Python 3",
   "language": "python",
   "name": "python3"
  },
  "language_info": {
   "codemirror_mode": {
    "name": "ipython",
    "version": 3
   },
   "file_extension": ".py",
   "mimetype": "text/x-python",
   "name": "python",
   "nbconvert_exporter": "python",
   "pygments_lexer": "ipython3",
   "version": "3.7.6"
  }
 },
 "nbformat": 4,
 "nbformat_minor": 4
}
