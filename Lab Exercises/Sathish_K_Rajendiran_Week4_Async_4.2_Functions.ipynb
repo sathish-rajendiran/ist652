{
 "cells": [
  {
   "cell_type": "markdown",
   "metadata": {},
   "source": [
    "Week 4.2 – Functions Activity\n",
    "\n",
    "    Name: Sathish Kumar Rajendiran\n",
    "    Task: 4.2 Functions Activity\n",
    "    Date: 7/23/2020"
   ]
  },
  {
   "cell_type": "code",
   "execution_count": 2,
   "metadata": {},
   "outputs": [
    {
     "name": "stdout",
     "output_type": "stream",
     "text": [
      "ABC\n",
      "Zap\n",
      "ABC\n"
     ]
    }
   ],
   "source": [
    "# Exercise 1\n",
    "# What will the following Python program print out?\n",
    "\n",
    "def fred():\n",
    "    print (\"Zap\")\n",
    "\n",
    "def jane():\n",
    "    print(\"ABC\")\n",
    "\n",
    "jane()\n",
    "fred()\n",
    "jane()\n",
    "\n",
    "# Explain your answer:\n",
    "\n",
    "# # ABC Zap ABC\n",
    "\n",
    "# Function suppsoed to excute whatever is defined in its definion.\n",
    "\n",
    "# In additon, the values are returned based on the function call rather than the function definition order.\n",
    "\n",
    "# Hence, Value \"ABC\" printed first and last as the function Jane() called in that order.So, did \"Zap\"\n"
   ]
  },
  {
   "cell_type": "code",
   "execution_count": 6,
   "metadata": {},
   "outputs": [
    {
     "data": {
      "text/plain": [
       "950.0"
      ]
     },
     "execution_count": 6,
     "metadata": {},
     "output_type": "execute_result"
    }
   ],
   "source": [
    "# Exercise 2\n",
    "# Rewrite the pay computation program that you created in \n",
    "# Week 2 with time-and-ahalf for overtime and create a function called computepay that takes two\n",
    "# parameters (hours and rate).\n",
    "# Enter Hours: 45\n",
    "# Enter Rate: 20\n",
    "\n",
    "def computepay(hours,rate):\n",
    "    pay = (hours * rate) * 1.0556\n",
    "    return round(pay,0)\n",
    "\n",
    "computepay(45,20)"
   ]
  },
  {
   "cell_type": "code",
   "execution_count": null,
   "metadata": {},
   "outputs": [],
   "source": []
  }
 ],
 "metadata": {
  "kernelspec": {
   "display_name": "Python 3",
   "language": "python",
   "name": "python3"
  },
  "language_info": {
   "codemirror_mode": {
    "name": "ipython",
    "version": 3
   },
   "file_extension": ".py",
   "mimetype": "text/x-python",
   "name": "python",
   "nbconvert_exporter": "python",
   "pygments_lexer": "ipython3",
   "version": "3.7.6"
  }
 },
 "nbformat": 4,
 "nbformat_minor": 4
}
