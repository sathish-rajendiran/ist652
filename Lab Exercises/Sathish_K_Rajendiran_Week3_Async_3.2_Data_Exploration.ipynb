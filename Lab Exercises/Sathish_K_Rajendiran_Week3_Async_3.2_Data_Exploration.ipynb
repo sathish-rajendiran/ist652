{
 "cells": [
  {
   "cell_type": "markdown",
   "metadata": {},
   "source": [
    "3.2 Data Exploration:\n",
    "\n",
    "    Write your own program (or build on the one you wrote before) to read the NBA Attendance file into Python, and find the average attendance, average price of a ticket, and the max attendance record, max ticket price. Display the total attendance, average attendance, the max attendance with the team name, and the max ticket price with the team name.\n",
    "    \n",
    "    Name: Sathish Kumar Rajendiran\n",
    "    Task: 3.2 Data Exploration\n",
    "    Date: 7/13/2020"
   ]
  },
  {
   "cell_type": "code",
   "execution_count": 1,
   "metadata": {},
   "outputs": [
    {
     "data": {
      "text/plain": [
       "'/Users/sathishrajendiran/ist652-python'"
      ]
     },
     "execution_count": 1,
     "metadata": {},
     "output_type": "execute_result"
    }
   ],
   "source": [
    "import os\n",
    "os.getcwd()\n"
   ]
  },
  {
   "cell_type": "code",
   "execution_count": 2,
   "metadata": {},
   "outputs": [
    {
     "name": "stdout",
     "output_type": "stream",
     "text": [
      "\n",
      " Number of lines : 27\n",
      "> ['Atlanta', '13993', '20.06']\n",
      "> ['Boston', '14916', '22.54']\n",
      "> ['Charlotte', '23901', '17']\n",
      "> ['Chicago', '18404', '21.98']\n",
      "> ['Cleveland', '16969', '19.63']\n",
      "> ['Dallas', '16868', '17.05']\n",
      "> ['Denver', '12668', '17.4']\n",
      "> ['Detroit', '21454', '24.42']\n",
      "> ['Golden_State', '15025', '17.04']\n",
      "> ['Houston', '15846', '17.56']\n",
      "> ['Indiana', '12885', '13.77']\n",
      "> ['LA_Clippers', '11869', '21.95']\n",
      "> ['LA_Lakers', '17378', '29.18']\n",
      "> ['Miami', '15008', '17.6']\n",
      "> ['Milwaukee', '16088', '14.08']\n",
      "> ['Minnesota', '26160', '10.92']\n",
      "> ['New_Jersey', '12160', '13.31']\n",
      "> ['New_York', '17815', '22.7']\n",
      "> ['Orlando', '15606', '20.47']\n",
      "> ['Philadelphia', '14017', '19.04']\n",
      "> ['Phoenix', '14114', '16.59']\n",
      "> ['Portland', '12884', '22.19']\n",
      "> ['Sacramento', '17014', '16.96']\n",
      "> ['San_Antonio', '14722', '16.79']\n",
      "> ['Seattle', '12244', '18.11']\n",
      "> ['Utah', '12616', '18.41']\n",
      "> ['Washington', '11565', '14.55']\n"
     ]
    }
   ],
   "source": [
    "# Working with file, list and sorting\n",
    "try: \n",
    "    NBAfile = open ('/Users/sathishrajendiran/ist652-python/NBA-Attendance-1989.txt', 'r')\n",
    "    \n",
    "except:\n",
    "    print(\"Is the file in correct directory?\")\n",
    "\n",
    "# Create a dummy list\n",
    "NBAlist = []\n",
    "\n",
    "for line in NBAfile:\n",
    "    textline = line.strip()\n",
    "    # split the line on whitespace\n",
    "    lines = textline.split()\n",
    "    # add the list of items to the NBAlist\n",
    "    NBAlist.append(lines)\n",
    "\n",
    "l = len(NBAlist)\n",
    "\n",
    "print('\\n Number of lines :',l)\n",
    "\n",
    "for line in NBAlist:\n",
    "    print('>',line)\n"
   ]
  },
  {
   "cell_type": "code",
   "execution_count": 5,
   "metadata": {},
   "outputs": [
    {
     "name": "stdout",
     "output_type": "stream",
     "text": [
      "\n",
      " Total attendance is 424,189\n",
      " Average attendance is 15,710.70\n",
      " Minnesota has reported the maximum attendance as 26,160\n",
      "\n",
      " LA_Lakers has sold the maximum ticket price at $29.18\n",
      " Where as, the average price of the ticket was sold at $18.57\n"
     ]
    }
   ],
   "source": [
    "#NBAlist[0]\n",
    "team,attendance,price =NBAlist[0]\n",
    "\n",
    "#NBAlist\n",
    "# print(team,attendance,price)\n",
    "\n",
    "#find average attendance\n",
    "attendances = []\n",
    "prices = []\n",
    "teams = []\n",
    "                 \n",
    "\n",
    "for (team,attendance,price) in NBAlist:\n",
    "    attendances.append(int(attendance))\n",
    "    prices.append(float(price))\n",
    "    teams.append(team)\n",
    "\n",
    "# print('\\n teams:',teams)     \n",
    "# print('\\n attendances:',attendances)\n",
    "# print('\\n prices:',prices)\n",
    "# print(teams[attendances.index(max(attendances))])\n",
    "\n",
    "try:\n",
    "    if l>0:\n",
    "        if sum(attendances)>0:\n",
    "            max_team = teams[attendances.index(max(attendances))]\n",
    "            avg_attendance = sum(attendances)/l\n",
    "            print('\\n Total attendance is {:0,.0f}'.format(sum(attendances)))\n",
    "            print(' Average attendance is {:0,.2f}'.format(avg_attendance))\n",
    "            print('',max_team,'has reported the maximum attendance as {:0,.0f}'.format(max(attendances)))\n",
    "            \n",
    "            \n",
    "        if sum(prices)>0:\n",
    "            max_price_team = teams[prices.index(max(prices))]\n",
    "            avg_price=sum(prices)/l\n",
    "            print('\\n',max_price_team,'has sold the maximum ticket price at ${:0,.2f}'.format(max(prices)))\n",
    "            print(' Where as, the average price of the ticket was sold at ${:0,.2f}'.format(avg_price))  \n",
    "    else:\n",
    "        print(\"Has there been any events?\")\n",
    "\n",
    "except ValueError:\n",
    "        print(\"Bad Data\")\n",
    "\n",
    "\n",
    "\n"
   ]
  },
  {
   "cell_type": "code",
   "execution_count": null,
   "metadata": {},
   "outputs": [],
   "source": []
  }
 ],
 "metadata": {
  "kernelspec": {
   "display_name": "Python 3",
   "language": "python",
   "name": "python3"
  },
  "language_info": {
   "codemirror_mode": {
    "name": "ipython",
    "version": 3
   },
   "file_extension": ".py",
   "mimetype": "text/x-python",
   "name": "python",
   "nbconvert_exporter": "python",
   "pygments_lexer": "ipython3",
   "version": "3.7.6"
  }
 },
 "nbformat": 4,
 "nbformat_minor": 4
}
