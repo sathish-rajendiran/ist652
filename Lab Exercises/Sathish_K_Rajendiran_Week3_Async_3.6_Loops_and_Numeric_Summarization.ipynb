{
 "cells": [
  {
   "cell_type": "markdown",
   "metadata": {},
   "source": [
    "3.5 Reading CSV files:\n",
    "\n",
    "    Use the example we covered in the previous lecture and create your own program to read this file. Then display the lines in the table you created. The data file is attach\n",
    "    \n",
    "    Name: Sathish Kumar Rajendiran\n",
    "    Task: 3.5 Reading CSV files\n",
    "    Date: 7/13/2020"
   ]
  },
  {
   "cell_type": "code",
   "execution_count": 2,
   "metadata": {},
   "outputs": [
    {
     "data": {
      "text/plain": [
       "'/Users/sathishrajendiran/ist652-python'"
      ]
     },
     "execution_count": 2,
     "metadata": {},
     "output_type": "execute_result"
    }
   ],
   "source": [
    "import os\n",
    "import csv\n",
    "# import sys\n",
    "\n",
    "os.getcwd()"
   ]
  },
  {
   "cell_type": "code",
   "execution_count": 13,
   "metadata": {},
   "outputs": [
    {
     "name": "stdout",
     "output_type": "stream",
     "text": [
      "Country info:\n",
      "country: Country life_exp: Life expectancy people_tv: People/TV\n",
      "country: Argentina life_exp: 70.5 people_tv: 4\n",
      "country: Bangladesh life_exp: 53.5 people_tv: 315\n",
      "country: Brazil life_exp: 65 people_tv: 4\n",
      "country: Canada life_exp: 76.5 people_tv: 1.7\n",
      "country: China life_exp: 70 people_tv: 8\n",
      "country: Colombia life_exp: 71 people_tv: 5.6\n",
      "country: Egypt life_exp: 60.5 people_tv: 15\n",
      "country: Ethiopia life_exp: 51.5 people_tv: 503\n",
      "country: France life_exp: 78 people_tv: 2.6\n",
      "country: Germany life_exp: 76 people_tv: 2.6\n",
      "country: India life_exp: 57.5 people_tv: 44\n",
      "country: Indonesia life_exp: 61 people_tv: 24\n",
      "country: Iran life_exp: 64.5 people_tv: 23\n",
      "country: Italy life_exp: 78.5 people_tv: 3.8\n",
      "country: Japan life_exp: 79 people_tv: 1.8\n",
      "country: Kenya life_exp: 61 people_tv: 96\n",
      "country: Korea, North life_exp: 70 people_tv: 90\n",
      "country: Korea, South life_exp: 70 people_tv: 4.9\n",
      "country: Mexico life_exp: 72 people_tv: 6.6\n",
      "country: Morocco life_exp: 64.5 people_tv: 21\n",
      "country: Myanmar (Burma) life_exp: 54.5 people_tv: 592\n",
      "country: Pakistan life_exp: 56.5 people_tv: 73\n",
      "country: Peru life_exp: 64.5 people_tv: 14\n",
      "country: Philippines life_exp: 64.5 people_tv: 8.8\n",
      "country: Poland life_exp: 73 people_tv: 3.9\n",
      "country: Romania life_exp: 72 people_tv: 6\n",
      "country: Russia life_exp: 69 people_tv: 3.2\n",
      "country: South Africa life_exp: 64 people_tv: 11\n",
      "country: Spain life_exp: 78.5 people_tv: 2.6\n",
      "country: Sudan life_exp: 53 people_tv: 23\n",
      "country: Taiwan life_exp: 75 people_tv: 3.2\n",
      "country: Tanzania life_exp: 52.5 people_tv: *\n",
      "country: Thailand life_exp: 68.5 people_tv: 11\n",
      "country: Turkey life_exp: 70 people_tv: 5\n",
      "country: Ukraine life_exp: 70.5 people_tv: 3\n",
      "country: United Kingdom life_exp: 76 people_tv: 3\n",
      "country: United States life_exp: 75.5 people_tv: 1.3\n",
      "country: Venezuela life_exp: 74.5 people_tv: 5.6\n",
      "country: Vietnam life_exp: 65 people_tv: 29\n",
      "country: Zaire life_exp: 54 people_tv: *\n"
     ]
    }
   ],
   "source": [
    "# Working with file, loops and Numeric Summarization\n",
    "\n",
    "\n",
    "csv.register_dialect('mydialect',delimiter=',',skipinitialspace=True,quoting=csv.QUOTE_ALL)\n",
    "\n",
    "try: \n",
    "    filename = 'tv_life.csv'\n",
    "    \n",
    "except:\n",
    "    print(\"Is the file in correct directory?\")\n",
    "\n",
    "#Create a dummy list\n",
    "tvlife =[]   \n",
    "\n",
    "with open(filename,'r', newline='') as csvfile:\n",
    "    filereader = csv.reader(csvfile,dialect='mydialect')\n",
    "    \n",
    "    # from each line, a list of row items, put each element in a dictionary\n",
    "    #   with a key representing the data\n",
    "    \n",
    "    try:\n",
    "        for row in filereader:\n",
    "            # skip lines without data, specific for each file to catch non-data lines\n",
    "            if row[0]=='' or row[0].startswith('Televison') or row[0].startswith('SOURCE'):\n",
    "                continue\n",
    "            else:\n",
    "                    info={}\n",
    "                    info['country']=row[0]\n",
    "                    info['life_exp']=row[1]\n",
    "                    info['people_tv']=row[2]\n",
    "                    info['people_physician']=row[3]\n",
    "                    info['female_life_exp']=row[4]\n",
    "                    info['male_life_exp']=row[5]\n",
    "                    tvlife.append(info)   \n",
    "                    \n",
    "    # catch errors in file formatting (number items per line)  and print an error message          \n",
    "    except csv.Error as e:\n",
    "        sys.exit('file {}, line {}: {}'.format(filename, reader.line_num, e))\n",
    "csvfile.close()\n",
    "\n",
    "\n",
    "# print(statedata)\n",
    "print(\"Country info:\")\n",
    "for country in tvlife:\n",
    "    print('country:',country['country'],'life_exp:',country['life_exp'],'people_tv:',country['people_tv'])\n"
   ]
  },
  {
   "cell_type": "code",
   "execution_count": 16,
   "metadata": {},
   "outputs": [],
   "source": [
    "stock = {\"banana\":6,\"apple\":0,\"orange\":32,\"pear\":15}\n",
    "prices={\"banana\":4,\"apple\":2,\"orange\":1.5,\"pear\":3}"
   ]
  },
  {
   "cell_type": "code",
   "execution_count": 67,
   "metadata": {},
   "outputs": [
    {
     "name": "stdout",
     "output_type": "stream",
     "text": [
      "value of orange is 32 \n",
      "\n",
      "stock dictionary:\n",
      "banana : 6\n",
      "apple : 0\n",
      "orange : 32\n",
      "pear : 15\n",
      "cherry : 14\n"
     ]
    }
   ],
   "source": [
    "# create dictionaries for stock and prices\n",
    "stock = {\"banana\":6,\"apple\":0,\"orange\":32,\"pear\":15}\n",
    "prices={\"banana\":4,\"apple\":2,\"orange\":1.5,\"pear\":3}\n",
    "\n",
    "#print value of key 'orange' from the stock dictionary\n",
    "print ('value of orange is',stock['orange'],'\\n')\n",
    "\n",
    "# add an item to dictionary\n",
    "stock['cherry']='14'\n",
    "\n",
    "#print all key, values from stock dictionary\n",
    "print('stock dictionary:')\n",
    "for key in stock:\n",
    "    print(key,':',stock[key])\n",
    "    \n",
    "\n",
    "# print('\\n return keys from stock as list',list(stock.keys()))\n",
    "# print('\\n return values from stock as list',list(stock.values()))\n"
   ]
  }
 ],
 "metadata": {
  "kernelspec": {
   "display_name": "Python 3",
   "language": "python",
   "name": "python3"
  },
  "language_info": {
   "codemirror_mode": {
    "name": "ipython",
    "version": 3
   },
   "file_extension": ".py",
   "mimetype": "text/x-python",
   "name": "python",
   "nbconvert_exporter": "python",
   "pygments_lexer": "ipython3",
   "version": "3.7.6"
  }
 },
 "nbformat": 4,
 "nbformat_minor": 4
}
