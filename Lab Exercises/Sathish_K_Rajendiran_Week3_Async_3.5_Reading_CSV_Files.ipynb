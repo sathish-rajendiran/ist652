{
 "cells": [
  {
   "cell_type": "markdown",
   "metadata": {},
   "source": [
    "3.5 Reading CSV files:\n",
    "\n",
    "    Use the example we covered in the previous lecture and create your own program to read this file. Then display the lines in the table you created. The data file is attach\n",
    "    \n",
    "    Name: Sathish Kumar Rajendiran\n",
    "    Task: 3.5 Reading CSV files\n",
    "    Date: 7/13/2020"
   ]
  },
  {
   "cell_type": "code",
   "execution_count": 62,
   "metadata": {},
   "outputs": [],
   "source": [
    "import os\n",
    "import csv\n",
    "# import sys\n",
    "\n"
   ]
  },
  {
   "cell_type": "code",
   "execution_count": 63,
   "metadata": {},
   "outputs": [
    {
     "name": "stdout",
     "output_type": "stream",
     "text": [
      "State info:\n",
      "state: Alabama Abbreviation: Ala. Population: 4040587\n",
      "state: Alaska Abbreviation: Alaska Population: 550043\n",
      "state: Arizona Abbreviation: Ariz. Population: 3665228\n",
      "state: Arkansas Abbreviation: Ark. Population: 2350725\n",
      "state: California Abbreviation: Calif. Population: 29769021\n",
      "state: Colorado Abbreviation: Colo. Population: 3294394\n",
      "state: Connecticut Abbreviation: Conn. Population: 3287116\n",
      "state: Delaware Abbreviation: Del. Population: 666168\n",
      "state: District of Columbia Abbreviation: D.C. Population: 606900\n",
      "state: Florida Abbreviation: Fla. Population: 12937926\n",
      "state: Georgia Abbreviation: Ga. Population: 6478216\n",
      "state: Hawaii Abbreviation: Hawaii Population: 1108229\n",
      "state: Idaho Abbreviation: Idaho Population: 1006749\n",
      "state: Illinois Abbreviation: Ill. Population: 11430602\n",
      "state: Indiana Abbreviation: Ind. Population: 5544159\n",
      "state: Iowa Abbreviation: Iowa Population: 2776755\n",
      "state: Kansas Abbreviation: Kans. Population: 2477574\n",
      "state: Kentucky Abbreviation: Ky. Population: 3685296\n",
      "state: Louisiana Abbreviation: La. Population: 4219973\n",
      "state: Maine Abbreviation: Maine Population: 1227928\n",
      "state: Maryland Abbreviation: Md. Population: 4781468\n",
      "state: Massachusetts Abbreviation: Mass. Population: 6016425\n",
      "state: Michigan Abbreviation: Mich. Population: 9295297\n",
      "state: Minnesota Abbreviation: Minn. Population: 4375099\n",
      "state: Mississippi Abbreviation: Miss. Population: 2573216\n",
      "state: Missouri Abbreviation: Mo. Population: 5117073\n",
      "state: Montana Abbreviation: Mont. Population: 799065\n",
      "state: Nebraska Abbreviation: Nebr. Population: 1578385\n",
      "state: Nevada Abbreviation: Nev. Population: 1201833\n",
      "state: New Hampshire Abbreviation: N.H. Population: 1109252\n",
      "state: New Jersey Abbreviation: N.J. Population: 7730188\n",
      "state: New Mexico Abbreviation: N.Mex. Population: 1515069\n",
      "state: New York Abbreviation: N.Y. Population: 17990455\n",
      "state: North Carolina Abbreviation: N.C. Population: 6628637\n",
      "state: North Dakota Abbreviation: N.Dak. Population: 638800\n",
      "state: Ohio Abbreviation: Ohio Population: 10847115\n",
      "state: Oklahoma Abbreviation: Okla. Population: 3145585\n",
      "state: Oregon Abbreviation: Oreg. Population: 2842321\n",
      "state: Pennsylvania Abbreviation: Pa. Population: 11881643\n",
      "state: Rhode Island Abbreviation: R.I. Population: 1003464\n",
      "state: South Carolina Abbreviation: S.C. Population: 3468703\n",
      "state: South Dakota Abbreviation: S.Dak. Population: 696004\n",
      "state: Tennessee Abbreviation: Tenn. Population: 4877185\n",
      "state: Texas Abbreviation: Tex. Population: 16986510\n",
      "state: Utah Abbreviation: Utah Population: 1722850\n",
      "state: Vermont Abbreviation: Vt. Population: 562758\n",
      "state: Virginia Abbreviation: Va. Population: 6187358\n",
      "state: Washington Abbreviation: Wash. Population: 4866692\n",
      "state: West Virginia Abbreviation: W.Va. Population: 1793477\n",
      "state: Wisconsin Abbreviation: Wis. Population: 4891769\n",
      "state: Wyoming Abbreviation: Wyo. Population: 453588\n",
      "state: United States Abbreviation:  Population: 248691873\n"
     ]
    }
   ],
   "source": [
    "# Working with file, list and sorting\n",
    "import os\n",
    "import csv\n",
    "os.getcwd()\n",
    "\n",
    "csv.register_dialect('mydialect',delimiter='\\t',skipinitialspace=True,quoting=csv.QUOTE_ALL)\n",
    "\n",
    "try: \n",
    "    filename = 'states_data.tsv'\n",
    "    \n",
    "except:\n",
    "    print(\"Is the file in correct directory?\")\n",
    "\n",
    "statedata =[]   \n",
    "with open(filename,'r', newline='') as csvfile:\n",
    "    filereader = csv.reader(csvfile,dialect='mydialect')\n",
    "\n",
    "    try:\n",
    "        for row in filereader:\n",
    "            if row[0]=='' or row[0].startswith('Data') or row[0].startswith('*'):\n",
    "                continue\n",
    "            else:\n",
    "                info={}\n",
    "                info['name']=row[0]\n",
    "                info['abbr']=row[1]\n",
    "                info['code']=row[2]\n",
    "                info['area']=int(row[3].replace(',',''))\n",
    "                info['population']=int(row[4].replace(',',''))\n",
    "                statedata.append(info)                      \n",
    "                \n",
    "    except csv.Error as e:\n",
    "        sys.exit('file {}, line {}: {}'.format(filename, reader.line_num, e))\n",
    "csvfile.close()\n",
    "\n",
    "\n",
    "# print(statedata)\n",
    "print(\"State info:\")\n",
    "for state in statedata:\n",
    "    print('state:',state['name'],'Abbreviation:',state['abbr'],'Population:',state['population'])\n"
   ]
  },
  {
   "cell_type": "code",
   "execution_count": null,
   "metadata": {},
   "outputs": [],
   "source": []
  }
 ],
 "metadata": {
  "kernelspec": {
   "display_name": "Python 3",
   "language": "python",
   "name": "python3"
  },
  "language_info": {
   "codemirror_mode": {
    "name": "ipython",
    "version": 3
   },
   "file_extension": ".py",
   "mimetype": "text/x-python",
   "name": "python",
   "nbconvert_exporter": "python",
   "pygments_lexer": "ipython3",
   "version": "3.7.6"
  }
 },
 "nbformat": 4,
 "nbformat_minor": 4
}
