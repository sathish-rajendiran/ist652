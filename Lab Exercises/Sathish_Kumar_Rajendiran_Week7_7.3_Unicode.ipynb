{
 "cells": [
  {
   "cell_type": "markdown",
   "metadata": {},
   "source": [
    "### Name: Sathish Kumar Rajendiran\n",
    "Task: Week7: 7.3 Unicode\n",
    "Date: 8/12/2020"
   ]
  },
  {
   "cell_type": "code",
   "execution_count": 21,
   "metadata": {},
   "outputs": [],
   "source": [
    "#create a function to return x values\n",
    "def unicodefn(x):\n",
    "    print('value of x is :', x)\n",
    "    "
   ]
  },
  {
   "cell_type": "code",
   "execution_count": 22,
   "metadata": {},
   "outputs": [
    {
     "name": "stdout",
     "output_type": "stream",
     "text": [
      "value of x is : 15\n",
      "value of x is : 255\n",
      "value of x is : 127\n",
      "value of x is : Δ\n",
      "value of x is : Δ\n",
      "value of x is : Δ\n",
      "value of x is : b'\\xffab'\n",
      "value of x is : <class 'bytes'>\n",
      "value of x is : <class 'bytes'>\n"
     ]
    }
   ],
   "source": [
    "unicodefn(15)\n",
    "unicodefn(0xFF)\n",
    "unicodefn(0x7F)\n",
    "unicodefn('\\u0394')\n",
    "unicodefn(\"\\U00000394\")\n",
    "unicodefn(\"\\N{GREEK CAPITAL LETTER DELTA}\")\n",
    "unicodefn(b'\\xFFab')\n",
    "unicodefn(type(b'ab'))\n",
    "unicodefn(type(b'\\xFFab'))"
   ]
  },
  {
   "cell_type": "code",
   "execution_count": 23,
   "metadata": {},
   "outputs": [
    {
     "name": "stdout",
     "output_type": "stream",
     "text": [
      "value of x is : <class 'str'>\n",
      "value of x is : ꀀabcd޴\n",
      "ꀀabcd޴\n"
     ]
    }
   ],
   "source": [
    "u=chr(40960) + 'abcd' + chr(1972)\n",
    "\n",
    "unicodefn(type(u))\n",
    "\n",
    "unicodefn(u)\n",
    "\n",
    "print(u)\n"
   ]
  },
  {
   "cell_type": "code",
   "execution_count": 24,
   "metadata": {},
   "outputs": [
    {
     "data": {
      "text/plain": [
       "b'?abcd?'"
      ]
     },
     "execution_count": 24,
     "metadata": {},
     "output_type": "execute_result"
    }
   ],
   "source": [
    "u.encode('ascii','replace')"
   ]
  },
  {
   "cell_type": "code",
   "execution_count": 25,
   "metadata": {},
   "outputs": [
    {
     "data": {
      "text/plain": [
       "b'&#40960;abcd&#1972;'"
      ]
     },
     "execution_count": 25,
     "metadata": {},
     "output_type": "execute_result"
    }
   ],
   "source": [
    "u.encode('ascii', 'xmlcharrefreplace')"
   ]
  },
  {
   "cell_type": "code",
   "execution_count": 26,
   "metadata": {},
   "outputs": [
    {
     "data": {
      "text/plain": [
       "b'\\\\ua000abcd\\\\u07b4'"
      ]
     },
     "execution_count": 26,
     "metadata": {},
     "output_type": "execute_result"
    }
   ],
   "source": [
    "u.encode('ascii', 'backslashreplace')"
   ]
  }
 ],
 "metadata": {
  "kernelspec": {
   "display_name": "Python 3",
   "language": "python",
   "name": "python3"
  },
  "language_info": {
   "codemirror_mode": {
    "name": "ipython",
    "version": 3
   },
   "file_extension": ".py",
   "mimetype": "text/x-python",
   "name": "python",
   "nbconvert_exporter": "python",
   "pygments_lexer": "ipython3",
   "version": "3.7.6"
  }
 },
 "nbformat": 4,
 "nbformat_minor": 4
}
