{
 "cells": [
  {
   "cell_type": "markdown",
   "metadata": {},
   "source": [
    "3.5 Reading CSV files:\n",
    "\n",
    "    Name: Sathish Kumar Rajendiran\n",
    "    Task: Homework 1: Structured Data\n",
    "    Date: 7/27/2020\n",
    " \n",
    "     Structured Data Processing\n",
    "         For purposes of this writeup, we will use examples from the Donors data file.\n",
    "        The main outline of your assignment is to write a program that will read in the data from a file, such as the .csv file saved from Excel. This will be in a format that is structured with lines of data representing one type of unit (i.e., one donor in the donors file). Your program will represent the data as Python data structures. You may choose for the overall structure to be one or both of the following:\n",
    "    - A list of dictionaries, or some combination of lists, dictionaries, and NumPy arrays \n",
    "    - A pandas dataframe\n",
    "    You will do data exploration and cleaning on this data.\n",
    "    The program will do some processing to convert the data to a form that will answer at least two questions as described below, and write files with the data suitable for answering each question. Graphing is optional."
   ]
  },
  {
   "cell_type": "code",
   "execution_count": 3,
   "metadata": {},
   "outputs": [
    {
     "data": {
      "text/plain": [
       "'/Users/sathishrajendiran/ist652-python'"
      ]
     },
     "execution_count": 3,
     "metadata": {},
     "output_type": "execute_result"
    }
   ],
   "source": [
    "#import libraries\n",
    "import csv\n",
    "import os\n",
    "import numpy as np\n",
    "import pandas as pd\n",
    "import matplotlib.pyplot as plt\n",
    "os.getcwd()"
   ]
  },
  {
   "cell_type": "code",
   "execution_count": 2,
   "metadata": {},
   "outputs": [
    {
     "ename": "SyntaxError",
     "evalue": "EOL while scanning string literal (<ipython-input-2-46fdde242a72>, line 5)",
     "output_type": "error",
     "traceback": [
      "\u001b[0;36m  File \u001b[0;32m\"<ipython-input-2-46fdde242a72>\"\u001b[0;36m, line \u001b[0;32m5\u001b[0m\n\u001b[0;31m    filepath = ''/Users/sathishrajendiran/ist652-python/hw1'\u001b[0m\n\u001b[0m                                                            ^\u001b[0m\n\u001b[0;31mSyntaxError\u001b[0m\u001b[0;31m:\u001b[0m EOL while scanning string literal\n"
     ]
    }
   ],
   "source": [
    "# Working with file, list and sorting\n",
    "\n",
    "os.getcwd()\n",
    "\n",
    "filepath = '/Users/sathishrajendiran/ist652-python/hw1'\n",
    "\n",
    "\n",
    "csv.register_dialect('mydialect',delimiter=',',skipinitialspace=True,quoting=csv.QUOTE_ALL)\n",
    "\n",
    "try: \n",
    "    filename = 'donors_data.csv'\n",
    "    \n",
    "except:\n",
    "    print(\"Is the file in correct directory?\")\n",
    "\n",
    "donorsdata =[]   \n",
    "with open(filename,'r', newline='') as csvfile:\n",
    "    filereader = csv.reader(csvfile,dialect='mydialect')\n",
    "\n",
    "    try:\n",
    "        for row in filereader:\n",
    "            if row[0]=='' or row[0].startswith('Data') or row[0].startswith('*'):\n",
    "                continue\n",
    "            else:\n",
    "                info={}\n",
    "                info['name']=row[0]\n",
    "                info['abbr']=row[1]\n",
    "                info['code']=row[2]\n",
    "                info['area']=int(row[3].replace(',',''))\n",
    "                info['population']=int(row[4].replace(',',''))\n",
    "                statedata.append(info)                      \n",
    "                \n",
    "    except csv.Error as e:\n",
    "        sys.exit('file {}, line {}: {}'.format(filename, reader.line_num, e))\n",
    "csvfile.close()\n",
    "\n",
    "\n",
    "# print(statedata)\n",
    "print(\"State info:\")\n",
    "for state in statedata:\n",
    "    print('state:',state['name'],'Abbreviation:',state['abbr'],'Population:',state['population'])\n"
   ]
  },
  {
   "cell_type": "code",
   "execution_count": null,
   "metadata": {},
   "outputs": [],
   "source": []
  }
 ],
 "metadata": {
  "kernelspec": {
   "display_name": "Python 3",
   "language": "python",
   "name": "python3"
  },
  "language_info": {
   "codemirror_mode": {
    "name": "ipython",
    "version": 3
   },
   "file_extension": ".py",
   "mimetype": "text/x-python",
   "name": "python",
   "nbconvert_exporter": "python",
   "pygments_lexer": "ipython3",
   "version": "3.7.6"
  }
 },
 "nbformat": 4,
 "nbformat_minor": 4
}
