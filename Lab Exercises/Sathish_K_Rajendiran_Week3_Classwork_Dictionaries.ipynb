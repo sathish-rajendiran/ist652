{
 "cells": [
  {
   "cell_type": "markdown",
   "metadata": {},
   "source": [
    "Using Dictionaries:\n",
    "    In your group, write the code needed to create a dictionary that includes at least 10 items \n",
    "which has a key of a word and a value of the count of times that word appears in a document.Once you have created the dictionary, sort it by the key and then display the results - both the key and the value.\n",
    "\n",
    "Also discuss the differences/ advantages of using dictionaries over lists.\n",
    "Be prepared to share your code and results when you come back from the breakout\n",
    "\n",
    "Name: Sathish Kumar Rajendiran\n",
    "Task: Class work: Using Dictionaries\n",
    "Date: 7/15/2020"
   ]
  },
  {
   "cell_type": "code",
   "execution_count": 2,
   "metadata": {},
   "outputs": [],
   "source": [
    "import os\n",
    "os.getcwd()\n",
    "import time\n"
   ]
  },
  {
   "cell_type": "code",
   "execution_count": 3,
   "metadata": {},
   "outputs": [],
   "source": [
    "#Create a dummy dictionary\n",
    "mydict = {}"
   ]
  },
  {
   "cell_type": "code",
   "execution_count": 16,
   "metadata": {},
   "outputs": [
    {
     "name": "stdout",
     "output_type": "stream",
     "text": [
      "my dictionary:\n",
      " {'freedom': '13', 'let': '13', 'one': '12', 'ring': '12', 'day': '11', 'dream': '11', 'come': '10', 'every': '10', 'nation': '10', 'back': '9', 'today': '9', 'able': '8', 'justice': '8'}\n"
     ]
    }
   ],
   "source": [
    "# Add items to dictionary - mydict [ pulled from mlk speech - top 12]\n",
    "\n",
    "mydict['freedom'] ='13'\n",
    "mydict['let'] ='13'\n",
    "mydict['one'] ='12'\n",
    "mydict['ring'] ='12'\n",
    "mydict['day'] ='11'\n",
    "mydict['dream'] ='11'\n",
    "mydict['come'] ='10'\n",
    "mydict['every'] ='10'\n",
    "mydict['nation'] ='10'\n",
    "mydict['back'] ='9'\n",
    "mydict['today'] ='9'\n",
    "mydict['able'] ='8'\n",
    "mydict['justice'] ='8'\n",
    "\n",
    "print('my dictionary:\\n',mydict)"
   ]
  },
  {
   "cell_type": "code",
   "execution_count": 17,
   "metadata": {},
   "outputs": [],
   "source": [
    "mydict['justice'] ='12'"
   ]
  },
  {
   "cell_type": "code",
   "execution_count": 20,
   "metadata": {},
   "outputs": [
    {
     "name": "stdout",
     "output_type": "stream",
     "text": [
      "able has repeated 8 times\n",
      "back has repeated 9 times\n",
      "come has repeated 10 times\n",
      "day has repeated 11 times\n",
      "dream has repeated 11 times\n",
      "every has repeated 10 times\n",
      "freedom has repeated 13 times\n",
      "justice has repeated 12 times\n",
      "let has repeated 13 times\n",
      "nation has repeated 10 times\n",
      "one has repeated 12 times\n",
      "ring has repeated 12 times\n",
      "today has repeated 9 times\n"
     ]
    }
   ],
   "source": [
    "# Working with dictioaries\n",
    "\n",
    "sorted_dict = sorted(mydict.items(), key=lambda kv: kv[0])\n",
    "\n",
    "# sorted_dict\n",
    "for key, value in sorted_dict:\n",
    "    print (key,'has repeated', value,'times')\n"
   ]
  },
  {
   "cell_type": "markdown",
   "metadata": {},
   "source": [
    "List vs Dictionaries:\n",
    "\n",
    "Lists:\n",
    "1. List is a collection of index values pairs as that of array in c++.\n",
    "2. List is created by placing elements in [] seperated by commas\n",
    "3. The indices of list are integers starting from 0\n",
    "4. The elements are accessed via indices.\n",
    "5. The order of the elements entered are maintained.\n",
    "6. Lists can be used for any type of object, from numbers and strings to more lists.\n",
    "\n",
    "Dictionary:\n",
    "1. Dictionary is a hashed structure of key and value pairs.\n",
    "2. Dictionary is created by placing elements in { } as “key”:”value”, each key value pair is seperated by commas\n",
    "3. The keys of dictionary can be of any data type\n",
    "4. The elements are accessed via key-values.\n",
    "5. There is no guarantee for maintaining order.\n",
    "\n",
    "Advantages:\n",
    "1. It is more efficient to use a dictionary for lookup of elements because it takes less time to traverse in the dictionary than a list.\n",
    "\n"
   ]
  },
  {
   "cell_type": "code",
   "execution_count": 21,
   "metadata": {},
   "outputs": [
    {
     "name": "stdout",
     "output_type": "stream",
     "text": [
      "\n",
      "Accessing dictionary elements:\n",
      "13 13 12 12 11 11 10 10 10 9 9 8 12 \n",
      " mydictionary:\n",
      " {'freedom': '13', 'let': '13', 'one': '12', 'ring': '12', 'day': '11', 'dream': '11', 'come': '10', 'every': '10', 'nation': '10', 'back': '9', 'today': '9', 'able': '8', 'justice': '12'}\n",
      "\n",
      " list:\n",
      " ['13', '13', '12', '12', '11', '11', '10', '10', '10', '9', '9', '8', '12']\n",
      "\n",
      " Time taken by dictionary: 5.2928924560546875e-05\n",
      "\n",
      " Time taken by list: 4.673004150390625e-05\n"
     ]
    }
   ],
   "source": [
    "mydict\n",
    "li=[]\n",
    "# Accessing elements \n",
    "print(\"\\nAccessing dictionary elements:\") \n",
    "\n",
    "for key in mydict: \n",
    "    li.append(mydict[key])\n",
    "    print(mydict[key], end=\" \") \n",
    "    \n",
    "\n",
    "print('\\n mydictionary:\\n',mydict)\n",
    "print('\\n list:\\n',li)\n",
    "\n",
    "x = time.time()\n",
    "d1 = mydict['freedom']\n",
    "y = time.time()\n",
    "print('\\n Time taken by dictionary:', y-x) \n",
    "\n",
    "      \n",
    "x = time.time()\n",
    "l1= li[1]   \n",
    "y = time.time()\n",
    "print('\\n Time taken by list:', y-x) "
   ]
  }
 ],
 "metadata": {
  "kernelspec": {
   "display_name": "Python 3",
   "language": "python",
   "name": "python3"
  },
  "language_info": {
   "codemirror_mode": {
    "name": "ipython",
    "version": 3
   },
   "file_extension": ".py",
   "mimetype": "text/x-python",
   "name": "python",
   "nbconvert_exporter": "python",
   "pygments_lexer": "ipython3",
   "version": "3.7.6"
  }
 },
 "nbformat": 4,
 "nbformat_minor": 4
}
