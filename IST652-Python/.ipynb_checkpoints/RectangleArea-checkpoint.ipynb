{
 "cells": [
  {
   "cell_type": "code",
   "execution_count": 4,
   "metadata": {},
   "outputs": [
    {
     "name": "stdout",
     "output_type": "stream",
     "text": [
      "Enter length of Rectangle10\n",
      "Enter width of Rectangle20\n",
      "The AREA of the Rectangle is: 200.0\n"
     ]
    }
   ],
   "source": [
    "# Name of file  : RectangleArea.py\n",
    "# Date Created: July 7, 2020\n",
    "# Created by: Sathish Rajendiran\n",
    "# Purpose of Program: To generate the area of rectangle\n",
    "\n",
    "#\n",
    "#\n",
    "\n",
    "length = input('Enter length of Rectangle')\n",
    "width = input('Enter width of Rectangle')\n",
    "\n",
    "#\n",
    "\n",
    "# Calculate area\n",
    "area = float(length) * float(width)\n",
    "print('The AREA of the Rectangle is:' , area)"
   ]
  },
  {
   "cell_type": "code",
   "execution_count": null,
   "metadata": {},
   "outputs": [],
   "source": []
  }
 ],
 "metadata": {
  "kernelspec": {
   "display_name": "Python 3",
   "language": "python",
   "name": "python3"
  },
  "language_info": {
   "codemirror_mode": {
    "name": "ipython",
    "version": 3
   },
   "file_extension": ".py",
   "mimetype": "text/x-python",
   "name": "python",
   "nbconvert_exporter": "python",
   "pygments_lexer": "ipython3",
   "version": "3.7.6"
  }
 },
 "nbformat": 4,
 "nbformat_minor": 4
}
