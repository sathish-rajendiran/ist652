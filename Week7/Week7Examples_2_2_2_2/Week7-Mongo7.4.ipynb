{
 "cells": [
  {
   "cell_type": "code",
   "execution_count": 1,
   "metadata": {},
   "outputs": [
    {
     "name": "stdout",
     "output_type": "stream",
     "text": [
      "{'_id': ObjectId('5e4f23558f5b162824cc1618'), 'name': 'Briana Day', 'position': 'Center', 'age': 19}\n",
      "{'_id': ObjectId('5e4f23558f5b162824cc161a'), 'name': 'Gabby Cooper', 'position': 'Guard', 'age': 18}\n",
      "{'_id': ObjectId('5ebae947d775c2e6cf805163'), 'name': 'Briana Day', 'age': 19, 'position': 'Center'}\n",
      "{'_id': ObjectId('5ebae947d775c2e6cf805165'), 'name': 'Gabby Cooper', 'age': 18, 'position': 'Guard'}\n",
      "{'_id': ObjectId('5ebc6a7655afc014e83352c8'), 'name': 'Briana Day', 'age': 19, 'position': 'Center'}\n",
      "{'_id': ObjectId('5ebc6a7655afc014e83352ca'), 'name': 'Gabby Cooper', 'age': 18, 'position': 'Guard'}\n",
      "{'_id': ObjectId('5f346732830fb30374f4d0e4'), 'name': 'Briana Day', 'age': 19, 'position': 'Center'}\n",
      "{'_id': ObjectId('5f346732830fb30374f4d0e6'), 'name': 'Gabby Cooper', 'age': 18, 'position': 'Guard'}\n"
     ]
    }
   ],
   "source": [
    "import pymongo \n",
    "from pymongo import MongoClient \n",
    "client = MongoClient('localhost', 27017) \n",
    "db = client[\"newdatabase\"]\n",
    "people_list = [\n",
    "    { \"name\": \"Britney Sykes\", \"age\": 21 , 'position':'Guard'}, \n",
    "    { \"name\": \"Briana Day\", \"age\": 19, 'position':'Center'}, \n",
    "    { \"name\": \"Alexis Peterson\", \"age\": 21, 'position':'Guard' }, \n",
    "    { \"name\": \"Gabby Cooper\", \"age\": 18, 'position':'Guard'}\n",
    "]\n",
    "peoplecoll = db.people\n",
    "peoplecoll.insert_many(people_list)\n",
    "docs = peoplecoll.find()\n",
    "for doc in docs:\n",
    "    if(doc['age'] < 20):\n",
    "        print(doc)\n",
    "\n",
    "\n"
   ]
  },
  {
   "cell_type": "code",
   "execution_count": null,
   "metadata": {},
   "outputs": [],
   "source": []
  }
 ],
 "metadata": {
  "kernelspec": {
   "display_name": "Python 3",
   "language": "python",
   "name": "python3"
  },
  "language_info": {
   "codemirror_mode": {
    "name": "ipython",
    "version": 3
   },
   "file_extension": ".py",
   "mimetype": "text/x-python",
   "name": "python",
   "nbconvert_exporter": "python",
   "pygments_lexer": "ipython3",
   "version": "3.6.10"
  }
 },
 "nbformat": 4,
 "nbformat_minor": 2
}
