{
 "cells": [
  {
   "cell_type": "code",
   "execution_count": 1,
   "metadata": {},
   "outputs": [
    {
     "data": {
      "text/plain": [
       "dict"
      ]
     },
     "execution_count": 1,
     "metadata": {},
     "output_type": "execute_result"
    }
   ],
   "source": [
    "import urllib.request \n",
    "import json\n",
    "earthquake_url = \"http://earthquake.usgs.gov/earthquakes/feed/v1.0/summary/significant_month.geojson\" \n",
    "response = urllib.request.urlopen(earthquake_url)\n",
    "json_string = response.read().decode('utf-8')\n",
    "eq_parsed_json = json.loads(json_string) \n",
    "type(eq_parsed_json) "
   ]
  },
  {
   "cell_type": "code",
   "execution_count": 2,
   "metadata": {},
   "outputs": [
    {
     "data": {
      "text/plain": [
       "'USGS Significant Earthquakes, Past Month'"
      ]
     },
     "execution_count": 2,
     "metadata": {},
     "output_type": "execute_result"
    }
   ],
   "source": [
    "eq_parsed_json.keys() \n",
    "eq_parsed_json['metadata'] \n",
    "title = eq_parsed_json['metadata']['title']\n",
    "title\n"
   ]
  },
  {
   "cell_type": "code",
   "execution_count": 3,
   "metadata": {},
   "outputs": [
    {
     "data": {
      "text/plain": [
       "12"
      ]
     },
     "execution_count": 3,
     "metadata": {},
     "output_type": "execute_result"
    }
   ],
   "source": [
    "quakelist = eq_parsed_json['features']\n",
    "len(quakelist)"
   ]
  },
  {
   "cell_type": "code",
   "execution_count": 4,
   "metadata": {},
   "outputs": [
    {
     "name": "stdout",
     "output_type": "stream",
     "text": [
      "{\n",
      "  \"type\": \"Feature\",\n",
      "  \"properties\": {\n",
      "    \"mag\": 5.1,\n",
      "    \"place\": \"4 km SE of Sparta, North Carolina\",\n",
      "    \"time\": 1596974857680,\n",
      "    \"updated\": 1597168728470,\n",
      "    \"tz\": null,\n",
      "    \"url\": \"https://earthquake.usgs.gov/earthquakes/eventpage/se60324281\",\n",
      "    \"detail\": \"https://earthquake.usgs.gov/earthquakes/feed/v1.0/detail/se60324281.geojson\",\n",
      "    \"felt\": 101664,\n",
      "    \"cdi\": 6.3,\n",
      "    \"mmi\": 7.48,\n",
      "    \"alert\": \"yellow\",\n",
      "    \"status\": \"reviewed\",\n",
      "    \"tsunami\": 0,\n",
      "    \"sig\": 1280,\n",
      "    \"net\": \"se\",\n",
      "    \"code\": \"60324281\",\n",
      "    \"ids\": \",us6000bbei,se60324281,\",\n",
      "    \"sources\": \",us,se,\",\n",
      "    \"types\": \",dyfi,general-text,ground-failure,losspager,moment-tensor,oaf,origin,phase-data,shakemap,\",\n",
      "    \"nst\": 34,\n",
      "    \"dmin\": 0.452,\n",
      "    \"rms\": 0.33,\n",
      "    \"gap\": 50,\n",
      "    \"magType\": \"mw\",\n",
      "    \"type\": \"earthquake\",\n",
      "    \"title\": \"M 5.1 - 4 km SE of Sparta, North Carolina\"\n",
      "  },\n",
      "  \"geometry\": {\n",
      "    \"type\": \"Point\",\n",
      "    \"coordinates\": [\n",
      "      -81.0935,\n",
      "      36.4755,\n",
      "      7.58\n",
      "    ]\n",
      "  },\n",
      "  \"id\": \"se60324281\"\n",
      "}\n"
     ]
    }
   ],
   "source": [
    "quake1 = quakelist[0]\n",
    "quake1.keys()\n",
    "print(json.dumps(quake1, indent = 2))\n"
   ]
  },
  {
   "cell_type": "code",
   "execution_count": 5,
   "metadata": {},
   "outputs": [
    {
     "data": {
      "text/plain": [
       "dict"
      ]
     },
     "execution_count": 5,
     "metadata": {},
     "output_type": "execute_result"
    }
   ],
   "source": [
    "type(eq_parsed_json)"
   ]
  },
  {
   "cell_type": "code",
   "execution_count": 6,
   "metadata": {},
   "outputs": [
    {
     "data": {
      "text/plain": [
       "dict_keys(['type', 'metadata', 'features', 'bbox'])"
      ]
     },
     "execution_count": 6,
     "metadata": {},
     "output_type": "execute_result"
    }
   ],
   "source": [
    "eq_parsed_json.keys()"
   ]
  },
  {
   "cell_type": "code",
   "execution_count": 7,
   "metadata": {},
   "outputs": [
    {
     "data": {
      "text/plain": [
       "12"
      ]
     },
     "execution_count": 7,
     "metadata": {},
     "output_type": "execute_result"
    }
   ],
   "source": [
    "len(quakelist)"
   ]
  },
  {
   "cell_type": "code",
   "execution_count": 8,
   "metadata": {},
   "outputs": [
    {
     "data": {
      "text/plain": [
       "dict_keys(['type', 'properties', 'geometry', 'id'])"
      ]
     },
     "execution_count": 8,
     "metadata": {},
     "output_type": "execute_result"
    }
   ],
   "source": [
    "quake1.keys()"
   ]
  },
  {
   "cell_type": "code",
   "execution_count": 9,
   "metadata": {},
   "outputs": [
    {
     "name": "stdout",
     "output_type": "stream",
     "text": [
      "{\n",
      "  \"type\": \"Feature\",\n",
      "  \"properties\": {\n",
      "    \"mag\": 5.1,\n",
      "    \"place\": \"4 km SE of Sparta, North Carolina\",\n",
      "    \"time\": 1596974857680,\n",
      "    \"updated\": 1597168728470,\n",
      "    \"tz\": null,\n",
      "    \"url\": \"https://earthquake.usgs.gov/earthquakes/eventpage/se60324281\",\n",
      "    \"detail\": \"https://earthquake.usgs.gov/earthquakes/feed/v1.0/detail/se60324281.geojson\",\n",
      "    \"felt\": 101664,\n",
      "    \"cdi\": 6.3,\n",
      "    \"mmi\": 7.48,\n",
      "    \"alert\": \"yellow\",\n",
      "    \"status\": \"reviewed\",\n",
      "    \"tsunami\": 0,\n",
      "    \"sig\": 1280,\n",
      "    \"net\": \"se\",\n",
      "    \"code\": \"60324281\",\n",
      "    \"ids\": \",us6000bbei,se60324281,\",\n",
      "    \"sources\": \",us,se,\",\n",
      "    \"types\": \",dyfi,general-text,ground-failure,losspager,moment-tensor,oaf,origin,phase-data,shakemap,\",\n",
      "    \"nst\": 34,\n",
      "    \"dmin\": 0.452,\n",
      "    \"rms\": 0.33,\n",
      "    \"gap\": 50,\n",
      "    \"magType\": \"mw\",\n",
      "    \"type\": \"earthquake\",\n",
      "    \"title\": \"M 5.1 - 4 km SE of Sparta, North Carolina\"\n",
      "  },\n",
      "  \"geometry\": {\n",
      "    \"type\": \"Point\",\n",
      "    \"coordinates\": [\n",
      "      -81.0935,\n",
      "      36.4755,\n",
      "      7.58\n",
      "    ]\n",
      "  },\n",
      "  \"id\": \"se60324281\"\n",
      "}\n"
     ]
    }
   ],
   "source": [
    "print(json.dumps(quake1, indent = 2))"
   ]
  },
  {
   "cell_type": "code",
   "execution_count": null,
   "metadata": {},
   "outputs": [],
   "source": []
  }
 ],
 "metadata": {
  "kernelspec": {
   "display_name": "Python 3",
   "language": "python",
   "name": "python3"
  },
  "language_info": {
   "codemirror_mode": {
    "name": "ipython",
    "version": 3
   },
   "file_extension": ".py",
   "mimetype": "text/x-python",
   "name": "python",
   "nbconvert_exporter": "python",
   "pygments_lexer": "ipython3",
   "version": "3.6.10"
  }
 },
 "nbformat": 4,
 "nbformat_minor": 2
}
