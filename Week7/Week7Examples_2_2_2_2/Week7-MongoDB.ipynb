{
 "cells": [
  {
   "cell_type": "code",
   "execution_count": null,
   "metadata": {},
   "outputs": [],
   "source": []
  },
  {
   "cell_type": "code",
   "execution_count": 1,
   "metadata": {},
   "outputs": [
    {
     "data": {
      "text/plain": [
       "['admin',\n",
       " 'bball',\n",
       " 'class20',\n",
       " 'covid',\n",
       " 'covidnew',\n",
       " 'disney',\n",
       " 'fbusers',\n",
       " 'gasprice',\n",
       " 'hw2',\n",
       " 'lax',\n",
       " 'local',\n",
       " 'mydatabase',\n",
       " 'newdatabase',\n",
       " 'peopledb',\n",
       " 'peopledvl',\n",
       " 'twit_users',\n",
       " 'usgs',\n",
       " 'usgsnew']"
      ]
     },
     "execution_count": 1,
     "metadata": {},
     "output_type": "execute_result"
    }
   ],
   "source": [
    "# make sure you have mongod running in a separate window (start it from an anaconda prompt)\n",
    "# default directory is c:\\data\\db  (may want to create it if it does not exist)\n",
    "\n",
    "\n",
    "# import pymongo\n",
    "import pymongo\n",
    "\n",
    "# Connecting to the database\n",
    "from pymongo import MongoClient\n",
    "client = MongoClient('localhost', 27017)\n",
    "\n",
    "# show existing databases\n",
    "client.list_database_names()\n"
   ]
  },
  {
   "cell_type": "code",
   "execution_count": 2,
   "metadata": {},
   "outputs": [
    {
     "data": {
      "text/plain": [
       "['people']"
      ]
     },
     "execution_count": 2,
     "metadata": {},
     "output_type": "execute_result"
    }
   ],
   "source": [
    "\n",
    "# Create a new database or use an existing database and show its collections\n",
    "db = client.peopledb\n",
    "db.list_collection_names()\n"
   ]
  },
  {
   "cell_type": "code",
   "execution_count": 3,
   "metadata": {},
   "outputs": [
    {
     "name": "stdout",
     "output_type": "stream",
     "text": [
      "<class 'pymongo.collection.Collection'>\n"
     ]
    }
   ],
   "source": [
    "# Create a new collection or use an existing collection\n",
    "peoplecoll = db.people\n",
    "print(type(peoplecoll))\n",
    "db.people.drop()   #delete the selected collection\n"
   ]
  },
  {
   "cell_type": "code",
   "execution_count": 4,
   "metadata": {},
   "outputs": [
    {
     "data": {
      "text/plain": [
       "[]"
      ]
     },
     "execution_count": 4,
     "metadata": {},
     "output_type": "execute_result"
    }
   ],
   "source": [
    "db.list_collection_names()"
   ]
  },
  {
   "cell_type": "code",
   "execution_count": 5,
   "metadata": {},
   "outputs": [],
   "source": [
    "# list of dictionaries to be used as documents in the collection\n",
    "peoplelist = [{ \"name\": \"John Smith\", \"age\": 30 }, { \"name\": \"Bo Bennett\", \"age\": 23 }, { \"name\": \"Anna Jones\", \"age\": 25 }]\n"
   ]
  },
  {
   "cell_type": "code",
   "execution_count": 6,
   "metadata": {},
   "outputs": [
    {
     "data": {
      "text/plain": [
       "<pymongo.results.InsertOneResult at 0x2d33ef97d48>"
      ]
     },
     "execution_count": 6,
     "metadata": {},
     "output_type": "execute_result"
    }
   ],
   "source": [
    "# insert one document\n",
    "peoplecoll.insert_one({ \"name\": \"John Smith\", \"age\": 30 })\n"
   ]
  },
  {
   "cell_type": "code",
   "execution_count": 7,
   "metadata": {},
   "outputs": [
    {
     "data": {
      "text/plain": [
       "<pymongo.results.InsertManyResult at 0x2d33ef93cc8>"
      ]
     },
     "execution_count": 7,
     "metadata": {},
     "output_type": "execute_result"
    }
   ],
   "source": [
    "# insert several documents\n",
    "peoplecoll.insert_many(peoplelist[1: ])\n",
    "\n"
   ]
  },
  {
   "cell_type": "code",
   "execution_count": 8,
   "metadata": {},
   "outputs": [
    {
     "data": {
      "text/plain": [
       "pymongo.cursor.Cursor"
      ]
     },
     "execution_count": 8,
     "metadata": {},
     "output_type": "execute_result"
    }
   ],
   "source": [
    "docs = peoplecoll.find()\n",
    "type(docs)\n"
   ]
  },
  {
   "cell_type": "code",
   "execution_count": 9,
   "metadata": {},
   "outputs": [
    {
     "name": "stdout",
     "output_type": "stream",
     "text": [
      "{'_id': ObjectId('5f346529b574c9d761914173'), 'name': 'John Smith', 'age': 30}\n",
      "{'_id': ObjectId('5f34652db574c9d761914174'), 'name': 'Bo Bennett', 'age': 23}\n",
      "{'_id': ObjectId('5f34652db574c9d761914175'), 'name': 'Anna Jones', 'age': 25}\n"
     ]
    }
   ],
   "source": [
    "for doc in docs:\n",
    "    print(doc)\n"
   ]
  },
  {
   "cell_type": "code",
   "execution_count": 10,
   "metadata": {},
   "outputs": [
    {
     "data": {
      "text/plain": [
       "<pymongo.results.InsertManyResult at 0x2d33ed2fa88>"
      ]
     },
     "execution_count": 10,
     "metadata": {},
     "output_type": "execute_result"
    }
   ],
   "source": [
    "morepeoplelist = [{ \"name\": \"Britney Sykes\", \"age\": 21 , 'position':'Guard'}, { \"name\": \"Briana Day\", \"age\": 21, 'position':'Center'}, { \"name\": \"Alexis Peterson\", \"age\": 21,\n",
    "'position':'Guard' }, { \"name\": \"Gabby Cooper\", \"age\": 18,\n",
    "'position':'Guard'}]\n",
    "peoplecoll.insert_many(morepeoplelist)\n"
   ]
  },
  {
   "cell_type": "code",
   "execution_count": 11,
   "metadata": {},
   "outputs": [
    {
     "name": "stdout",
     "output_type": "stream",
     "text": [
      "{'_id': ObjectId('5f346529b574c9d761914173'), 'name': 'John Smith', 'age': 30}\n",
      "{'_id': ObjectId('5f34652db574c9d761914174'), 'name': 'Bo Bennett', 'age': 23}\n",
      "{'_id': ObjectId('5f34652db574c9d761914175'), 'name': 'Anna Jones', 'age': 25}\n",
      "{'_id': ObjectId('5f34653ab574c9d761914176'), 'name': 'Britney Sykes', 'age': 21, 'position': 'Guard'}\n",
      "{'_id': ObjectId('5f34653ab574c9d761914177'), 'name': 'Briana Day', 'age': 21, 'position': 'Center'}\n",
      "{'_id': ObjectId('5f34653ab574c9d761914178'), 'name': 'Alexis Peterson', 'age': 21, 'position': 'Guard'}\n",
      "{'_id': ObjectId('5f34653ab574c9d761914179'), 'name': 'Gabby Cooper', 'age': 18, 'position': 'Guard'}\n"
     ]
    }
   ],
   "source": [
    "# Let’s fetch all the documents again:\n",
    "docs = peoplecoll.find()\n",
    "for doc in docs:\n",
    "    print(doc)\n"
   ]
  },
  {
   "cell_type": "code",
   "execution_count": 12,
   "metadata": {},
   "outputs": [
    {
     "data": {
      "text/plain": [
       "Collection(Database(MongoClient(host=['localhost:27017'], document_class=dict, tz_aware=False, connect=True), 'peopledb'), 'people.describe')"
      ]
     },
     "execution_count": 12,
     "metadata": {},
     "output_type": "execute_result"
    }
   ],
   "source": [
    "peoplecoll.describe\n"
   ]
  },
  {
   "cell_type": "code",
   "execution_count": null,
   "metadata": {},
   "outputs": [],
   "source": []
  }
 ],
 "metadata": {
  "kernelspec": {
   "display_name": "Python 3",
   "language": "python",
   "name": "python3"
  },
  "language_info": {
   "codemirror_mode": {
    "name": "ipython",
    "version": 3
   },
   "file_extension": ".py",
   "mimetype": "text/x-python",
   "name": "python",
   "nbconvert_exporter": "python",
   "pygments_lexer": "ipython3",
   "version": "3.6.10"
  }
 },
 "nbformat": 4,
 "nbformat_minor": 2
}
