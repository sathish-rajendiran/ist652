{
 "cells": [
  {
   "cell_type": "markdown",
   "metadata": {},
   "source": [
    "\n",
    "\n",
    "    Name: Sathish Kumar Rajendiran\n",
    "    Task: Homework 2: Semistructured Data\n",
    "    Date: 8/5/2020\n",
    " \n",
    "     Semistructured Data Processing\n",
    "         The main outline of your assignment is to write a program that will read in JSON formatted data from a Mongo DB collection or from a file. This will be in a format that is structured with lines of data representing one type of unit, for example, one tweet for Twitter or one post from Facebook. Your program will contain the data as lists of JSON structures, which are just Python dictionaries and lists. Your program may also contain pandas dataframes for processed data.\n",
    "         The program will do some processing to collect data from some of the fields that will answer one or more questions as described below, and write a file with the data suitable for answering each question. Remember that some fields may be optional or have null values, so you may need to test for those conditions. Graphing is definitely optional.\n",
    "         \n",
    "Tweets\n",
    "Retweets\n",
    "Likes\n",
    "Direct messages\n",
    "Favorites\n",
    "Trends\n",
    "Media"
   ]
  },
  {
   "cell_type": "code",
   "execution_count": 1,
   "metadata": {},
   "outputs": [
    {
     "name": "stdout",
     "output_type": "stream",
     "text": [
      "Collecting tweepy\n",
      "  Downloading tweepy-3.9.0-py2.py3-none-any.whl (30 kB)\n",
      "Requirement already satisfied: six>=1.10.0 in /opt/anaconda3/lib/python3.7/site-packages (from tweepy) (1.14.0)\n",
      "Collecting requests-oauthlib>=0.7.0\n",
      "  Using cached requests_oauthlib-1.3.0-py2.py3-none-any.whl (23 kB)\n",
      "Requirement already satisfied: requests[socks]>=2.11.1 in /opt/anaconda3/lib/python3.7/site-packages (from tweepy) (2.22.0)\n",
      "Collecting oauthlib>=3.0.0\n",
      "  Using cached oauthlib-3.1.0-py2.py3-none-any.whl (147 kB)\n",
      "Requirement already satisfied: chardet<3.1.0,>=3.0.2 in /opt/anaconda3/lib/python3.7/site-packages (from requests[socks]>=2.11.1->tweepy) (3.0.4)\n",
      "Requirement already satisfied: urllib3!=1.25.0,!=1.25.1,<1.26,>=1.21.1 in /opt/anaconda3/lib/python3.7/site-packages (from requests[socks]>=2.11.1->tweepy) (1.25.8)\n",
      "Requirement already satisfied: certifi>=2017.4.17 in /opt/anaconda3/lib/python3.7/site-packages (from requests[socks]>=2.11.1->tweepy) (2019.11.28)\n",
      "Requirement already satisfied: idna<2.9,>=2.5 in /opt/anaconda3/lib/python3.7/site-packages (from requests[socks]>=2.11.1->tweepy) (2.8)\n",
      "Requirement already satisfied: PySocks!=1.5.7,>=1.5.6; extra == \"socks\" in /opt/anaconda3/lib/python3.7/site-packages (from requests[socks]>=2.11.1->tweepy) (1.7.1)\n",
      "Installing collected packages: oauthlib, requests-oauthlib, tweepy\n",
      "Successfully installed oauthlib-3.1.0 requests-oauthlib-1.3.0 tweepy-3.9.0\n",
      "Note: you may need to restart the kernel to use updated packages.\n"
     ]
    }
   ],
   "source": [
    "pip install tweepy"
   ]
  },
  {
   "cell_type": "code",
   "execution_count": 1,
   "metadata": {},
   "outputs": [
    {
     "data": {
      "text/plain": [
       "'/Users/sathishrajendiran/ist652-python/HW2'"
      ]
     },
     "execution_count": 1,
     "metadata": {},
     "output_type": "execute_result"
    }
   ],
   "source": [
    "#import libraries\n",
    "import csv\n",
    "import os\n",
    "import numpy as np\n",
    "import pandas as pd\n",
    "import tweepy\n",
    "import datetime\n",
    "import time\n",
    "import matplotlib.pyplot as plt\n",
    "os.getcwd()"
   ]
  },
  {
   "cell_type": "code",
   "execution_count": 2,
   "metadata": {},
   "outputs": [
    {
     "name": "stdout",
     "output_type": "stream",
     "text": [
      "Authentication OK\n"
     ]
    }
   ],
   "source": [
    "# Authenticate to Twitter\n",
    "\n",
    "consumer_key = 'T6ceyIXDQohAHFgCWSwfCLdBA'\n",
    "consumer_secret = 'WnCBjSHKN27MOvYmxdkx9Jq3rd3kqsEldf6SU8ry9BesWhnsrj'\n",
    "access_token = '1284566932000301064-MUuGpanG26sCZANUVQ87EWIgNzzbwT'\n",
    "access_token_secret = 'PIDqT6QvjPj24xfRj52kcZOndQ5AuKAxY1r4NnhGSfpSZ'\n",
    "\n",
    "\n",
    "auth = tweepy.OAuthHandler(consumer_key, consumer_secret)\n",
    "auth.set_access_token(access_token, access_token_secret)\n",
    "\n",
    "# Create API object\n",
    "api = tweepy.API(auth, wait_on_rate_limit=True, wait_on_rate_limit_notify=True)\n",
    "\n",
    "# test authentication\n",
    "try:\n",
    "    api.verify_credentials()\n",
    "    print(\"Authentication OK\")\n",
    "except:\n",
    "    print(\"Error during authentication\")\n",
    "    \n"
   ]
  },
  {
   "cell_type": "code",
   "execution_count": 3,
   "metadata": {},
   "outputs": [],
   "source": [
    "public_tweets = api.home_timeline()\n",
    "for tweet in public_tweets:\n",
    "    print(tweet.text)"
   ]
  },
  {
   "cell_type": "code",
   "execution_count": 4,
   "metadata": {},
   "outputs": [
    {
     "name": "stdout",
     "output_type": "stream",
     "text": [
      "User details:\n",
      "Donald J. Trump\n",
      "realDonaldTrump\n",
      "45th President of the United States of America🇺🇸\n",
      "Washington, DC\n",
      "\n",
      "Followers Count: 85651807 \n",
      "\n",
      "sinnoti@040\n",
      "Priyanshi Sharma\n",
      "Carol Blissitt\n",
      "Sumit Pakhare\n",
      "MaDaFaKa\n",
      "Nicole Collier\n",
      "𓅿𓅹\n",
      "Yuti Bang\n",
      "ash\n",
      "YAMATO2Q2Q\n",
      "Jade\n",
      "Liu Hongjie\n",
      "layton webb\n",
      "sadasivan m k\n",
      "El Salvador\n",
      "Gokul\n",
      "Carol Hesse\n",
      "Sajjad Abedi\n",
      "Cesar\n",
      "Sohel Ahmed\n"
     ]
    }
   ],
   "source": [
    "#serach for someone's screen name\n",
    "user = api.get_user('@realdonaldtrump')\n",
    "\n",
    "print(\"User details:\")\n",
    "\n",
    "print(user.name)\n",
    "print(user.screen_name)\n",
    "print(user.description)\n",
    "print(user.location)\n",
    "\n",
    "print(\"\\nFollowers Count:\", user.followers_count,'\\n')\n",
    "\n",
    "for follower in user.followers():\n",
    "    print(follower.name)\n",
    "\n"
   ]
  },
  {
   "cell_type": "code",
   "execution_count": 9,
   "metadata": {},
   "outputs": [],
   "source": [
    "# Define the search term and the date_since date as variables\n",
    "search_words = 'los angeles+accidents'\n",
    "date_since = \"2010-01-01\""
   ]
  },
  {
   "cell_type": "code",
   "execution_count": 10,
   "metadata": {},
   "outputs": [
    {
     "name": "stdout",
     "output_type": "stream",
     "text": [
      "The Barnes Firm Injury Attorneys:(datetime.datetime(2020, 8, 29, 22, 0, 6), 'When a large truck becomes involved in an accident, there may be several underlying factors that contributed to the… https://t.co/XkvOPGFaPP', 1299829204490563586)\n",
      "Compass Law Group:(datetime.datetime(2020, 8, 26, 14, 1, 54), 'Los Angeles Garbage Truck Accident Attorney #WednesdayWisdom https://t.co/6GabXTuFwr https://t.co/qrX2QSydxB', 1298621696447074309)\n"
     ]
    }
   ],
   "source": [
    "for tweet in api.search(q=search_words, lang=\"en\", since=date_since,rpp=5):\n",
    "    print(f\"{tweet.user.name}:{tweet.created_at,tweet.text,tweet.id}\")"
   ]
  },
  {
   "cell_type": "code",
   "execution_count": null,
   "metadata": {},
   "outputs": [],
   "source": []
  },
  {
   "cell_type": "code",
   "execution_count": 7,
   "metadata": {},
   "outputs": [
    {
     "name": "stdout",
     "output_type": "stream",
     "text": [
      "[['PhoenixTruckers', 'Phoenix, AZ'], ['quickfoundnet', 'Barstow, California'], ['SEOMediaServic1', 'Dhaka, Bangladesh'], ['LegalServLink', 'United States'], ['SmmAgent', 'Dhaka, Bangladesh'], ['nickdewar', 'Los Angeles, CA'], ['CoderYousuf', 'Bangladesh']]\n"
     ]
    },
    {
     "data": {
      "text/html": [
       "<div>\n",
       "<style scoped>\n",
       "    .dataframe tbody tr th:only-of-type {\n",
       "        vertical-align: middle;\n",
       "    }\n",
       "\n",
       "    .dataframe tbody tr th {\n",
       "        vertical-align: top;\n",
       "    }\n",
       "\n",
       "    .dataframe thead th {\n",
       "        text-align: right;\n",
       "    }\n",
       "</style>\n",
       "<table border=\"1\" class=\"dataframe\">\n",
       "  <thead>\n",
       "    <tr style=\"text-align: right;\">\n",
       "      <th></th>\n",
       "      <th>user</th>\n",
       "      <th>location</th>\n",
       "    </tr>\n",
       "  </thead>\n",
       "  <tbody>\n",
       "    <tr>\n",
       "      <th>0</th>\n",
       "      <td>PhoenixTruckers</td>\n",
       "      <td>Phoenix, AZ</td>\n",
       "    </tr>\n",
       "    <tr>\n",
       "      <th>1</th>\n",
       "      <td>quickfoundnet</td>\n",
       "      <td>Barstow, California</td>\n",
       "    </tr>\n",
       "    <tr>\n",
       "      <th>2</th>\n",
       "      <td>SEOMediaServic1</td>\n",
       "      <td>Dhaka, Bangladesh</td>\n",
       "    </tr>\n",
       "    <tr>\n",
       "      <th>3</th>\n",
       "      <td>LegalServLink</td>\n",
       "      <td>United States</td>\n",
       "    </tr>\n",
       "    <tr>\n",
       "      <th>4</th>\n",
       "      <td>SmmAgent</td>\n",
       "      <td>Dhaka, Bangladesh</td>\n",
       "    </tr>\n",
       "    <tr>\n",
       "      <th>5</th>\n",
       "      <td>nickdewar</td>\n",
       "      <td>Los Angeles, CA</td>\n",
       "    </tr>\n",
       "    <tr>\n",
       "      <th>6</th>\n",
       "      <td>CoderYousuf</td>\n",
       "      <td>Bangladesh</td>\n",
       "    </tr>\n",
       "  </tbody>\n",
       "</table>\n",
       "</div>"
      ],
      "text/plain": [
       "              user             location\n",
       "0  PhoenixTruckers          Phoenix, AZ\n",
       "1    quickfoundnet  Barstow, California\n",
       "2  SEOMediaServic1    Dhaka, Bangladesh\n",
       "3    LegalServLink        United States\n",
       "4         SmmAgent    Dhaka, Bangladesh\n",
       "5        nickdewar      Los Angeles, CA\n",
       "6      CoderYousuf           Bangladesh"
      ]
     },
     "execution_count": 7,
     "metadata": {},
     "output_type": "execute_result"
    }
   ],
   "source": [
    "# Collect tweets\n",
    "tweets = tweepy.Cursor(api.search,\n",
    "              q=search_words,\n",
    "              lang=\"en\",\n",
    "              since=date_since).items(50)\n",
    "\n",
    "\n",
    "\n",
    "users_locs = [[tweet.user.screen_name, tweet.user.location] for tweet in tweets]\n",
    "print(users_locs)\n",
    "\n",
    "tweet_text = pd.DataFrame(data=users_locs, \n",
    "                    columns=['user', \"location\"])\n",
    "tweet_text"
   ]
  },
  {
   "cell_type": "code",
   "execution_count": 8,
   "metadata": {},
   "outputs": [
    {
     "data": {
      "text/plain": [
       "[]"
      ]
     },
     "execution_count": 8,
     "metadata": {},
     "output_type": "execute_result"
    }
   ],
   "source": [
    "all_tweets = [tweet.text for tweet in tweets]\n",
    "all_tweets[:5]"
   ]
  }
 ],
 "metadata": {
  "kernelspec": {
   "display_name": "Python 3",
   "language": "python",
   "name": "python3"
  },
  "language_info": {
   "codemirror_mode": {
    "name": "ipython",
    "version": 3
   },
   "file_extension": ".py",
   "mimetype": "text/x-python",
   "name": "python",
   "nbconvert_exporter": "python",
   "pygments_lexer": "ipython3",
   "version": "3.7.6"
  }
 },
 "nbformat": 4,
 "nbformat_minor": 4
}
