{
 "cells": [
  {
   "cell_type": "markdown",
   "metadata": {},
   "source": [
    "3.5 Reading CSV files:\n",
    "\n",
    "    Name: Sathish Kumar Rajendiran\n",
    "    Task: Homework 1: Semistructured Data\n",
    "    Date: 8/5/2020\n",
    " \n",
    "     Semistructured Data Processing\n",
    "         The main outline of your assignment is to write a program that will read in JSON formatted data from a Mongo DB collection or from a file. This will be in a format that is structured with lines of data representing one type of unit, for example, one tweet for Twitter or one post from Facebook. Your program will contain the data as lists of JSON structures, which are just Python dictionaries and lists. Your program may also contain pandas dataframes for processed data.\n",
    "         The program will do some processing to collect data from some of the fields that will answer one or more questions as described below, and write a file with the data suitable for answering each question. Remember that some fields may be optional or have null values, so you may need to test for those conditions. Graphing is definitely optional."
   ]
  },
  {
   "cell_type": "code",
   "execution_count": 1,
   "metadata": {},
   "outputs": [
    {
     "name": "stdout",
     "output_type": "stream",
     "text": [
      "Collecting tweepy\n",
      "  Downloading tweepy-3.9.0-py2.py3-none-any.whl (30 kB)\n",
      "Requirement already satisfied: six>=1.10.0 in /opt/anaconda3/lib/python3.7/site-packages (from tweepy) (1.14.0)\n",
      "Collecting requests-oauthlib>=0.7.0\n",
      "  Using cached requests_oauthlib-1.3.0-py2.py3-none-any.whl (23 kB)\n",
      "Requirement already satisfied: requests[socks]>=2.11.1 in /opt/anaconda3/lib/python3.7/site-packages (from tweepy) (2.22.0)\n",
      "Collecting oauthlib>=3.0.0\n",
      "  Using cached oauthlib-3.1.0-py2.py3-none-any.whl (147 kB)\n",
      "Requirement already satisfied: chardet<3.1.0,>=3.0.2 in /opt/anaconda3/lib/python3.7/site-packages (from requests[socks]>=2.11.1->tweepy) (3.0.4)\n",
      "Requirement already satisfied: urllib3!=1.25.0,!=1.25.1,<1.26,>=1.21.1 in /opt/anaconda3/lib/python3.7/site-packages (from requests[socks]>=2.11.1->tweepy) (1.25.8)\n",
      "Requirement already satisfied: certifi>=2017.4.17 in /opt/anaconda3/lib/python3.7/site-packages (from requests[socks]>=2.11.1->tweepy) (2019.11.28)\n",
      "Requirement already satisfied: idna<2.9,>=2.5 in /opt/anaconda3/lib/python3.7/site-packages (from requests[socks]>=2.11.1->tweepy) (2.8)\n",
      "Requirement already satisfied: PySocks!=1.5.7,>=1.5.6; extra == \"socks\" in /opt/anaconda3/lib/python3.7/site-packages (from requests[socks]>=2.11.1->tweepy) (1.7.1)\n",
      "Installing collected packages: oauthlib, requests-oauthlib, tweepy\n",
      "Successfully installed oauthlib-3.1.0 requests-oauthlib-1.3.0 tweepy-3.9.0\n",
      "Note: you may need to restart the kernel to use updated packages.\n"
     ]
    }
   ],
   "source": [
    "pip install tweepy"
   ]
  },
  {
   "cell_type": "code",
   "execution_count": 3,
   "metadata": {},
   "outputs": [
    {
     "data": {
      "text/plain": [
       "'/Users/sathishrajendiran/ist652-python/hw1'"
      ]
     },
     "execution_count": 3,
     "metadata": {},
     "output_type": "execute_result"
    }
   ],
   "source": [
    "#import libraries\n",
    "import csv\n",
    "import os\n",
    "import numpy as np\n",
    "import pandas as pd\n",
    "import tweepy\n",
    "import datetime\n",
    "import time\n",
    "import matplotlib.pyplot as plt\n",
    "os.getcwd()"
   ]
  },
  {
   "cell_type": "code",
   "execution_count": 4,
   "metadata": {},
   "outputs": [],
   "source": [
    "consumer_key = 'T6ceyIXDQohAHFgCWSwfCLdBA'\n",
    "consumer_secret = 'WnCBjSHKN27MOvYmxdkx9Jq3rd3kqsEldf6SU8ry9BesWhnsrj'\n",
    "access_token = '1284566932000301064-MUuGpanG26sCZANUVQ87EWIgNzzbwT'\n",
    "access_token_secret = 'PIDqT6QvjPj24xfRj52kcZOndQ5AuKAxY1r4NnhGSfpSZ'\n",
    "\n",
    "auth = tweepy.OAuthHandler(consumer_key, consumer_secret)\n",
    "auth.set_access_token(access_token, access_token_secret)\n",
    "\n",
    "api = tweepy.API(auth)\n",
    "\n",
    "public_tweets = api.home_timeline()\n",
    "for tweet in public_tweets:\n",
    "    print(tweet.text)"
   ]
  },
  {
   "cell_type": "code",
   "execution_count": 89,
   "metadata": {},
   "outputs": [
    {
     "data": {
      "text/plain": [
       "3120"
      ]
     },
     "execution_count": 89,
     "metadata": {},
     "output_type": "execute_result"
    }
   ],
   "source": [
    "df_donors.shape #(3120, 23)\n",
    "# len(df_donors.Region) #3120\n",
    "len(df_donors)"
   ]
  },
  {
   "cell_type": "code",
   "execution_count": 90,
   "metadata": {},
   "outputs": [
    {
     "data": {
      "text/html": [
       "<div>\n",
       "<style scoped>\n",
       "    .dataframe tbody tr th:only-of-type {\n",
       "        vertical-align: middle;\n",
       "    }\n",
       "\n",
       "    .dataframe tbody tr th {\n",
       "        vertical-align: top;\n",
       "    }\n",
       "\n",
       "    .dataframe thead th {\n",
       "        text-align: right;\n",
       "    }\n",
       "</style>\n",
       "<table border=\"1\" class=\"dataframe\">\n",
       "  <thead>\n",
       "    <tr style=\"text-align: right;\">\n",
       "      <th></th>\n",
       "      <th>Region1</th>\n",
       "      <th>Region2</th>\n",
       "      <th>Region3</th>\n",
       "      <th>Region4</th>\n",
       "      <th>IsHomeOwner</th>\n",
       "      <th>NbrChildren</th>\n",
       "      <th>Income</th>\n",
       "      <th>Gender</th>\n",
       "      <th>Wealth</th>\n",
       "      <th>AvgHomeValue</th>\n",
       "      <th>MedIncome</th>\n",
       "      <th>AvgIncome</th>\n",
       "      <th>PercentLowIncome</th>\n",
       "      <th>NbrProm</th>\n",
       "      <th>TotalGift</th>\n",
       "      <th>MaxGift</th>\n",
       "      <th>LastGift</th>\n",
       "      <th>MonthsSinceLast</th>\n",
       "      <th>TimeLag</th>\n",
       "      <th>AvgGift</th>\n",
       "      <th>IsDonor</th>\n",
       "      <th>DonationAmount</th>\n",
       "    </tr>\n",
       "    <tr>\n",
       "      <th>Region</th>\n",
       "      <th></th>\n",
       "      <th></th>\n",
       "      <th></th>\n",
       "      <th></th>\n",
       "      <th></th>\n",
       "      <th></th>\n",
       "      <th></th>\n",
       "      <th></th>\n",
       "      <th></th>\n",
       "      <th></th>\n",
       "      <th></th>\n",
       "      <th></th>\n",
       "      <th></th>\n",
       "      <th></th>\n",
       "      <th></th>\n",
       "      <th></th>\n",
       "      <th></th>\n",
       "      <th></th>\n",
       "      <th></th>\n",
       "      <th></th>\n",
       "      <th></th>\n",
       "      <th></th>\n",
       "    </tr>\n",
       "  </thead>\n",
       "  <tbody>\n",
       "    <tr>\n",
       "      <th>1</th>\n",
       "      <td>669</td>\n",
       "      <td>669</td>\n",
       "      <td>669</td>\n",
       "      <td>669</td>\n",
       "      <td>669</td>\n",
       "      <td>669</td>\n",
       "      <td>669</td>\n",
       "      <td>669</td>\n",
       "      <td>669</td>\n",
       "      <td>669</td>\n",
       "      <td>669</td>\n",
       "      <td>669</td>\n",
       "      <td>669</td>\n",
       "      <td>669</td>\n",
       "      <td>669</td>\n",
       "      <td>669</td>\n",
       "      <td>669</td>\n",
       "      <td>669</td>\n",
       "      <td>669</td>\n",
       "      <td>669</td>\n",
       "      <td>669</td>\n",
       "      <td>669</td>\n",
       "    </tr>\n",
       "    <tr>\n",
       "      <th>2</th>\n",
       "      <td>578</td>\n",
       "      <td>578</td>\n",
       "      <td>578</td>\n",
       "      <td>578</td>\n",
       "      <td>578</td>\n",
       "      <td>578</td>\n",
       "      <td>578</td>\n",
       "      <td>578</td>\n",
       "      <td>578</td>\n",
       "      <td>578</td>\n",
       "      <td>578</td>\n",
       "      <td>578</td>\n",
       "      <td>578</td>\n",
       "      <td>578</td>\n",
       "      <td>578</td>\n",
       "      <td>578</td>\n",
       "      <td>578</td>\n",
       "      <td>578</td>\n",
       "      <td>578</td>\n",
       "      <td>578</td>\n",
       "      <td>578</td>\n",
       "      <td>578</td>\n",
       "    </tr>\n",
       "    <tr>\n",
       "      <th>3</th>\n",
       "      <td>669</td>\n",
       "      <td>669</td>\n",
       "      <td>669</td>\n",
       "      <td>669</td>\n",
       "      <td>669</td>\n",
       "      <td>669</td>\n",
       "      <td>669</td>\n",
       "      <td>669</td>\n",
       "      <td>669</td>\n",
       "      <td>669</td>\n",
       "      <td>669</td>\n",
       "      <td>669</td>\n",
       "      <td>669</td>\n",
       "      <td>669</td>\n",
       "      <td>669</td>\n",
       "      <td>669</td>\n",
       "      <td>669</td>\n",
       "      <td>669</td>\n",
       "      <td>669</td>\n",
       "      <td>669</td>\n",
       "      <td>669</td>\n",
       "      <td>669</td>\n",
       "    </tr>\n",
       "    <tr>\n",
       "      <th>4</th>\n",
       "      <td>1200</td>\n",
       "      <td>1200</td>\n",
       "      <td>1200</td>\n",
       "      <td>1200</td>\n",
       "      <td>1200</td>\n",
       "      <td>1200</td>\n",
       "      <td>1200</td>\n",
       "      <td>1200</td>\n",
       "      <td>1200</td>\n",
       "      <td>1200</td>\n",
       "      <td>1200</td>\n",
       "      <td>1200</td>\n",
       "      <td>1200</td>\n",
       "      <td>1200</td>\n",
       "      <td>1200</td>\n",
       "      <td>1200</td>\n",
       "      <td>1200</td>\n",
       "      <td>1200</td>\n",
       "      <td>1200</td>\n",
       "      <td>1200</td>\n",
       "      <td>1200</td>\n",
       "      <td>1200</td>\n",
       "    </tr>\n",
       "    <tr>\n",
       "      <th>5</th>\n",
       "      <td>4</td>\n",
       "      <td>4</td>\n",
       "      <td>4</td>\n",
       "      <td>4</td>\n",
       "      <td>4</td>\n",
       "      <td>4</td>\n",
       "      <td>4</td>\n",
       "      <td>4</td>\n",
       "      <td>4</td>\n",
       "      <td>4</td>\n",
       "      <td>4</td>\n",
       "      <td>4</td>\n",
       "      <td>4</td>\n",
       "      <td>4</td>\n",
       "      <td>4</td>\n",
       "      <td>4</td>\n",
       "      <td>4</td>\n",
       "      <td>4</td>\n",
       "      <td>4</td>\n",
       "      <td>4</td>\n",
       "      <td>4</td>\n",
       "      <td>4</td>\n",
       "    </tr>\n",
       "  </tbody>\n",
       "</table>\n",
       "</div>"
      ],
      "text/plain": [
       "        Region1  Region2  Region3  Region4  IsHomeOwner  NbrChildren  Income  \\\n",
       "Region                                                                         \n",
       "1           669      669      669      669          669          669     669   \n",
       "2           578      578      578      578          578          578     578   \n",
       "3           669      669      669      669          669          669     669   \n",
       "4          1200     1200     1200     1200         1200         1200    1200   \n",
       "5             4        4        4        4            4            4       4   \n",
       "\n",
       "        Gender  Wealth  AvgHomeValue  MedIncome  AvgIncome  PercentLowIncome  \\\n",
       "Region                                                                         \n",
       "1          669     669           669        669        669               669   \n",
       "2          578     578           578        578        578               578   \n",
       "3          669     669           669        669        669               669   \n",
       "4         1200    1200          1200       1200       1200              1200   \n",
       "5            4       4             4          4          4                 4   \n",
       "\n",
       "        NbrProm  TotalGift  MaxGift  LastGift  MonthsSinceLast  TimeLag  \\\n",
       "Region                                                                    \n",
       "1           669        669      669       669              669      669   \n",
       "2           578        578      578       578              578      578   \n",
       "3           669        669      669       669              669      669   \n",
       "4          1200       1200     1200      1200             1200     1200   \n",
       "5             4          4        4         4                4        4   \n",
       "\n",
       "        AvgGift  IsDonor  DonationAmount  \n",
       "Region                                    \n",
       "1           669      669             669  \n",
       "2           578      578             578  \n",
       "3           669      669             669  \n",
       "4          1200     1200            1200  \n",
       "5             4        4               4  "
      ]
     },
     "execution_count": 90,
     "metadata": {},
     "output_type": "execute_result"
    }
   ],
   "source": [
    "# df_donors.count()\n",
    "df_donors.groupby('Region').count()"
   ]
  },
  {
   "cell_type": "code",
   "execution_count": 120,
   "metadata": {},
   "outputs": [
    {
     "name": "stdout",
     "output_type": "stream",
     "text": [
      "1.0\n",
      "Percentage of donors from Region 1 is 21.44%\n",
      "Percentage of donors from Region 2 is 18.53%\n",
      "Percentage of donors from Region 3 is 21.44%\n",
      "Percentage of donors from Region 4 is 38.46%\n",
      "Percentage of donors from Region 5 is 0.13%\n"
     ]
    }
   ],
   "source": [
    "#validate Number of Region by values \n",
    "Region1_count = len(df_donors[df_donors['Region']==1])\n",
    "Region2_count = len(df_donors[df_donors['Region']==2])\n",
    "Region3_count = len(df_donors[df_donors['Region']==3])\n",
    "Region4_count = len(df_donors[df_donors['Region']==4])\n",
    "Region5_count = len(df_donors[df_donors['Region']==5])\n",
    "\n",
    "print((Region1_count+Region2_count+Region3_count+Region4_count+Region5_count)/len(df_donors)) #1.0\n",
    "\n",
    "print('Percentage of donors from Region 1 is {}%'.format(round((Region1_count)/len(df_donors)*100,2))) #1.0\n",
    "print('Percentage of donors from Region 2 is {}%'.format(round((Region2_count)/len(df_donors)*100,2)))\n",
    "print('Percentage of donors from Region 3 is {}%'.format(round((Region3_count)/len(df_donors)*100,2)))\n",
    "print('Percentage of donors from Region 4 is {}%'.format(round((Region4_count)/len(df_donors)*100,2)))\n",
    "print('Percentage of donors from Region 5 is {}%'.format(round((Region5_count)/len(df_donors)*100,2)))"
   ]
  },
  {
   "cell_type": "code",
   "execution_count": 122,
   "metadata": {},
   "outputs": [
    {
     "name": "stdout",
     "output_type": "stream",
     "text": [
      "Number of male donors are  1901  Ratio is 60.93%\n",
      "Number of female donors are 1219  Ratio is 39.07%\n"
     ]
    }
   ],
   "source": [
    "# Number of Donors by Gender\n",
    "male_donors = len(df_donors[df_donors['Gender']==1])\n",
    "female_donors = len(df_donors[df_donors['Gender']==0])\n",
    "\n",
    "print('Number of male donors are ',male_donors,' Ratio is {}%'.format(round(male_donors/len(df_donors) *100,2)))\n",
    "print('Number of female donors are',female_donors,' Ratio is {}%'.format(round(female_donors/len(df_donors)*100,2)))"
   ]
  },
  {
   "cell_type": "code",
   "execution_count": null,
   "metadata": {},
   "outputs": [],
   "source": []
  }
 ],
 "metadata": {
  "kernelspec": {
   "display_name": "Python 3",
   "language": "python",
   "name": "python3"
  },
  "language_info": {
   "codemirror_mode": {
    "name": "ipython",
    "version": 3
   },
   "file_extension": ".py",
   "mimetype": "text/x-python",
   "name": "python",
   "nbconvert_exporter": "python",
   "pygments_lexer": "ipython3",
   "version": "3.7.6"
  }
 },
 "nbformat": 4,
 "nbformat_minor": 4
}
